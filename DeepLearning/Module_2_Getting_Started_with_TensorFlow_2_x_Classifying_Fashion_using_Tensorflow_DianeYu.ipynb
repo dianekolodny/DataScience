{
  "nbformat": 4,
  "nbformat_minor": 0,
  "metadata": {
    "accelerator": "GPU",
    "colab": {
      "name": "Module_2_Getting_Started_with_TensorFlow_2_x_Classifying_Handwritten_digits_using_Tensorflow_2_x (1).ipynb",
      "provenance": [],
      "collapsed_sections": [],
      "toc_visible": true
    },
    "kernelspec": {
      "display_name": "Python 3",
      "language": "python",
      "name": "python3"
    },
    "language_info": {
      "codemirror_mode": {
        "name": "ipython",
        "version": 3
      },
      "file_extension": ".py",
      "mimetype": "text/x-python",
      "name": "python",
      "nbconvert_exporter": "python",
      "pygments_lexer": "ipython3",
      "version": "3.7.6"
    }
  },
  "cells": [
    {
      "cell_type": "markdown",
      "metadata": {
        "id": "XxeyelGk_Tp4"
      },
      "source": [
        "# Classifying Fashion Clothing items using Tensorflow 2.x"
      ]
    },
    {
      "cell_type": "markdown",
      "metadata": {
        "id": "VqFvADlTZgrp"
      },
      "source": [
        "This is a [Google Colaboratory](https://colab.research.google.com/notebooks/welcome.ipynb) notebook file. Python programs are run directly in the browser—a great way to learn and use TensorFlow. To follow this tutorial, run the notebook in Google Colab by clicking the button at the top of this page.\n",
        "\n",
        "1. In Colab, connect to a Python runtime: At the top-right of the menu bar, select *CONNECT*.\n",
        "2. Run all the notebook code cells: Select *Runtime* > *Run all*."
      ]
    },
    {
      "cell_type": "markdown",
      "metadata": {
        "id": "HruLQ2fqS3f2"
      },
      "source": [
        "####**Tasks to be Performed**"
      ]
    },
    {
      "cell_type": "markdown",
      "metadata": {
        "id": "GtuEkgrQS7Rs"
      },
      "source": [
        "**Problem Statement**\n",
        "The dataset is similar to MNIST, but includes images of certain clothing and accessory. The objective is to classify images into specific classes using single layer perceptron and multilayer perceptron.\n",
        "\n",
        "**Dataset Description**\n",
        "Total Images: 70,000\n",
        "Train Images: 60,000\n",
        "Test Images: 10,000\n",
        "Image Size: 28 X 28\n",
        "Classes: 'T-shirt/top', 'Trouser', 'Pullover', 'Dress', 'Coat', 'Sandal', 'Shirt', 'Sneaker', 'Bag', 'Ankle Boot'\n",
        "\n",
        "**Tasks to be Performed:**\n",
        "As a part of this assignment you will be performing the following tasks:\n",
        "\n",
        "> Prepare a detailed python notebook(similar to this one) using muli-layer perceptron for classifing the images from MNIST Fashion Dataset with best accuracy\n",
        "> Prepare the dataset for the model\n",
        "> Develop Single Layer Perceptron model for classifying the fashion dataset\n",
        "> Plot the change in accuracy per epochs\n",
        "> Evaluate the model on the testing data\n",
        "> Analyse the model summary\n",
        "> Add hidden layer to the model to make it Multi-Layer Perceptron\n",
        "> Add Dropout to prevent overfitting and check its effect on accuracy\n",
        "> Increasing the number of Hidden Layer neuron and check its effect on accuracy\n",
        "> Use different optimizers and check its effect on accuracy\n",
        "> Increase the hidden layers and check its effect on accuracy\n",
        "> Manipulate the batch_size and epochs and check its effect on accuracy"
      ]
    },
    {
      "cell_type": "markdown",
      "metadata": {
        "id": "szLxFVyIytsv"
      },
      "source": [
        "# Solution: Classifying Fashion Clothing items using Tensorflow 2.x"
      ]
    },
    {
      "cell_type": "markdown",
      "metadata": {
        "id": "yZBPiGLXYGUM"
      },
      "source": [
        "##Installing TensorFlow 2.x"
      ]
    },
    {
      "cell_type": "code",
      "metadata": {
        "id": "qSt1IGYaYe_y"
      },
      "source": [
        "# !pip install tensorflow"
      ],
      "execution_count": 1,
      "outputs": []
    },
    {
      "cell_type": "code",
      "metadata": {
        "id": "knttI4ECLnHE",
        "outputId": "30bf6ac1-4ef2-4e94-88cc-3cae48373628",
        "colab": {
          "base_uri": "https://localhost:8080/"
        }
      },
      "source": [
        "#verify the installation\n",
        "import tensorflow as tf\n",
        "from tensorflow import keras \n",
        "\n",
        "#Check tf.keras version\n",
        "print(tf.keras.__version__)\n"
      ],
      "execution_count": 2,
      "outputs": [
        {
          "output_type": "stream",
          "text": [
            "2.4.0\n"
          ],
          "name": "stdout"
        }
      ]
    },
    {
      "cell_type": "markdown",
      "metadata": {
        "id": "RaTcM_Gk_jco"
      },
      "source": [
        "##Preparing the Data"
      ]
    },
    {
      "cell_type": "markdown",
      "metadata": {
        "id": "M0UnlNytbPmC"
      },
      "source": [
        "###Loading the Data"
      ]
    },
    {
      "cell_type": "markdown",
      "metadata": {
        "id": "peAAgeflZwcH"
      },
      "source": [
        "Load and prepare the [MNIST dataset](http://yann.lecun.com/exdb/mnist/) and convert the samples from integers to floating-point numbers and deal with categorical data:"
      ]
    },
    {
      "cell_type": "code",
      "metadata": {
        "id": "c8-PSPuqLn_K",
        "outputId": "577e1c53-0b23-4de8-8a06-e94492e78c7f",
        "colab": {
          "base_uri": "https://localhost:8080/"
        }
      },
      "source": [
        "# Loading MNIST dataset\n",
        "fashion_mnist = keras.datasets.fashion_mnist \n",
        "(X_train, Y_train), (X_test, Y_test) = fashion_mnist.load_data()"
      ],
      "execution_count": 3,
      "outputs": [
        {
          "output_type": "stream",
          "text": [
            "Downloading data from https://storage.googleapis.com/tensorflow/tf-keras-datasets/train-labels-idx1-ubyte.gz\n",
            "32768/29515 [=================================] - 0s 0us/step\n",
            "Downloading data from https://storage.googleapis.com/tensorflow/tf-keras-datasets/train-images-idx3-ubyte.gz\n",
            "26427392/26421880 [==============================] - 0s 0us/step\n",
            "Downloading data from https://storage.googleapis.com/tensorflow/tf-keras-datasets/t10k-labels-idx1-ubyte.gz\n",
            "8192/5148 [===============================================] - 0s 0us/step\n",
            "Downloading data from https://storage.googleapis.com/tensorflow/tf-keras-datasets/t10k-images-idx3-ubyte.gz\n",
            "4423680/4422102 [==============================] - 0s 0us/step\n"
          ],
          "name": "stdout"
        }
      ]
    },
    {
      "cell_type": "code",
      "metadata": {
        "id": "t_v4WkSBLrJH",
        "outputId": "4c4a4d66-b61f-4428-f29e-9550b3fde391",
        "colab": {
          "base_uri": "https://localhost:8080/"
        }
      },
      "source": [
        "# Data Exploration\n",
        "print(X_train.shape)\n",
        "print(X_test.shape)"
      ],
      "execution_count": 4,
      "outputs": [
        {
          "output_type": "stream",
          "text": [
            "(60000, 28, 28)\n",
            "(10000, 28, 28)\n"
          ],
          "name": "stdout"
        }
      ]
    },
    {
      "cell_type": "markdown",
      "metadata": {
        "id": "WQR_cGsYaWVD"
      },
      "source": [
        "###Data Preprocessing"
      ]
    },
    {
      "cell_type": "code",
      "metadata": {
        "id": "eH99QHr5Pyz0"
      },
      "source": [
        "X_train = X_train.astype('float32')\n",
        "X_test = X_test.astype('float32') "
      ],
      "execution_count": 5,
      "outputs": []
    },
    {
      "cell_type": "code",
      "metadata": {
        "id": "5uAo7yDtRhbG",
        "outputId": "5d23c053-9724-445d-cb81-24d0aea7a4d3",
        "colab": {
          "base_uri": "https://localhost:8080/"
        }
      },
      "source": [
        "# X_train is 60000 rows of 28x28 values; we reshape it to # 60000 x 784. \n",
        "RESHAPED = 784 # 28x28 = 784 neurons\n",
        "X_train = X_train.reshape(60000, RESHAPED) \n",
        "X_test = X_test.reshape(10000, RESHAPED) \n",
        "\n",
        "# Data is converted into float32 to use 32-bit precision # when training a neural network \n",
        "X_train = X_train.astype('float32')\n",
        "X_test = X_test.astype('float32') \n",
        "\n",
        "# Normalizing the input to be within the range [0,1]\n",
        "X_train /= 255\n",
        "#intensity of each pixel is divided by 255, the maximum intensity value\n",
        "X_test /= 255\n",
        "print(X_train.shape[0], 'train samples') \n",
        "print(X_test.shape[0], 'test samples') \n",
        "\n",
        "# One-hot representation of the labels.\n",
        "Y_train = tf.keras.utils.to_categorical(Y_train, 10) \n",
        "Y_test = tf.keras.utils.to_categorical(Y_test, 10)\n"
      ],
      "execution_count": 6,
      "outputs": [
        {
          "output_type": "stream",
          "text": [
            "60000 train samples\n",
            "10000 test samples\n"
          ],
          "name": "stdout"
        }
      ]
    },
    {
      "cell_type": "markdown",
      "metadata": {
        "id": "8g6qsSi21x97"
      },
      "source": [
        "## Designing the Model"
      ]
    },
    {
      "cell_type": "markdown",
      "metadata": {
        "id": "ajqy56PT_pHr"
      },
      "source": [
        "###Preparing the Model 0: Single layer Perceptron"
      ]
    },
    {
      "cell_type": "markdown",
      "metadata": {
        "id": "wncYBuNkaCFf"
      },
      "source": [
        "Build the `Sequential` model with 0 hidden layers. Choose an optimizer and loss function for training:"
      ]
    },
    {
      "cell_type": "code",
      "metadata": {
        "id": "2Q5jFOQUM-c0"
      },
      "source": [
        "import tensorflow as tf\n",
        "from tensorflow.keras.layers import Dense\n",
        "from tensorflow.keras import Sequential\n",
        "model_0 = Sequential()\n",
        "# Now the model will take as input arrays of shape (*, 784)# and output arrays of shape (*, 10)\n",
        "model_0.add(Dense(10,input_shape=(784,),name='dense_layer', activation='softmax')) "
      ],
      "execution_count": 7,
      "outputs": []
    },
    {
      "cell_type": "code",
      "metadata": {
        "id": "ocCzyD2SWC9I"
      },
      "source": [
        "# Compiling the model.\n",
        "model_0.compile(optimizer='SGD', \n",
        "              loss='categorical_crossentropy',\n",
        "              metrics=['accuracy'])"
      ],
      "execution_count": 8,
      "outputs": []
    },
    {
      "cell_type": "code",
      "metadata": {
        "id": "fvAt9Atl-cnx",
        "outputId": "d3b7e0f8-61f7-4c2e-d3a3-277e69db1c9a",
        "colab": {
          "base_uri": "https://localhost:8080/"
        }
      },
      "source": [
        "# Training the model. \n",
        "training = model_0.fit(X_train, Y_train, batch_size=64, epochs=70, validation_split=0.2) "
      ],
      "execution_count": 9,
      "outputs": [
        {
          "output_type": "stream",
          "text": [
            "Epoch 1/70\n",
            "  1/750 [..............................] - ETA: 0s - loss: 2.5685 - accuracy: 0.1250WARNING:tensorflow:Callbacks method `on_train_batch_end` is slow compared to the batch time (batch time: 0.0029s vs `on_train_batch_end` time: 0.0046s). Check your callbacks.\n",
            "750/750 [==============================] - 2s 3ms/step - loss: 1.0536 - accuracy: 0.6765 - val_loss: 0.7631 - val_accuracy: 0.7571\n",
            "Epoch 2/70\n",
            "750/750 [==============================] - 2s 3ms/step - loss: 0.7081 - accuracy: 0.7747 - val_loss: 0.6554 - val_accuracy: 0.7894\n",
            "Epoch 3/70\n",
            "750/750 [==============================] - 2s 2ms/step - loss: 0.6348 - accuracy: 0.7965 - val_loss: 0.6084 - val_accuracy: 0.7994\n",
            "Epoch 4/70\n",
            "750/750 [==============================] - 2s 2ms/step - loss: 0.5956 - accuracy: 0.8082 - val_loss: 0.5806 - val_accuracy: 0.8078\n",
            "Epoch 5/70\n",
            "750/750 [==============================] - 2s 2ms/step - loss: 0.5697 - accuracy: 0.8152 - val_loss: 0.5591 - val_accuracy: 0.8125\n",
            "Epoch 6/70\n",
            "750/750 [==============================] - 2s 2ms/step - loss: 0.5511 - accuracy: 0.8216 - val_loss: 0.5446 - val_accuracy: 0.8169\n",
            "Epoch 7/70\n",
            "750/750 [==============================] - 2s 2ms/step - loss: 0.5366 - accuracy: 0.8248 - val_loss: 0.5321 - val_accuracy: 0.8205\n",
            "Epoch 8/70\n",
            "750/750 [==============================] - 2s 3ms/step - loss: 0.5250 - accuracy: 0.8289 - val_loss: 0.5220 - val_accuracy: 0.8242\n",
            "Epoch 9/70\n",
            "750/750 [==============================] - 2s 2ms/step - loss: 0.5157 - accuracy: 0.8303 - val_loss: 0.5145 - val_accuracy: 0.8264\n",
            "Epoch 10/70\n",
            "750/750 [==============================] - 2s 2ms/step - loss: 0.5078 - accuracy: 0.8328 - val_loss: 0.5075 - val_accuracy: 0.8286\n",
            "Epoch 11/70\n",
            "750/750 [==============================] - 2s 2ms/step - loss: 0.5005 - accuracy: 0.8347 - val_loss: 0.5024 - val_accuracy: 0.8290\n",
            "Epoch 12/70\n",
            "750/750 [==============================] - 2s 2ms/step - loss: 0.4946 - accuracy: 0.8363 - val_loss: 0.4956 - val_accuracy: 0.8320\n",
            "Epoch 13/70\n",
            "750/750 [==============================] - 2s 2ms/step - loss: 0.4893 - accuracy: 0.8382 - val_loss: 0.4912 - val_accuracy: 0.8319\n",
            "Epoch 14/70\n",
            "750/750 [==============================] - 2s 2ms/step - loss: 0.4842 - accuracy: 0.8387 - val_loss: 0.4888 - val_accuracy: 0.8338\n",
            "Epoch 15/70\n",
            "750/750 [==============================] - 2s 3ms/step - loss: 0.4801 - accuracy: 0.8400 - val_loss: 0.4856 - val_accuracy: 0.8335\n",
            "Epoch 16/70\n",
            "750/750 [==============================] - 2s 2ms/step - loss: 0.4759 - accuracy: 0.8418 - val_loss: 0.4806 - val_accuracy: 0.8360\n",
            "Epoch 17/70\n",
            "750/750 [==============================] - 2s 2ms/step - loss: 0.4727 - accuracy: 0.8428 - val_loss: 0.4778 - val_accuracy: 0.8356\n",
            "Epoch 18/70\n",
            "750/750 [==============================] - 2s 2ms/step - loss: 0.4692 - accuracy: 0.8430 - val_loss: 0.4775 - val_accuracy: 0.8355\n",
            "Epoch 19/70\n",
            "750/750 [==============================] - 2s 2ms/step - loss: 0.4664 - accuracy: 0.8437 - val_loss: 0.4719 - val_accuracy: 0.8388\n",
            "Epoch 20/70\n",
            "750/750 [==============================] - 2s 2ms/step - loss: 0.4635 - accuracy: 0.8447 - val_loss: 0.4699 - val_accuracy: 0.8406\n",
            "Epoch 21/70\n",
            "750/750 [==============================] - 2s 2ms/step - loss: 0.4608 - accuracy: 0.8455 - val_loss: 0.4678 - val_accuracy: 0.8405\n",
            "Epoch 22/70\n",
            "750/750 [==============================] - 2s 2ms/step - loss: 0.4583 - accuracy: 0.8464 - val_loss: 0.4656 - val_accuracy: 0.8396\n",
            "Epoch 23/70\n",
            "750/750 [==============================] - 2s 2ms/step - loss: 0.4560 - accuracy: 0.8474 - val_loss: 0.4627 - val_accuracy: 0.8408\n",
            "Epoch 24/70\n",
            "750/750 [==============================] - 2s 2ms/step - loss: 0.4539 - accuracy: 0.8483 - val_loss: 0.4621 - val_accuracy: 0.8403\n",
            "Epoch 25/70\n",
            "750/750 [==============================] - 2s 2ms/step - loss: 0.4520 - accuracy: 0.8487 - val_loss: 0.4597 - val_accuracy: 0.8419\n",
            "Epoch 26/70\n",
            "750/750 [==============================] - 2s 3ms/step - loss: 0.4499 - accuracy: 0.8495 - val_loss: 0.4581 - val_accuracy: 0.8426\n",
            "Epoch 27/70\n",
            "750/750 [==============================] - 2s 2ms/step - loss: 0.4481 - accuracy: 0.8492 - val_loss: 0.4577 - val_accuracy: 0.8432\n",
            "Epoch 28/70\n",
            "750/750 [==============================] - 2s 2ms/step - loss: 0.4465 - accuracy: 0.8502 - val_loss: 0.4574 - val_accuracy: 0.8418\n",
            "Epoch 29/70\n",
            "750/750 [==============================] - 2s 2ms/step - loss: 0.4448 - accuracy: 0.8509 - val_loss: 0.4548 - val_accuracy: 0.8440\n",
            "Epoch 30/70\n",
            "750/750 [==============================] - 2s 2ms/step - loss: 0.4432 - accuracy: 0.8508 - val_loss: 0.4521 - val_accuracy: 0.8444\n",
            "Epoch 31/70\n",
            "750/750 [==============================] - 2s 2ms/step - loss: 0.4417 - accuracy: 0.8512 - val_loss: 0.4528 - val_accuracy: 0.8446\n",
            "Epoch 32/70\n",
            "750/750 [==============================] - 2s 2ms/step - loss: 0.4404 - accuracy: 0.8509 - val_loss: 0.4512 - val_accuracy: 0.8449\n",
            "Epoch 33/70\n",
            "750/750 [==============================] - 2s 2ms/step - loss: 0.4391 - accuracy: 0.8518 - val_loss: 0.4488 - val_accuracy: 0.8457\n",
            "Epoch 34/70\n",
            "750/750 [==============================] - 2s 2ms/step - loss: 0.4379 - accuracy: 0.8523 - val_loss: 0.4483 - val_accuracy: 0.8462\n",
            "Epoch 35/70\n",
            "750/750 [==============================] - 2s 2ms/step - loss: 0.4365 - accuracy: 0.8527 - val_loss: 0.4467 - val_accuracy: 0.8475\n",
            "Epoch 36/70\n",
            "750/750 [==============================] - 2s 2ms/step - loss: 0.4354 - accuracy: 0.8534 - val_loss: 0.4491 - val_accuracy: 0.8476\n",
            "Epoch 37/70\n",
            "750/750 [==============================] - 2s 2ms/step - loss: 0.4341 - accuracy: 0.8534 - val_loss: 0.4474 - val_accuracy: 0.8470\n",
            "Epoch 38/70\n",
            "750/750 [==============================] - 2s 2ms/step - loss: 0.4332 - accuracy: 0.8536 - val_loss: 0.4451 - val_accuracy: 0.8457\n",
            "Epoch 39/70\n",
            "750/750 [==============================] - 2s 2ms/step - loss: 0.4319 - accuracy: 0.8543 - val_loss: 0.4433 - val_accuracy: 0.8478\n",
            "Epoch 40/70\n",
            "750/750 [==============================] - 2s 2ms/step - loss: 0.4308 - accuracy: 0.8542 - val_loss: 0.4438 - val_accuracy: 0.8469\n",
            "Epoch 41/70\n",
            "750/750 [==============================] - 2s 2ms/step - loss: 0.4300 - accuracy: 0.8549 - val_loss: 0.4416 - val_accuracy: 0.8484\n",
            "Epoch 42/70\n",
            "750/750 [==============================] - 2s 2ms/step - loss: 0.4289 - accuracy: 0.8552 - val_loss: 0.4417 - val_accuracy: 0.8493\n",
            "Epoch 43/70\n",
            "750/750 [==============================] - 2s 2ms/step - loss: 0.4279 - accuracy: 0.8546 - val_loss: 0.4439 - val_accuracy: 0.8478\n",
            "Epoch 44/70\n",
            "750/750 [==============================] - 2s 2ms/step - loss: 0.4270 - accuracy: 0.8555 - val_loss: 0.4397 - val_accuracy: 0.8505\n",
            "Epoch 45/70\n",
            "750/750 [==============================] - 2s 2ms/step - loss: 0.4263 - accuracy: 0.8560 - val_loss: 0.4408 - val_accuracy: 0.8488\n",
            "Epoch 46/70\n",
            "750/750 [==============================] - 2s 2ms/step - loss: 0.4256 - accuracy: 0.8562 - val_loss: 0.4384 - val_accuracy: 0.8488\n",
            "Epoch 47/70\n",
            "750/750 [==============================] - 2s 2ms/step - loss: 0.4246 - accuracy: 0.8565 - val_loss: 0.4397 - val_accuracy: 0.8497\n",
            "Epoch 48/70\n",
            "750/750 [==============================] - 2s 2ms/step - loss: 0.4240 - accuracy: 0.8566 - val_loss: 0.4372 - val_accuracy: 0.8505\n",
            "Epoch 49/70\n",
            "750/750 [==============================] - 2s 2ms/step - loss: 0.4232 - accuracy: 0.8566 - val_loss: 0.4376 - val_accuracy: 0.8482\n",
            "Epoch 50/70\n",
            "750/750 [==============================] - 2s 2ms/step - loss: 0.4222 - accuracy: 0.8571 - val_loss: 0.4362 - val_accuracy: 0.8498\n",
            "Epoch 51/70\n",
            "750/750 [==============================] - 2s 2ms/step - loss: 0.4215 - accuracy: 0.8572 - val_loss: 0.4367 - val_accuracy: 0.8502\n",
            "Epoch 52/70\n",
            "750/750 [==============================] - 2s 2ms/step - loss: 0.4210 - accuracy: 0.8578 - val_loss: 0.4353 - val_accuracy: 0.8503\n",
            "Epoch 53/70\n",
            "750/750 [==============================] - 2s 2ms/step - loss: 0.4203 - accuracy: 0.8567 - val_loss: 0.4346 - val_accuracy: 0.8503\n",
            "Epoch 54/70\n",
            "750/750 [==============================] - 2s 2ms/step - loss: 0.4195 - accuracy: 0.8575 - val_loss: 0.4358 - val_accuracy: 0.8504\n",
            "Epoch 55/70\n",
            "750/750 [==============================] - 2s 2ms/step - loss: 0.4188 - accuracy: 0.8576 - val_loss: 0.4352 - val_accuracy: 0.8503\n",
            "Epoch 56/70\n",
            "750/750 [==============================] - 2s 2ms/step - loss: 0.4182 - accuracy: 0.8586 - val_loss: 0.4335 - val_accuracy: 0.8510\n",
            "Epoch 57/70\n",
            "750/750 [==============================] - 2s 2ms/step - loss: 0.4178 - accuracy: 0.8586 - val_loss: 0.4332 - val_accuracy: 0.8512\n",
            "Epoch 58/70\n",
            "750/750 [==============================] - 2s 2ms/step - loss: 0.4171 - accuracy: 0.8587 - val_loss: 0.4325 - val_accuracy: 0.8518\n",
            "Epoch 59/70\n",
            "750/750 [==============================] - 2s 2ms/step - loss: 0.4163 - accuracy: 0.8586 - val_loss: 0.4336 - val_accuracy: 0.8525\n",
            "Epoch 60/70\n",
            "750/750 [==============================] - 2s 2ms/step - loss: 0.4160 - accuracy: 0.8586 - val_loss: 0.4316 - val_accuracy: 0.8516\n",
            "Epoch 61/70\n",
            "750/750 [==============================] - 2s 2ms/step - loss: 0.4151 - accuracy: 0.8588 - val_loss: 0.4327 - val_accuracy: 0.8524\n",
            "Epoch 62/70\n",
            "750/750 [==============================] - 2s 2ms/step - loss: 0.4146 - accuracy: 0.8594 - val_loss: 0.4319 - val_accuracy: 0.8508\n",
            "Epoch 63/70\n",
            "750/750 [==============================] - 2s 2ms/step - loss: 0.4142 - accuracy: 0.8592 - val_loss: 0.4322 - val_accuracy: 0.8522\n",
            "Epoch 64/70\n",
            "750/750 [==============================] - 2s 2ms/step - loss: 0.4137 - accuracy: 0.8595 - val_loss: 0.4298 - val_accuracy: 0.8546\n",
            "Epoch 65/70\n",
            "750/750 [==============================] - 2s 2ms/step - loss: 0.4131 - accuracy: 0.8593 - val_loss: 0.4317 - val_accuracy: 0.8524\n",
            "Epoch 66/70\n",
            "750/750 [==============================] - 2s 2ms/step - loss: 0.4125 - accuracy: 0.8600 - val_loss: 0.4293 - val_accuracy: 0.8529\n",
            "Epoch 67/70\n",
            "750/750 [==============================] - 2s 2ms/step - loss: 0.4122 - accuracy: 0.8595 - val_loss: 0.4295 - val_accuracy: 0.8519\n",
            "Epoch 68/70\n",
            "750/750 [==============================] - 2s 2ms/step - loss: 0.4115 - accuracy: 0.8604 - val_loss: 0.4292 - val_accuracy: 0.8537\n",
            "Epoch 69/70\n",
            "750/750 [==============================] - 2s 2ms/step - loss: 0.4111 - accuracy: 0.8598 - val_loss: 0.4281 - val_accuracy: 0.8535\n",
            "Epoch 70/70\n",
            "750/750 [==============================] - 2s 2ms/step - loss: 0.4105 - accuracy: 0.8594 - val_loss: 0.4299 - val_accuracy: 0.8533\n"
          ],
          "name": "stdout"
        }
      ]
    },
    {
      "cell_type": "code",
      "metadata": {
        "id": "hof2yoiDBCab",
        "outputId": "a1fc0608-86fa-4897-873b-91aba158ffa8",
        "colab": {
          "base_uri": "https://localhost:8080/",
          "height": 590
        }
      },
      "source": [
        "import matplotlib.pyplot as plt\n",
        "%matplotlib inline\n",
        "# list all data in training\n",
        "print(training.history.keys())\n",
        "# summarize training for accuracy\n",
        "plt.plot(training.history['accuracy'])\n",
        "plt.plot(training.history['val_accuracy'])\n",
        "plt.title('model accuracy')\n",
        "plt.ylabel('accuracy')\n",
        "plt.xlabel('epoch')\n",
        "plt.legend(['train', 'test'], loc='upper left')\n",
        "plt.show()\n",
        "# summarize traning for loss\n",
        "plt.plot(training.history['loss'])\n",
        "plt.plot(training.history['val_loss'])\n",
        "plt.title('model loss')\n",
        "plt.ylabel('loss')\n",
        "plt.xlabel('epoch')\n",
        "plt.legend(['train', 'test'], loc='upper left')\n",
        "plt.show()"
      ],
      "execution_count": 10,
      "outputs": [
        {
          "output_type": "stream",
          "text": [
            "dict_keys(['loss', 'accuracy', 'val_loss', 'val_accuracy'])\n"
          ],
          "name": "stdout"
        },
        {
          "output_type": "display_data",
          "data": {
            "image/png": "[encoded data removed]",
            "text/plain": [
              "<Figure size 432x288 with 1 Axes>"
            ]
          },
          "metadata": {
            "tags": [],
            "needs_background": "light"
          }
        },
        {
          "output_type": "display_data",
          "data": {
            "image/png": "[encoded data removed]",
            "text/plain": [
              "<Figure size 432x288 with 1 Axes>"
            ]
          },
          "metadata": {
            "tags": [],
            "needs_background": "light"
          }
        }
      ]
    },
    {
      "cell_type": "code",
      "metadata": {
        "id": "SzP_B7w7_1tj",
        "outputId": "5502e663-175c-4dea-f033-76118597cb9e",
        "colab": {
          "base_uri": "https://localhost:8080/"
        }
      },
      "source": [
        "#evaluate the model\n",
        "test_loss, test_acc = model_0.evaluate(X_test, Y_test)\n",
        "print('Test accuracy:', test_acc)"
      ],
      "execution_count": 11,
      "outputs": [
        {
          "output_type": "stream",
          "text": [
            "313/313 [==============================] - 1s 2ms/step - loss: 0.4564 - accuracy: 0.8392\n",
            "Test accuracy: 0.8392000198364258\n"
          ],
          "name": "stdout"
        }
      ]
    },
    {
      "cell_type": "code",
      "metadata": {
        "id": "ZrHaOTYTaukM",
        "outputId": "d41e90ea-d728-41c0-ab3a-2aa37b942933",
        "colab": {
          "base_uri": "https://localhost:8080/"
        }
      },
      "source": [
        "model_0.summary"
      ],
      "execution_count": 12,
      "outputs": [
        {
          "output_type": "execute_result",
          "data": {
            "text/plain": [
              "<bound method Model.summary of <tensorflow.python.keras.engine.sequential.Sequential object at 0x7f02314c38d0>>"
            ]
          },
          "metadata": {
            "tags": []
          },
          "execution_count": 12
        }
      ]
    },
    {
      "cell_type": "code",
      "metadata": {
        "id": "SsL3O8UfartE",
        "outputId": "85523bb8-0eb2-4cb1-8bf5-845098b6de53",
        "colab": {
          "base_uri": "https://localhost:8080/"
        }
      },
      "source": [
        "model_0.get_config()"
      ],
      "execution_count": 13,
      "outputs": [
        {
          "output_type": "execute_result",
          "data": {
            "text/plain": [
              "{'layers': [{'class_name': 'InputLayer',\n",
              "   'config': {'batch_input_shape': (None, 784),\n",
              "    'dtype': 'float32',\n",
              "    'name': 'dense_layer_input',\n",
              "    'ragged': False,\n",
              "    'sparse': False}},\n",
              "  {'class_name': 'Dense',\n",
              "   'config': {'activation': 'softmax',\n",
              "    'activity_regularizer': None,\n",
              "    'batch_input_shape': (None, 784),\n",
              "    'bias_constraint': None,\n",
              "    'bias_initializer': {'class_name': 'Zeros', 'config': {}},\n",
              "    'bias_regularizer': None,\n",
              "    'dtype': 'float32',\n",
              "    'kernel_constraint': None,\n",
              "    'kernel_initializer': {'class_name': 'GlorotUniform',\n",
              "     'config': {'seed': None}},\n",
              "    'kernel_regularizer': None,\n",
              "    'name': 'dense_layer',\n",
              "    'trainable': True,\n",
              "    'units': 10,\n",
              "    'use_bias': True}}],\n",
              " 'name': 'sequential'}"
            ]
          },
          "metadata": {
            "tags": []
          },
          "execution_count": 13
        }
      ]
    },
    {
      "cell_type": "markdown",
      "metadata": {
        "id": "n8iGAu5OAO5Y"
      },
      "source": [
        "###Improved Model 1: Adding Hidden Layer - Multi Layer Perceptron "
      ]
    },
    {
      "cell_type": "code",
      "metadata": {
        "id": "VVkZL5uiAhJB"
      },
      "source": [
        "#Most common type of model is a stack of layers\n",
        "model_1 = tf.keras.Sequential()\n",
        "N_hidden = 64\n",
        "# Adds a densely-connected layer with 64 units to the model:\n",
        "model_1.add(Dense(N_hidden, name='dense_layer', input_shape=(784,), activation = 'relu'))\n",
        "# Now the model will take as input arrays of shape (*, 784)# and output arrays of shape (*, 64)\n",
        "\n",
        "# Adding another dense layer:\n",
        "model_1.add(Dense(N_hidden, name='dense_layer_2', activation='relu'))\n",
        "# After the first layer, you don't need to specify\u000b# the size of the input anymore:\n",
        "# Add an output layer with 10 output units (10 different classes):\n",
        "model_1.add(Dense(10, name='dense_layer_3', activation = 'softmax'))"
      ],
      "execution_count": 14,
      "outputs": []
    },
    {
      "cell_type": "code",
      "metadata": {
        "id": "MiYit8ATfCXw"
      },
      "source": [
        "# Compiling the model.\n",
        "model_1.compile(optimizer='SGD', \n",
        "              loss='categorical_crossentropy',\n",
        "              metrics=['accuracy'])"
      ],
      "execution_count": 15,
      "outputs": []
    },
    {
      "cell_type": "code",
      "metadata": {
        "id": "qeWrSoxzfCYE",
        "outputId": "a3de74f4-eb98-4db5-994f-60f31c578449",
        "colab": {
          "base_uri": "https://localhost:8080/"
        }
      },
      "source": [
        "# Training the model. \n",
        "training = model_1.fit(X_train, Y_train, batch_size=64, epochs=100, validation_split=0.2) "
      ],
      "execution_count": 16,
      "outputs": [
        {
          "output_type": "stream",
          "text": [
            "Epoch 1/100\n",
            "  1/750 [..............................] - ETA: 0s - loss: 2.3294 - accuracy: 0.0938WARNING:tensorflow:Callbacks method `on_train_batch_end` is slow compared to the batch time (batch time: 0.0023s vs `on_train_batch_end` time: 0.0035s). Check your callbacks.\n",
            "750/750 [==============================] - 2s 3ms/step - loss: 1.0066 - accuracy: 0.6773 - val_loss: 0.6649 - val_accuracy: 0.7772\n",
            "Epoch 2/100\n",
            "750/750 [==============================] - 2s 2ms/step - loss: 0.6075 - accuracy: 0.7951 - val_loss: 0.5575 - val_accuracy: 0.8069\n",
            "Epoch 3/100\n",
            "750/750 [==============================] - 2s 2ms/step - loss: 0.5315 - accuracy: 0.8183 - val_loss: 0.5326 - val_accuracy: 0.8060\n",
            "Epoch 4/100\n",
            "750/750 [==============================] - 2s 2ms/step - loss: 0.4962 - accuracy: 0.8285 - val_loss: 0.4864 - val_accuracy: 0.8277\n",
            "Epoch 5/100\n",
            "750/750 [==============================] - 2s 2ms/step - loss: 0.4710 - accuracy: 0.8363 - val_loss: 0.4681 - val_accuracy: 0.8349\n",
            "Epoch 6/100\n",
            "750/750 [==============================] - 2s 2ms/step - loss: 0.4517 - accuracy: 0.8405 - val_loss: 0.4481 - val_accuracy: 0.8415\n",
            "Epoch 7/100\n",
            "750/750 [==============================] - 2s 2ms/step - loss: 0.4360 - accuracy: 0.8475 - val_loss: 0.4410 - val_accuracy: 0.8428\n",
            "Epoch 8/100\n",
            "750/750 [==============================] - 2s 3ms/step - loss: 0.4237 - accuracy: 0.8517 - val_loss: 0.4366 - val_accuracy: 0.8436\n",
            "Epoch 9/100\n",
            "750/750 [==============================] - 2s 2ms/step - loss: 0.4129 - accuracy: 0.8558 - val_loss: 0.4234 - val_accuracy: 0.8499\n",
            "Epoch 10/100\n",
            "750/750 [==============================] - 2s 2ms/step - loss: 0.4035 - accuracy: 0.8594 - val_loss: 0.4145 - val_accuracy: 0.8556\n",
            "Epoch 11/100\n",
            "750/750 [==============================] - 2s 2ms/step - loss: 0.3949 - accuracy: 0.8617 - val_loss: 0.4076 - val_accuracy: 0.8563\n",
            "Epoch 12/100\n",
            "750/750 [==============================] - 2s 3ms/step - loss: 0.3877 - accuracy: 0.8641 - val_loss: 0.4161 - val_accuracy: 0.8496\n",
            "Epoch 13/100\n",
            "750/750 [==============================] - 2s 3ms/step - loss: 0.3817 - accuracy: 0.8659 - val_loss: 0.3973 - val_accuracy: 0.8603\n",
            "Epoch 14/100\n",
            "750/750 [==============================] - 2s 3ms/step - loss: 0.3754 - accuracy: 0.8686 - val_loss: 0.4072 - val_accuracy: 0.8533\n",
            "Epoch 15/100\n",
            "750/750 [==============================] - 2s 2ms/step - loss: 0.3692 - accuracy: 0.8710 - val_loss: 0.3853 - val_accuracy: 0.8630\n",
            "Epoch 16/100\n",
            "750/750 [==============================] - 2s 3ms/step - loss: 0.3640 - accuracy: 0.8729 - val_loss: 0.3979 - val_accuracy: 0.8582\n",
            "Epoch 17/100\n",
            "750/750 [==============================] - 2s 2ms/step - loss: 0.3577 - accuracy: 0.8741 - val_loss: 0.3787 - val_accuracy: 0.8656\n",
            "Epoch 18/100\n",
            "750/750 [==============================] - 2s 3ms/step - loss: 0.3548 - accuracy: 0.8746 - val_loss: 0.3787 - val_accuracy: 0.8677\n",
            "Epoch 19/100\n",
            "750/750 [==============================] - 2s 3ms/step - loss: 0.3494 - accuracy: 0.8776 - val_loss: 0.3799 - val_accuracy: 0.8655\n",
            "Epoch 20/100\n",
            "750/750 [==============================] - 2s 2ms/step - loss: 0.3453 - accuracy: 0.8785 - val_loss: 0.3771 - val_accuracy: 0.8662\n",
            "Epoch 21/100\n",
            "750/750 [==============================] - 2s 2ms/step - loss: 0.3430 - accuracy: 0.8791 - val_loss: 0.3882 - val_accuracy: 0.8617\n",
            "Epoch 22/100\n",
            "750/750 [==============================] - 2s 2ms/step - loss: 0.3388 - accuracy: 0.8802 - val_loss: 0.3728 - val_accuracy: 0.8681\n",
            "Epoch 23/100\n",
            "750/750 [==============================] - 2s 2ms/step - loss: 0.3347 - accuracy: 0.8816 - val_loss: 0.3675 - val_accuracy: 0.8695\n",
            "Epoch 24/100\n",
            "750/750 [==============================] - 2s 3ms/step - loss: 0.3316 - accuracy: 0.8821 - val_loss: 0.3706 - val_accuracy: 0.8698\n",
            "Epoch 25/100\n",
            "750/750 [==============================] - 2s 2ms/step - loss: 0.3274 - accuracy: 0.8844 - val_loss: 0.3621 - val_accuracy: 0.8714\n",
            "Epoch 26/100\n",
            "750/750 [==============================] - 2s 2ms/step - loss: 0.3262 - accuracy: 0.8834 - val_loss: 0.3767 - val_accuracy: 0.8662\n",
            "Epoch 27/100\n",
            "750/750 [==============================] - 2s 2ms/step - loss: 0.3223 - accuracy: 0.8849 - val_loss: 0.3641 - val_accuracy: 0.8721\n",
            "Epoch 28/100\n",
            "750/750 [==============================] - 2s 2ms/step - loss: 0.3188 - accuracy: 0.8874 - val_loss: 0.3620 - val_accuracy: 0.8712\n",
            "Epoch 29/100\n",
            "750/750 [==============================] - 2s 2ms/step - loss: 0.3158 - accuracy: 0.8872 - val_loss: 0.3555 - val_accuracy: 0.8740\n",
            "Epoch 30/100\n",
            "750/750 [==============================] - 2s 2ms/step - loss: 0.3141 - accuracy: 0.8881 - val_loss: 0.3534 - val_accuracy: 0.8759\n",
            "Epoch 31/100\n",
            "750/750 [==============================] - 2s 3ms/step - loss: 0.3114 - accuracy: 0.8889 - val_loss: 0.3613 - val_accuracy: 0.8706\n",
            "Epoch 32/100\n",
            "750/750 [==============================] - 2s 3ms/step - loss: 0.3084 - accuracy: 0.8904 - val_loss: 0.3580 - val_accuracy: 0.8736\n",
            "Epoch 33/100\n",
            "750/750 [==============================] - 2s 2ms/step - loss: 0.3065 - accuracy: 0.8912 - val_loss: 0.3570 - val_accuracy: 0.8714\n",
            "Epoch 34/100\n",
            "750/750 [==============================] - 2s 3ms/step - loss: 0.3031 - accuracy: 0.8911 - val_loss: 0.3495 - val_accuracy: 0.8758\n",
            "Epoch 35/100\n",
            "750/750 [==============================] - 2s 3ms/step - loss: 0.3013 - accuracy: 0.8925 - val_loss: 0.3521 - val_accuracy: 0.8773\n",
            "Epoch 36/100\n",
            "750/750 [==============================] - 2s 2ms/step - loss: 0.2987 - accuracy: 0.8933 - val_loss: 0.3529 - val_accuracy: 0.8753\n",
            "Epoch 37/100\n",
            "750/750 [==============================] - 2s 2ms/step - loss: 0.2968 - accuracy: 0.8941 - val_loss: 0.3544 - val_accuracy: 0.8739\n",
            "Epoch 38/100\n",
            "750/750 [==============================] - 2s 2ms/step - loss: 0.2949 - accuracy: 0.8944 - val_loss: 0.3567 - val_accuracy: 0.8713\n",
            "Epoch 39/100\n",
            "750/750 [==============================] - 2s 3ms/step - loss: 0.2917 - accuracy: 0.8952 - val_loss: 0.3454 - val_accuracy: 0.8773\n",
            "Epoch 40/100\n",
            "750/750 [==============================] - 2s 3ms/step - loss: 0.2901 - accuracy: 0.8962 - val_loss: 0.3445 - val_accuracy: 0.8788\n",
            "Epoch 41/100\n",
            "750/750 [==============================] - 2s 2ms/step - loss: 0.2878 - accuracy: 0.8969 - val_loss: 0.3439 - val_accuracy: 0.8781\n",
            "Epoch 42/100\n",
            "750/750 [==============================] - 2s 2ms/step - loss: 0.2856 - accuracy: 0.8979 - val_loss: 0.3434 - val_accuracy: 0.8773\n",
            "Epoch 43/100\n",
            "750/750 [==============================] - 2s 2ms/step - loss: 0.2835 - accuracy: 0.8989 - val_loss: 0.3479 - val_accuracy: 0.8761\n",
            "Epoch 44/100\n",
            "750/750 [==============================] - 2s 2ms/step - loss: 0.2816 - accuracy: 0.9004 - val_loss: 0.3412 - val_accuracy: 0.8796\n",
            "Epoch 45/100\n",
            "750/750 [==============================] - 2s 2ms/step - loss: 0.2802 - accuracy: 0.9005 - val_loss: 0.3379 - val_accuracy: 0.8790\n",
            "Epoch 46/100\n",
            "750/750 [==============================] - 2s 2ms/step - loss: 0.2779 - accuracy: 0.9007 - val_loss: 0.3429 - val_accuracy: 0.8782\n",
            "Epoch 47/100\n",
            "750/750 [==============================] - 2s 2ms/step - loss: 0.2759 - accuracy: 0.9018 - val_loss: 0.3393 - val_accuracy: 0.8781\n",
            "Epoch 48/100\n",
            "750/750 [==============================] - 2s 3ms/step - loss: 0.2741 - accuracy: 0.9010 - val_loss: 0.3392 - val_accuracy: 0.8810\n",
            "Epoch 49/100\n",
            "750/750 [==============================] - 2s 2ms/step - loss: 0.2719 - accuracy: 0.9022 - val_loss: 0.3442 - val_accuracy: 0.8784\n",
            "Epoch 50/100\n",
            "750/750 [==============================] - 2s 2ms/step - loss: 0.2707 - accuracy: 0.9037 - val_loss: 0.3379 - val_accuracy: 0.8805\n",
            "Epoch 51/100\n",
            "750/750 [==============================] - 2s 2ms/step - loss: 0.2688 - accuracy: 0.9031 - val_loss: 0.3437 - val_accuracy: 0.8778\n",
            "Epoch 52/100\n",
            "750/750 [==============================] - 2s 2ms/step - loss: 0.2671 - accuracy: 0.9044 - val_loss: 0.3419 - val_accuracy: 0.8775\n",
            "Epoch 53/100\n",
            "750/750 [==============================] - 2s 2ms/step - loss: 0.2652 - accuracy: 0.9053 - val_loss: 0.3351 - val_accuracy: 0.8812\n",
            "Epoch 54/100\n",
            "750/750 [==============================] - 2s 2ms/step - loss: 0.2636 - accuracy: 0.9060 - val_loss: 0.3347 - val_accuracy: 0.8821\n",
            "Epoch 55/100\n",
            "750/750 [==============================] - 2s 3ms/step - loss: 0.2617 - accuracy: 0.9059 - val_loss: 0.3434 - val_accuracy: 0.8770\n",
            "Epoch 56/100\n",
            "750/750 [==============================] - 2s 2ms/step - loss: 0.2592 - accuracy: 0.9070 - val_loss: 0.3381 - val_accuracy: 0.8813\n",
            "Epoch 57/100\n",
            "750/750 [==============================] - 2s 2ms/step - loss: 0.2589 - accuracy: 0.9066 - val_loss: 0.3341 - val_accuracy: 0.8819\n",
            "Epoch 58/100\n",
            "750/750 [==============================] - 2s 2ms/step - loss: 0.2564 - accuracy: 0.9086 - val_loss: 0.3333 - val_accuracy: 0.8821\n",
            "Epoch 59/100\n",
            "750/750 [==============================] - 2s 2ms/step - loss: 0.2546 - accuracy: 0.9075 - val_loss: 0.3372 - val_accuracy: 0.8793\n",
            "Epoch 60/100\n",
            "750/750 [==============================] - 2s 3ms/step - loss: 0.2538 - accuracy: 0.9094 - val_loss: 0.3333 - val_accuracy: 0.8805\n",
            "Epoch 61/100\n",
            "750/750 [==============================] - 2s 3ms/step - loss: 0.2529 - accuracy: 0.9103 - val_loss: 0.3345 - val_accuracy: 0.8822\n",
            "Epoch 62/100\n",
            "750/750 [==============================] - 2s 2ms/step - loss: 0.2513 - accuracy: 0.9099 - val_loss: 0.3315 - val_accuracy: 0.8828\n",
            "Epoch 63/100\n",
            "750/750 [==============================] - 2s 2ms/step - loss: 0.2479 - accuracy: 0.9117 - val_loss: 0.3479 - val_accuracy: 0.8764\n",
            "Epoch 64/100\n",
            "750/750 [==============================] - 2s 2ms/step - loss: 0.2479 - accuracy: 0.9113 - val_loss: 0.3342 - val_accuracy: 0.8818\n",
            "Epoch 65/100\n",
            "750/750 [==============================] - 2s 2ms/step - loss: 0.2464 - accuracy: 0.9114 - val_loss: 0.3409 - val_accuracy: 0.8781\n",
            "Epoch 66/100\n",
            "750/750 [==============================] - 2s 3ms/step - loss: 0.2444 - accuracy: 0.9119 - val_loss: 0.3357 - val_accuracy: 0.8812\n",
            "Epoch 67/100\n",
            "750/750 [==============================] - 2s 3ms/step - loss: 0.2435 - accuracy: 0.9135 - val_loss: 0.3501 - val_accuracy: 0.8745\n",
            "Epoch 68/100\n",
            "750/750 [==============================] - 2s 3ms/step - loss: 0.2411 - accuracy: 0.9132 - val_loss: 0.3314 - val_accuracy: 0.8844\n",
            "Epoch 69/100\n",
            "750/750 [==============================] - 2s 2ms/step - loss: 0.2398 - accuracy: 0.9153 - val_loss: 0.3352 - val_accuracy: 0.8805\n",
            "Epoch 70/100\n",
            "750/750 [==============================] - 2s 2ms/step - loss: 0.2383 - accuracy: 0.9145 - val_loss: 0.3368 - val_accuracy: 0.8808\n",
            "Epoch 71/100\n",
            "750/750 [==============================] - 2s 2ms/step - loss: 0.2377 - accuracy: 0.9145 - val_loss: 0.3413 - val_accuracy: 0.8807\n",
            "Epoch 72/100\n",
            "750/750 [==============================] - 2s 2ms/step - loss: 0.2366 - accuracy: 0.9153 - val_loss: 0.3309 - val_accuracy: 0.8843\n",
            "Epoch 73/100\n",
            "750/750 [==============================] - 2s 2ms/step - loss: 0.2351 - accuracy: 0.9163 - val_loss: 0.3445 - val_accuracy: 0.8793\n",
            "Epoch 74/100\n",
            "750/750 [==============================] - 2s 2ms/step - loss: 0.2333 - accuracy: 0.9159 - val_loss: 0.3428 - val_accuracy: 0.8784\n",
            "Epoch 75/100\n",
            "750/750 [==============================] - 2s 2ms/step - loss: 0.2320 - accuracy: 0.9172 - val_loss: 0.3465 - val_accuracy: 0.8778\n",
            "Epoch 76/100\n",
            "750/750 [==============================] - 2s 2ms/step - loss: 0.2301 - accuracy: 0.9183 - val_loss: 0.3292 - val_accuracy: 0.8833\n",
            "Epoch 77/100\n",
            "750/750 [==============================] - 2s 2ms/step - loss: 0.2294 - accuracy: 0.9176 - val_loss: 0.3271 - val_accuracy: 0.8854\n",
            "Epoch 78/100\n",
            "750/750 [==============================] - 2s 2ms/step - loss: 0.2278 - accuracy: 0.9180 - val_loss: 0.3388 - val_accuracy: 0.8816\n",
            "Epoch 79/100\n",
            "750/750 [==============================] - 2s 2ms/step - loss: 0.2272 - accuracy: 0.9194 - val_loss: 0.3486 - val_accuracy: 0.8803\n",
            "Epoch 80/100\n",
            "750/750 [==============================] - 2s 2ms/step - loss: 0.2258 - accuracy: 0.9189 - val_loss: 0.3398 - val_accuracy: 0.8804\n",
            "Epoch 81/100\n",
            "750/750 [==============================] - 2s 3ms/step - loss: 0.2236 - accuracy: 0.9197 - val_loss: 0.3422 - val_accuracy: 0.8773\n",
            "Epoch 82/100\n",
            "750/750 [==============================] - 2s 3ms/step - loss: 0.2231 - accuracy: 0.9201 - val_loss: 0.3384 - val_accuracy: 0.8819\n",
            "Epoch 83/100\n",
            "750/750 [==============================] - 2s 3ms/step - loss: 0.2216 - accuracy: 0.9210 - val_loss: 0.3336 - val_accuracy: 0.8836\n",
            "Epoch 84/100\n",
            "750/750 [==============================] - 2s 3ms/step - loss: 0.2208 - accuracy: 0.9208 - val_loss: 0.3348 - val_accuracy: 0.8816\n",
            "Epoch 85/100\n",
            "750/750 [==============================] - 2s 3ms/step - loss: 0.2201 - accuracy: 0.9221 - val_loss: 0.3379 - val_accuracy: 0.8835\n",
            "Epoch 86/100\n",
            "750/750 [==============================] - 2s 3ms/step - loss: 0.2180 - accuracy: 0.9224 - val_loss: 0.3374 - val_accuracy: 0.8848\n",
            "Epoch 87/100\n",
            "750/750 [==============================] - 2s 3ms/step - loss: 0.2175 - accuracy: 0.9214 - val_loss: 0.3324 - val_accuracy: 0.8832\n",
            "Epoch 88/100\n",
            "750/750 [==============================] - 2s 2ms/step - loss: 0.2153 - accuracy: 0.9227 - val_loss: 0.3552 - val_accuracy: 0.8738\n",
            "Epoch 89/100\n",
            "750/750 [==============================] - 2s 3ms/step - loss: 0.2142 - accuracy: 0.9230 - val_loss: 0.3313 - val_accuracy: 0.8826\n",
            "Epoch 90/100\n",
            "750/750 [==============================] - 2s 3ms/step - loss: 0.2143 - accuracy: 0.9234 - val_loss: 0.3444 - val_accuracy: 0.8816\n",
            "Epoch 91/100\n",
            "750/750 [==============================] - 2s 2ms/step - loss: 0.2115 - accuracy: 0.9259 - val_loss: 0.3360 - val_accuracy: 0.8839\n",
            "Epoch 92/100\n",
            "750/750 [==============================] - 2s 2ms/step - loss: 0.2095 - accuracy: 0.9260 - val_loss: 0.3566 - val_accuracy: 0.8736\n",
            "Epoch 93/100\n",
            "750/750 [==============================] - 2s 3ms/step - loss: 0.2105 - accuracy: 0.9256 - val_loss: 0.3405 - val_accuracy: 0.8828\n",
            "Epoch 94/100\n",
            "750/750 [==============================] - 2s 2ms/step - loss: 0.2087 - accuracy: 0.9251 - val_loss: 0.3284 - val_accuracy: 0.8837\n",
            "Epoch 95/100\n",
            "750/750 [==============================] - 2s 2ms/step - loss: 0.2079 - accuracy: 0.9258 - val_loss: 0.3384 - val_accuracy: 0.8827\n",
            "Epoch 96/100\n",
            "750/750 [==============================] - 2s 2ms/step - loss: 0.2055 - accuracy: 0.9255 - val_loss: 0.3441 - val_accuracy: 0.8830\n",
            "Epoch 97/100\n",
            "750/750 [==============================] - 2s 3ms/step - loss: 0.2051 - accuracy: 0.9265 - val_loss: 0.3704 - val_accuracy: 0.8726\n",
            "Epoch 98/100\n",
            "750/750 [==============================] - 2s 3ms/step - loss: 0.2042 - accuracy: 0.9279 - val_loss: 0.3550 - val_accuracy: 0.8750\n",
            "Epoch 99/100\n",
            "750/750 [==============================] - 2s 2ms/step - loss: 0.2027 - accuracy: 0.9280 - val_loss: 0.3415 - val_accuracy: 0.8822\n",
            "Epoch 100/100\n",
            "750/750 [==============================] - 2s 2ms/step - loss: 0.2017 - accuracy: 0.9289 - val_loss: 0.3393 - val_accuracy: 0.8835\n"
          ],
          "name": "stdout"
        }
      ]
    },
    {
      "cell_type": "code",
      "metadata": {
        "id": "0W6J4tagfCYR",
        "outputId": "9b0119e7-1973-4ad4-b6af-705f85bdaa1b",
        "colab": {
          "base_uri": "https://localhost:8080/",
          "height": 590
        }
      },
      "source": [
        "import matplotlib.pyplot as plt\n",
        "%matplotlib inline\n",
        "# list all data in training\n",
        "print(training.history.keys())\n",
        "# summarize training for accuracy\n",
        "plt.plot(training.history['accuracy'])\n",
        "plt.plot(training.history['val_accuracy'])\n",
        "plt.title('model accuracy')\n",
        "plt.ylabel('accuracy')\n",
        "plt.xlabel('epoch')\n",
        "plt.legend(['train', 'test'], loc='upper left')\n",
        "plt.show()\n",
        "# summarize traning for loss\n",
        "plt.plot(training.history['loss'])\n",
        "plt.plot(training.history['val_loss'])\n",
        "plt.title('model loss')\n",
        "plt.ylabel('loss')\n",
        "plt.xlabel('epoch')\n",
        "plt.legend(['train', 'test'], loc='upper left')\n",
        "plt.show()"
      ],
      "execution_count": 17,
      "outputs": [
        {
          "output_type": "stream",
          "text": [
            "dict_keys(['loss', 'accuracy', 'val_loss', 'val_accuracy'])\n"
          ],
          "name": "stdout"
        },
        {
          "output_type": "display_data",
          "data": {
            "image/png": "[encoded data removed]",
            "text/plain": [
              "<Figure size 432x288 with 1 Axes>"
            ]
          },
          "metadata": {
            "tags": [],
            "needs_background": "light"
          }
        },
        {
          "output_type": "display_data",
          "data": {
            "image/png": "[encoded data removed]",
            "text/plain": [
              "<Figure size 432x288 with 1 Axes>"
            ]
          },
          "metadata": {
            "tags": [],
            "needs_background": "light"
          }
        }
      ]
    },
    {
      "cell_type": "code",
      "metadata": {
        "id": "LG8UWh68fCYe",
        "outputId": "e3d4232a-e69a-4045-87a1-3ae4bb995ec6",
        "colab": {
          "base_uri": "https://localhost:8080/"
        }
      },
      "source": [
        "#evaluate the model\n",
        "test_loss, test_acc = model_1.evaluate(X_test, Y_test)\n",
        "print('Test accuracy:', test_acc)"
      ],
      "execution_count": 18,
      "outputs": [
        {
          "output_type": "stream",
          "text": [
            "313/313 [==============================] - 1s 2ms/step - loss: 0.3634 - accuracy: 0.8778\n",
            "Test accuracy: 0.8777999877929688\n"
          ],
          "name": "stdout"
        }
      ]
    },
    {
      "cell_type": "code",
      "metadata": {
        "id": "iE5uSPRvfCYq",
        "outputId": "6bb4b61e-9ed8-4498-8528-82fc0bbe0b43",
        "colab": {
          "base_uri": "https://localhost:8080/"
        }
      },
      "source": [
        "model_1.summary"
      ],
      "execution_count": 19,
      "outputs": [
        {
          "output_type": "execute_result",
          "data": {
            "text/plain": [
              "<bound method Model.summary of <tensorflow.python.keras.engine.sequential.Sequential object at 0x7f019e2a7438>>"
            ]
          },
          "metadata": {
            "tags": []
          },
          "execution_count": 19
        }
      ]
    },
    {
      "cell_type": "code",
      "metadata": {
        "id": "p3TehZJnAlD6",
        "outputId": "cfe2daca-ae1b-4890-b982-8bd972e70cea",
        "colab": {
          "base_uri": "https://localhost:8080/"
        }
      },
      "source": [
        "model_1.weights"
      ],
      "execution_count": 20,
      "outputs": [
        {
          "output_type": "execute_result",
          "data": {
            "text/plain": [
              "[<tf.Variable 'dense_layer/kernel:0' shape=(784, 64) dtype=float32, numpy=\n",
              " array([[ 0.01969296,  0.07565995,  0.08211032, ..., -0.01981111,\n",
              "         -0.05984455, -0.06875202],\n",
              "        [ 0.05037995,  0.01975605, -0.08038424, ...,  0.03693474,\n",
              "         -0.0526251 ,  0.03977176],\n",
              "        [ 0.00432234,  0.01668077,  0.03392448, ..., -0.07126558,\n",
              "         -0.0014259 ,  0.03398204],\n",
              "        ...,\n",
              "        [-0.1071687 ,  0.00327581, -0.01389663, ..., -0.0042617 ,\n",
              "          0.05799195,  0.05908531],\n",
              "        [ 0.01104763,  0.00471645, -0.05522347, ..., -0.06578352,\n",
              "         -0.08016527,  0.06238912],\n",
              "        [-0.0283514 , -0.04722128, -0.03137769, ..., -0.07083987,\n",
              "         -0.08123336, -0.02291637]], dtype=float32)>,\n",
              " <tf.Variable 'dense_layer/bias:0' shape=(64,) dtype=float32, numpy=\n",
              " array([-7.7510662e-03,  2.5355360e-01, -1.9523827e-04,  1.7191993e-01,\n",
              "         3.0148289e-01, -7.1015701e-02,  2.2440442e-01,  1.2258463e-01,\n",
              "         3.1264532e-01,  6.4850979e-02, -1.7931150e-02,  1.6039106e-01,\n",
              "         1.3047473e-03, -1.6390853e-01, -3.1696197e-02, -3.6116964e-01,\n",
              "         1.0722808e-01, -1.7846106e-01, -2.2829930e-01, -1.0939817e-01,\n",
              "        -7.3425360e-02,  1.4401284e-01,  8.8964060e-02,  2.0653155e-01,\n",
              "         1.2969148e-02, -4.7919746e-02,  2.1934001e-02,  3.7441829e-01,\n",
              "        -1.6687214e-01, -1.2534304e-02, -2.0185279e-02,  3.3343089e-01,\n",
              "         9.7227462e-02, -1.2780793e-01,  1.5300092e-01, -2.1820575e-01,\n",
              "         2.2735648e-01,  3.4847480e-01,  3.5231930e-01,  8.3748758e-02,\n",
              "         1.7346673e-01, -9.9184789e-02, -9.9773191e-02, -3.2316452e-01,\n",
              "         1.7207852e-02,  3.4221941e-01,  1.0087822e-01,  1.3674033e-01,\n",
              "         6.4388640e-02,  7.7934504e-02,  1.5636288e-01, -9.5499540e-03,\n",
              "        -5.7193372e-02, -8.4583707e-02,  3.2446761e-02,  2.2380226e-03,\n",
              "         2.7463987e-01,  7.3735486e-03,  4.7387652e-02,  3.3569819e-01,\n",
              "        -3.4530737e-02, -1.6984150e-02,  3.1991729e-01,  1.3002723e-01],\n",
              "       dtype=float32)>,\n",
              " <tf.Variable 'dense_layer_2/kernel:0' shape=(64, 64) dtype=float32, numpy=\n",
              " array([[-0.16668499, -0.07909521, -0.35466468, ...,  0.20767072,\n",
              "          0.02389541,  0.08951493],\n",
              "        [ 0.07356608,  0.06673494, -0.07968661, ..., -0.1280867 ,\n",
              "         -0.04915692, -0.1290581 ],\n",
              "        [ 0.03627386, -0.13440938,  0.27991506, ...,  0.06074866,\n",
              "          0.19261774, -0.03538834],\n",
              "        ...,\n",
              "        [-0.12424225,  0.14781763, -0.1424982 , ..., -0.19805276,\n",
              "         -0.20597284,  0.01469694],\n",
              "        [ 0.15039165,  0.2663144 ,  0.10469075, ...,  0.03872805,\n",
              "          0.17548889, -0.06743786],\n",
              "        [ 0.44852334, -0.09418637, -0.01834867, ..., -0.25555867,\n",
              "          0.20335807, -0.08850577]], dtype=float32)>,\n",
              " <tf.Variable 'dense_layer_2/bias:0' shape=(64,) dtype=float32, numpy=\n",
              " array([ 1.13389224e-01,  2.23050788e-01,  7.83841237e-02, -1.85394675e-01,\n",
              "        -3.73792276e-02,  9.78060663e-02,  2.10659746e-02, -1.35823553e-02,\n",
              "         1.25009671e-01,  1.82540387e-01,  1.00055258e-04,  1.37480861e-02,\n",
              "         1.04085930e-01, -9.69102010e-02,  1.56583577e-01,  1.49039365e-02,\n",
              "         1.09160587e-01,  1.59054384e-01,  1.31594822e-01,  1.14126794e-01,\n",
              "         2.21726388e-01, -1.99733928e-01,  6.80622533e-02,  5.63563146e-02,\n",
              "         8.21786970e-02, -2.66603995e-02,  9.15722698e-02, -3.56567167e-02,\n",
              "         1.12565398e-01,  8.54707509e-02, -4.46121953e-03,  1.44780591e-01,\n",
              "         5.09843342e-02,  5.96913546e-02,  1.10879540e-01, -3.88933308e-02,\n",
              "         2.06658274e-01,  5.35203367e-02,  1.18626997e-01,  2.23169535e-01,\n",
              "         1.64622784e-01, -1.06110964e-02,  7.20195472e-02,  2.51701593e-01,\n",
              "        -8.38424638e-02,  1.62514113e-02, -3.85928690e-03, -5.94650134e-02,\n",
              "         2.04801440e-01,  8.33039880e-02,  9.10947099e-02, -6.49662912e-02,\n",
              "        -5.43871075e-02,  1.73489645e-01,  1.32036224e-01,  1.56434812e-02,\n",
              "         7.04804203e-03,  1.28323168e-01,  1.58233903e-02, -1.48287578e-03,\n",
              "         1.64169177e-01,  1.18713416e-02, -9.02521163e-02,  4.99677770e-02],\n",
              "       dtype=float32)>,\n",
              " <tf.Variable 'dense_layer_3/kernel:0' shape=(64, 10) dtype=float32, numpy=\n",
              " array([[-0.18522868, -0.30338728,  0.40151152,  0.2206412 ,  0.43345582,\n",
              "          0.25539038,  0.27035666, -0.45918876, -0.3676781 , -0.6714671 ],\n",
              "        [-0.14860593,  0.27670398, -0.4019716 , -0.30507192, -0.19755788,\n",
              "          0.52873224, -0.35530457,  0.33192557, -0.6300428 ,  0.24446118],\n",
              "        [-0.27643546,  0.05450467, -0.08152131,  0.12605332,  0.14167629,\n",
              "          0.7260332 , -0.14394821, -0.21404408, -0.29033962, -0.42706493],\n",
              "        [-0.462891  ,  0.95169115,  0.38310176, -0.34388968,  0.09730589,\n",
              "         -0.1546758 , -0.34972745,  0.13867079,  0.27793688,  0.10626789],\n",
              "        [-0.1227842 ,  0.6156395 , -0.13605817, -0.10112197,  0.09213237,\n",
              "         -0.22524291, -0.03939085,  0.05329619, -0.06048772,  0.15667231],\n",
              "        [ 0.35707965, -0.2582385 ,  0.5989801 , -0.36978826,  0.03357523,\n",
              "          0.11158378, -0.5114742 ,  0.21140106,  0.15289813,  0.01693421],\n",
              "        [ 0.15110041,  0.2461234 , -0.21164174,  0.19453105,  0.27448806,\n",
              "          0.01077069, -0.14309064, -0.23045366, -0.08599051, -0.1459997 ],\n",
              "        [-0.48381576,  0.5423419 ,  0.08091731,  0.39931342,  0.40485135,\n",
              "         -0.49809134, -0.25534943,  0.09897683,  0.424252  , -0.7584555 ],\n",
              "        [ 0.38389358,  0.48265728, -0.57725495, -0.2617781 , -0.48079276,\n",
              "          0.10195491,  0.4228001 ,  0.10400207, -0.07009359,  0.06909767],\n",
              "        [ 0.20157082,  0.3426429 ,  0.39072737,  0.46764195, -0.41360256,\n",
              "         -0.0822625 , -0.39400184,  0.08786891,  0.01300009,  0.21829304],\n",
              "        [-0.0714739 ,  0.1075812 ,  0.16861409,  0.08708828,  0.2145338 ,\n",
              "         -0.07025433,  0.24658136,  0.07387439, -0.21945201, -0.0088021 ],\n",
              "        [-0.08682122,  0.00830471,  0.07407233, -0.00175137,  0.18206014,\n",
              "          0.13667853,  0.19755323,  0.20826899,  0.26658842,  0.05473853],\n",
              "        [ 0.39803934, -0.54249823,  0.3159402 , -0.11070251,  0.24053201,\n",
              "         -0.6748865 ,  0.38006613, -0.4162625 ,  0.30839345, -0.5535298 ],\n",
              "        [ 0.237143  , -0.26201126,  0.4296297 , -0.10940479,  0.34444728,\n",
              "         -0.24865343, -0.4790347 ,  0.08607702,  0.48353934,  0.3376287 ],\n",
              "        [-0.20289476,  0.11291254,  0.20485666, -0.2755503 , -0.00826375,\n",
              "          0.26158524,  0.5729279 ,  0.19527563, -0.05571533, -0.19745463],\n",
              "        [ 0.13616921,  0.2682417 , -0.14758821,  0.64643383,  0.29333907,\n",
              "         -0.5783284 , -0.3289856 ,  0.16408077, -0.32569295, -0.18940017],\n",
              "        [ 0.49455282, -0.30719244,  0.09190816,  0.15723395, -0.01259836,\n",
              "         -0.2541111 ,  0.8846189 , -0.30466843, -0.5952785 , -0.04582719],\n",
              "        [ 0.42957112, -0.06854158, -0.5116689 ,  0.47835153, -0.28688556,\n",
              "          0.22482826, -0.10103104, -0.3935114 , -0.38895914,  0.0261566 ],\n",
              "        [ 0.14875539, -0.14893876, -0.43909088,  0.25600606, -0.5462742 ,\n",
              "          0.52374786,  0.711601  , -0.6430156 ,  0.2942347 ,  0.08921746],\n",
              "        [ 0.49915254, -0.0660757 ,  0.25051197,  0.1897222 , -0.10105131,\n",
              "          0.19568242,  0.36246458, -0.5573478 ,  0.3182154 , -0.17710327],\n",
              "        [-0.31743115, -0.43868545, -0.21135558, -0.13012636, -0.12731227,\n",
              "          0.5581387 ,  0.33930662,  0.5399182 ,  0.2470416 , -0.5508146 ],\n",
              "        [-0.21801428,  0.502406  , -0.24293071, -0.25773302,  0.4381609 ,\n",
              "         -0.32620978, -0.27306303, -0.52374905,  0.5143561 , -0.13045922],\n",
              "        [ 0.09696186, -0.08269613,  0.3951785 , -0.3418926 ,  0.03546658,\n",
              "         -0.1557774 , -0.15166329,  0.00972803,  0.63019866, -0.47926635],\n",
              "        [-0.44381908, -0.16176707,  0.05853216,  0.31580326,  0.7957656 ,\n",
              "          0.1282585 ,  0.13362469,  0.20091446, -0.10623586,  0.06825999],\n",
              "        [-0.31109735,  0.23195648,  0.6202609 ,  0.28986642, -0.45257974,\n",
              "         -0.17443953, -0.36070228,  0.2085977 ,  0.23329481,  0.10342328],\n",
              "        [ 0.15900794,  0.5874223 , -0.36755225, -0.19321476,  0.33419177,\n",
              "          0.67949104, -0.18177636, -0.35536173, -0.33358225, -0.48048607],\n",
              "        [-0.07346367,  0.01292144,  0.08039326,  0.49934265, -0.12547223,\n",
              "         -0.40893534,  0.3406072 ,  0.3227439 ,  0.3971634 , -0.05408824],\n",
              "        [ 0.01460587,  0.2715684 ,  0.06603289,  0.02688803,  0.25417212,\n",
              "         -0.22711231,  0.23932254, -0.18386316, -0.1221268 ,  0.07660142],\n",
              "        [ 0.6543774 , -0.234371  ,  0.15746735, -0.6483231 , -0.42480373,\n",
              "          0.10113425,  0.27859357, -0.00227953, -0.30744815,  0.19027796],\n",
              "        [ 0.3030255 , -0.3580343 ,  0.03613861, -0.00708552, -0.18461491,\n",
              "         -0.09835505, -0.28505898,  0.25348657,  0.2284543 , -0.0983042 ],\n",
              "        [-0.23057602, -0.00179154, -0.1632131 , -0.25799495,  0.00316117,\n",
              "          0.13116865, -0.28381488,  0.11373431,  0.01357632, -0.02952033],\n",
              "        [-0.5028673 ,  0.35078007,  0.18792489,  0.26149997,  0.07294517,\n",
              "         -0.15415728, -0.02119724,  0.34949207, -0.31808707, -0.47533584],\n",
              "        [ 0.38626707, -0.24529761,  0.2801696 ,  0.05469214, -0.16019021,\n",
              "         -0.75514436, -0.24749087,  0.42673972, -0.40967837,  0.27748975],\n",
              "        [ 0.25733668,  0.48341513,  0.13297202,  0.09412557, -0.14041041,\n",
              "          0.30885223,  0.2604945 , -0.62735647, -0.5987567 ,  0.22352964],\n",
              "        [ 0.53677195, -0.18416378,  0.04699362,  0.18318939, -0.22281644,\n",
              "          0.40152112, -0.87634563, -0.28097615, -0.03873852,  0.14689459],\n",
              "        [ 0.48969626, -0.3688071 ,  0.01204953, -0.37504202, -0.06850374,\n",
              "         -0.79929274, -0.05842401,  0.11436665,  0.69836015,  0.7947765 ],\n",
              "        [-0.3184891 , -0.38726264,  0.24260423, -0.19944102, -0.45204175,\n",
              "          0.69672704,  0.76102537, -0.3167215 , -0.21436033,  0.29851457],\n",
              "        [-0.21214032,  0.15210617,  0.1526788 ,  0.22880715, -0.24834713,\n",
              "         -0.01661958,  0.25865534,  0.36067304, -0.07913544,  0.3876357 ],\n",
              "        [ 0.36803886, -0.12625372, -0.05524111,  0.6698652 , -0.06711771,\n",
              "         -0.6464661 , -0.03802374, -0.44084895, -0.3116549 , -0.27851573],\n",
              "        [-0.3585026 , -0.2582113 ,  0.14622688,  0.19198716, -0.62081224,\n",
              "          0.18477067, -0.4005879 ,  0.6255354 , -0.16749573,  0.52284306],\n",
              "        [-0.03022329, -0.13677734, -0.5431291 ,  0.24938348,  0.17661425,\n",
              "          0.6606633 , -0.81684756,  0.3849555 ,  0.5619217 , -0.14491858],\n",
              "        [ 0.15428269,  0.42074767,  0.5170233 , -0.5856666 , -0.2167547 ,\n",
              "          0.11302853,  0.04603628, -0.09090545, -0.08346667,  0.43536356],\n",
              "        [-0.38653404,  0.0012877 , -0.07415035,  0.58507466,  0.15883268,\n",
              "         -0.5284981 ,  0.24859394, -0.18468016, -0.00668365,  0.11952943],\n",
              "        [ 0.2705737 , -0.2811903 , -0.7934287 , -0.48076838,  0.43648735,\n",
              "          0.4039033 ,  0.70495355,  0.44646528, -0.49355444,  0.04196152],\n",
              "        [ 0.4060506 ,  0.00199387, -0.22158419, -0.24691829,  0.34012482,\n",
              "          0.47461516, -0.28249332,  0.04528963,  0.20059635,  0.40443215],\n",
              "        [ 0.13527165,  0.15302767, -0.3486566 ,  0.14784767,  0.23298767,\n",
              "          0.1997212 ,  0.18120746, -0.20518894, -0.27326435, -0.00772718],\n",
              "        [ 0.00958353, -0.02266202,  0.10972745, -0.12363617,  0.20964584,\n",
              "         -0.20337309,  0.28179225,  0.23342831,  0.16589437, -0.20715113],\n",
              "        [ 0.07256547, -0.5131015 , -0.07259654,  0.05094077,  0.25467747,\n",
              "         -0.53470486,  0.34059584, -0.64045686,  0.41840482,  0.5923372 ],\n",
              "        [-0.31473383, -0.16530727,  0.7914975 ,  0.6455032 , -0.17630251,\n",
              "         -0.41916496, -0.56624985,  0.64428484,  0.06282184, -0.21823493],\n",
              "        [ 0.24189946, -0.10208417, -0.02325845, -0.11893947, -0.45660925,\n",
              "          0.6648843 ,  0.32480872, -0.4324397 ,  0.49661475, -0.55069715],\n",
              "        [-0.53674895, -0.00326768,  0.06088302,  0.45814806,  0.16745096,\n",
              "         -0.07947401,  0.42943856, -0.38866183,  0.5607191 , -0.22837624],\n",
              "        [ 0.42057386,  0.02045766,  0.43268624, -0.46710727,  0.48359665,\n",
              "         -0.33609146, -0.37542295,  0.25927103, -0.01637732, -0.09863225],\n",
              "        [-0.10132961,  0.22662601, -0.67299473, -0.24307911,  0.36655188,\n",
              "          0.6638112 ,  0.27931112, -0.13738607, -0.6885484 ,  0.09029366],\n",
              "        [-0.36045527,  0.28811458, -0.12540957,  0.40746006,  0.4521981 ,\n",
              "         -0.29316792, -0.61583656,  0.566421  , -0.19701552,  0.01927522],\n",
              "        [-0.37746257,  0.35949945,  0.48948684, -0.6094653 ,  0.25462094,\n",
              "          0.32184047,  0.20333807, -0.45828193, -0.51641715, -0.30715045],\n",
              "        [-0.20909452, -0.36291498,  0.42600235,  0.03148314,  0.49132138,\n",
              "         -0.54417956,  0.27802694, -0.04094741, -0.5387197 , -0.25107756],\n",
              "        [ 0.45409012, -0.27730745, -0.2651899 ,  0.01663656,  0.44286183,\n",
              "         -0.3201522 ,  0.1429331 ,  0.07382344, -0.34373873, -0.01002272],\n",
              "        [-0.00218697, -0.09578843,  0.5545897 ,  0.21504669, -0.54575056,\n",
              "          0.36687726,  0.26302016, -0.17182744,  0.14495414, -0.11748969],\n",
              "        [ 0.24270007, -0.0572287 , -0.266628  , -0.06654344,  0.10004205,\n",
              "          0.13884634,  0.22819206, -0.20067964,  0.05070741,  0.06951522],\n",
              "        [-0.23399886,  0.05477655, -0.06568496, -0.5850308 ,  0.08295946,\n",
              "          0.3243724 ,  0.28828192,  0.31660306,  0.5878749 ,  0.01962702],\n",
              "        [ 0.48061055,  0.32475767, -0.14814688,  0.01079942, -0.5665957 ,\n",
              "          0.5308528 ,  0.06165235, -0.60112464,  0.27369   , -0.00734075],\n",
              "        [-0.32194865, -0.15782152, -0.19435623,  0.19202149, -0.20881326,\n",
              "         -0.36455637, -0.36272705,  0.38310882, -0.20141211,  0.6404128 ],\n",
              "        [ 0.11131684,  0.33314013,  0.11693208, -0.28181377,  0.20988949,\n",
              "         -0.3536632 ,  0.04841958,  0.08328783,  0.06326887, -0.20221773],\n",
              "        [ 0.77283955,  0.18501142,  0.02358676, -0.46490806, -0.4230855 ,\n",
              "         -0.529346  ,  0.7802915 ,  0.16517417, -0.4081886 , -0.69860893]],\n",
              "       dtype=float32)>,\n",
              " <tf.Variable 'dense_layer_3/bias:0' shape=(10,) dtype=float32, numpy=\n",
              " array([ 0.02802774, -0.1480338 ,  0.03523251,  0.15825807, -0.21889992,\n",
              "         0.33732817,  0.07374602,  0.02285158, -0.02649447, -0.26201534],\n",
              "       dtype=float32)>]"
            ]
          },
          "metadata": {
            "tags": []
          },
          "execution_count": 20
        }
      ]
    },
    {
      "cell_type": "code",
      "metadata": {
        "id": "x_no8rMBfCY6",
        "outputId": "423f0201-c203-47de-acf5-057ef0c99216",
        "colab": {
          "base_uri": "https://localhost:8080/"
        }
      },
      "source": [
        "model_1.get_config()"
      ],
      "execution_count": 21,
      "outputs": [
        {
          "output_type": "execute_result",
          "data": {
            "text/plain": [
              "{'layers': [{'class_name': 'InputLayer',\n",
              "   'config': {'batch_input_shape': (None, 784),\n",
              "    'dtype': 'float32',\n",
              "    'name': 'dense_layer_input',\n",
              "    'ragged': False,\n",
              "    'sparse': False}},\n",
              "  {'class_name': 'Dense',\n",
              "   'config': {'activation': 'relu',\n",
              "    'activity_regularizer': None,\n",
              "    'batch_input_shape': (None, 784),\n",
              "    'bias_constraint': None,\n",
              "    'bias_initializer': {'class_name': 'Zeros', 'config': {}},\n",
              "    'bias_regularizer': None,\n",
              "    'dtype': 'float32',\n",
              "    'kernel_constraint': None,\n",
              "    'kernel_initializer': {'class_name': 'GlorotUniform',\n",
              "     'config': {'seed': None}},\n",
              "    'kernel_regularizer': None,\n",
              "    'name': 'dense_layer',\n",
              "    'trainable': True,\n",
              "    'units': 64,\n",
              "    'use_bias': True}},\n",
              "  {'class_name': 'Dense',\n",
              "   'config': {'activation': 'relu',\n",
              "    'activity_regularizer': None,\n",
              "    'bias_constraint': None,\n",
              "    'bias_initializer': {'class_name': 'Zeros', 'config': {}},\n",
              "    'bias_regularizer': None,\n",
              "    'dtype': 'float32',\n",
              "    'kernel_constraint': None,\n",
              "    'kernel_initializer': {'class_name': 'GlorotUniform',\n",
              "     'config': {'seed': None}},\n",
              "    'kernel_regularizer': None,\n",
              "    'name': 'dense_layer_2',\n",
              "    'trainable': True,\n",
              "    'units': 64,\n",
              "    'use_bias': True}},\n",
              "  {'class_name': 'Dense',\n",
              "   'config': {'activation': 'softmax',\n",
              "    'activity_regularizer': None,\n",
              "    'bias_constraint': None,\n",
              "    'bias_initializer': {'class_name': 'Zeros', 'config': {}},\n",
              "    'bias_regularizer': None,\n",
              "    'dtype': 'float32',\n",
              "    'kernel_constraint': None,\n",
              "    'kernel_initializer': {'class_name': 'GlorotUniform',\n",
              "     'config': {'seed': None}},\n",
              "    'kernel_regularizer': None,\n",
              "    'name': 'dense_layer_3',\n",
              "    'trainable': True,\n",
              "    'units': 10,\n",
              "    'use_bias': True}}],\n",
              " 'name': 'sequential_1'}"
            ]
          },
          "metadata": {
            "tags": []
          },
          "execution_count": 21
        }
      ]
    },
    {
      "cell_type": "markdown",
      "metadata": {
        "id": "Nw7DXcLYfZzp"
      },
      "source": [
        "###Improved Model 2 - Adding Dropout to Avoid Overfitting"
      ]
    },
    {
      "cell_type": "code",
      "metadata": {
        "id": "AXUf6nhvBHnc"
      },
      "source": [
        "from tensorflow.keras.layers import Dropout\n",
        "\n",
        "#Most common type of model is a stack of layers\n",
        "model_2 = tf.keras.Sequential()\n",
        "N_hidden = 128\n",
        "# Adds a densely-connected layer with 64 units to the model:\n",
        "model_2.add(Dense(N_hidden, name='dense_layer', input_shape=(784,), activation = 'relu'))\n",
        "# Now the model will take as input arrays of shape (*, 784)# and output arrays of shape (*, 64)\n",
        "model_2.add(Dropout(0.3))\n",
        "# Adding another dense layer:\n",
        "model_2.add(Dense(N_hidden, name='dense_layer_2', activation='relu'))\n",
        "model_2.add(Dropout(0.3))\n",
        "\n",
        "# Add an output layer with 10 output units (10 different classes):\n",
        "model_2.add(Dense(10, name='dense_layer_3', activation = 'softmax'))\n"
      ],
      "execution_count": 22,
      "outputs": []
    },
    {
      "cell_type": "code",
      "metadata": {
        "id": "wo95PYlPgBe4"
      },
      "source": [
        "# Compiling the model.\n",
        "model_2.compile(optimizer='SGD', \n",
        "              loss='categorical_crossentropy',\n",
        "              metrics=['accuracy'])"
      ],
      "execution_count": 23,
      "outputs": []
    },
    {
      "cell_type": "code",
      "metadata": {
        "id": "VfargzxGgBfI",
        "outputId": "d352f4ea-90c8-4d5d-d24f-65065c3cccee",
        "colab": {
          "base_uri": "https://localhost:8080/"
        }
      },
      "source": [
        "# Training the model. \n",
        "training = model_2.fit(X_train, Y_train, batch_size=64, epochs=50, validation_split=0.2) "
      ],
      "execution_count": 24,
      "outputs": [
        {
          "output_type": "stream",
          "text": [
            "Epoch 1/50\n",
            "750/750 [==============================] - 2s 3ms/step - loss: 1.2272 - accuracy: 0.5697 - val_loss: 0.7372 - val_accuracy: 0.7402\n",
            "Epoch 2/50\n",
            "750/750 [==============================] - 2s 2ms/step - loss: 0.7941 - accuracy: 0.7189 - val_loss: 0.6124 - val_accuracy: 0.7917\n",
            "Epoch 3/50\n",
            "750/750 [==============================] - 2s 3ms/step - loss: 0.6896 - accuracy: 0.7594 - val_loss: 0.5538 - val_accuracy: 0.8064\n",
            "Epoch 4/50\n",
            "750/750 [==============================] - 2s 3ms/step - loss: 0.6271 - accuracy: 0.7806 - val_loss: 0.5140 - val_accuracy: 0.8151\n",
            "Epoch 5/50\n",
            "750/750 [==============================] - 2s 2ms/step - loss: 0.5833 - accuracy: 0.7985 - val_loss: 0.4866 - val_accuracy: 0.8256\n",
            "Epoch 6/50\n",
            "750/750 [==============================] - 2s 2ms/step - loss: 0.5576 - accuracy: 0.8048 - val_loss: 0.4709 - val_accuracy: 0.8298\n",
            "Epoch 7/50\n",
            "750/750 [==============================] - 2s 2ms/step - loss: 0.5347 - accuracy: 0.8146 - val_loss: 0.4570 - val_accuracy: 0.8342\n",
            "Epoch 8/50\n",
            "750/750 [==============================] - 2s 3ms/step - loss: 0.5187 - accuracy: 0.8171 - val_loss: 0.4444 - val_accuracy: 0.8381\n",
            "Epoch 9/50\n",
            "750/750 [==============================] - 2s 3ms/step - loss: 0.5002 - accuracy: 0.8240 - val_loss: 0.4335 - val_accuracy: 0.8424\n",
            "Epoch 10/50\n",
            "750/750 [==============================] - 2s 3ms/step - loss: 0.4918 - accuracy: 0.8269 - val_loss: 0.4257 - val_accuracy: 0.8453\n",
            "Epoch 11/50\n",
            "750/750 [==============================] - 2s 3ms/step - loss: 0.4780 - accuracy: 0.8329 - val_loss: 0.4175 - val_accuracy: 0.8482\n",
            "Epoch 12/50\n",
            "750/750 [==============================] - 2s 3ms/step - loss: 0.4716 - accuracy: 0.8336 - val_loss: 0.4118 - val_accuracy: 0.8491\n",
            "Epoch 13/50\n",
            "750/750 [==============================] - 2s 3ms/step - loss: 0.4609 - accuracy: 0.8369 - val_loss: 0.4114 - val_accuracy: 0.8507\n",
            "Epoch 14/50\n",
            "750/750 [==============================] - 2s 3ms/step - loss: 0.4535 - accuracy: 0.8400 - val_loss: 0.4014 - val_accuracy: 0.8524\n",
            "Epoch 15/50\n",
            "750/750 [==============================] - 2s 3ms/step - loss: 0.4465 - accuracy: 0.8429 - val_loss: 0.3966 - val_accuracy: 0.8562\n",
            "Epoch 16/50\n",
            "750/750 [==============================] - 2s 3ms/step - loss: 0.4381 - accuracy: 0.8450 - val_loss: 0.3921 - val_accuracy: 0.8592\n",
            "Epoch 17/50\n",
            "750/750 [==============================] - 2s 3ms/step - loss: 0.4304 - accuracy: 0.8471 - val_loss: 0.3877 - val_accuracy: 0.8597\n",
            "Epoch 18/50\n",
            "750/750 [==============================] - 2s 3ms/step - loss: 0.4283 - accuracy: 0.8481 - val_loss: 0.3835 - val_accuracy: 0.8625\n",
            "Epoch 19/50\n",
            "750/750 [==============================] - 2s 3ms/step - loss: 0.4217 - accuracy: 0.8508 - val_loss: 0.3832 - val_accuracy: 0.8607\n",
            "Epoch 20/50\n",
            "750/750 [==============================] - 2s 3ms/step - loss: 0.4183 - accuracy: 0.8541 - val_loss: 0.3767 - val_accuracy: 0.8647\n",
            "Epoch 21/50\n",
            "750/750 [==============================] - 2s 2ms/step - loss: 0.4145 - accuracy: 0.8526 - val_loss: 0.3766 - val_accuracy: 0.8656\n",
            "Epoch 22/50\n",
            "750/750 [==============================] - 2s 3ms/step - loss: 0.4068 - accuracy: 0.8562 - val_loss: 0.3729 - val_accuracy: 0.8677\n",
            "Epoch 23/50\n",
            "750/750 [==============================] - 2s 3ms/step - loss: 0.4015 - accuracy: 0.8591 - val_loss: 0.3696 - val_accuracy: 0.8659\n",
            "Epoch 24/50\n",
            "750/750 [==============================] - 2s 2ms/step - loss: 0.3989 - accuracy: 0.8590 - val_loss: 0.3663 - val_accuracy: 0.8697\n",
            "Epoch 25/50\n",
            "750/750 [==============================] - 2s 3ms/step - loss: 0.3959 - accuracy: 0.8610 - val_loss: 0.3644 - val_accuracy: 0.8683\n",
            "Epoch 26/50\n",
            "750/750 [==============================] - 2s 2ms/step - loss: 0.3925 - accuracy: 0.8599 - val_loss: 0.3619 - val_accuracy: 0.8701\n",
            "Epoch 27/50\n",
            "750/750 [==============================] - 2s 3ms/step - loss: 0.3890 - accuracy: 0.8613 - val_loss: 0.3599 - val_accuracy: 0.8691\n",
            "Epoch 28/50\n",
            "750/750 [==============================] - 2s 2ms/step - loss: 0.3862 - accuracy: 0.8612 - val_loss: 0.3623 - val_accuracy: 0.8684\n",
            "Epoch 29/50\n",
            "750/750 [==============================] - 2s 3ms/step - loss: 0.3823 - accuracy: 0.8652 - val_loss: 0.3538 - val_accuracy: 0.8717\n",
            "Epoch 30/50\n",
            "750/750 [==============================] - 2s 2ms/step - loss: 0.3801 - accuracy: 0.8658 - val_loss: 0.3538 - val_accuracy: 0.8735\n",
            "Epoch 31/50\n",
            "750/750 [==============================] - 2s 2ms/step - loss: 0.3764 - accuracy: 0.8661 - val_loss: 0.3526 - val_accuracy: 0.8729\n",
            "Epoch 32/50\n",
            "750/750 [==============================] - 2s 2ms/step - loss: 0.3760 - accuracy: 0.8663 - val_loss: 0.3535 - val_accuracy: 0.8703\n",
            "Epoch 33/50\n",
            "750/750 [==============================] - 2s 2ms/step - loss: 0.3682 - accuracy: 0.8695 - val_loss: 0.3482 - val_accuracy: 0.8733\n",
            "Epoch 34/50\n",
            "750/750 [==============================] - 2s 3ms/step - loss: 0.3690 - accuracy: 0.8683 - val_loss: 0.3465 - val_accuracy: 0.8739\n",
            "Epoch 35/50\n",
            "750/750 [==============================] - 2s 2ms/step - loss: 0.3657 - accuracy: 0.8698 - val_loss: 0.3466 - val_accuracy: 0.8744\n",
            "Epoch 36/50\n",
            "750/750 [==============================] - 2s 3ms/step - loss: 0.3628 - accuracy: 0.8714 - val_loss: 0.3454 - val_accuracy: 0.8755\n",
            "Epoch 37/50\n",
            "750/750 [==============================] - 2s 3ms/step - loss: 0.3618 - accuracy: 0.8714 - val_loss: 0.3425 - val_accuracy: 0.8755\n",
            "Epoch 38/50\n",
            "750/750 [==============================] - 2s 3ms/step - loss: 0.3578 - accuracy: 0.8715 - val_loss: 0.3404 - val_accuracy: 0.8767\n",
            "Epoch 39/50\n",
            "750/750 [==============================] - 2s 3ms/step - loss: 0.3551 - accuracy: 0.8733 - val_loss: 0.3402 - val_accuracy: 0.8777\n",
            "Epoch 40/50\n",
            "750/750 [==============================] - 2s 3ms/step - loss: 0.3548 - accuracy: 0.8725 - val_loss: 0.3374 - val_accuracy: 0.8802\n",
            "Epoch 41/50\n",
            "750/750 [==============================] - 2s 3ms/step - loss: 0.3487 - accuracy: 0.8754 - val_loss: 0.3371 - val_accuracy: 0.8778\n",
            "Epoch 42/50\n",
            "750/750 [==============================] - 2s 3ms/step - loss: 0.3496 - accuracy: 0.8746 - val_loss: 0.3359 - val_accuracy: 0.8794\n",
            "Epoch 43/50\n",
            "750/750 [==============================] - 2s 3ms/step - loss: 0.3475 - accuracy: 0.8747 - val_loss: 0.3350 - val_accuracy: 0.8794\n",
            "Epoch 44/50\n",
            "750/750 [==============================] - 2s 3ms/step - loss: 0.3448 - accuracy: 0.8760 - val_loss: 0.3343 - val_accuracy: 0.8787\n",
            "Epoch 45/50\n",
            "750/750 [==============================] - 2s 3ms/step - loss: 0.3445 - accuracy: 0.8784 - val_loss: 0.3314 - val_accuracy: 0.8820\n",
            "Epoch 46/50\n",
            "750/750 [==============================] - 2s 3ms/step - loss: 0.3385 - accuracy: 0.8778 - val_loss: 0.3336 - val_accuracy: 0.8797\n",
            "Epoch 47/50\n",
            "750/750 [==============================] - 2s 3ms/step - loss: 0.3423 - accuracy: 0.8791 - val_loss: 0.3451 - val_accuracy: 0.8782\n",
            "Epoch 48/50\n",
            "750/750 [==============================] - 2s 3ms/step - loss: 0.3380 - accuracy: 0.8770 - val_loss: 0.3348 - val_accuracy: 0.8788\n",
            "Epoch 49/50\n",
            "750/750 [==============================] - 2s 3ms/step - loss: 0.3363 - accuracy: 0.8801 - val_loss: 0.3300 - val_accuracy: 0.8813\n",
            "Epoch 50/50\n",
            "750/750 [==============================] - 2s 3ms/step - loss: 0.3330 - accuracy: 0.8807 - val_loss: 0.3289 - val_accuracy: 0.8809\n"
          ],
          "name": "stdout"
        }
      ]
    },
    {
      "cell_type": "code",
      "metadata": {
        "id": "9QfbwIhAgBfX",
        "outputId": "b79f0627-3331-4ccf-b72c-22dacabfd73d",
        "colab": {
          "base_uri": "https://localhost:8080/",
          "height": 590
        }
      },
      "source": [
        "import matplotlib.pyplot as plt\n",
        "%matplotlib inline\n",
        "# list all data in training\n",
        "print(training.history.keys())\n",
        "# summarize training for accuracy\n",
        "plt.plot(training.history['accuracy'])\n",
        "plt.plot(training.history['val_accuracy'])\n",
        "plt.title('model accuracy')\n",
        "plt.ylabel('accuracy')\n",
        "plt.xlabel('epoch')\n",
        "plt.legend(['train', 'test'], loc='upper left')\n",
        "plt.show()\n",
        "# summarize traning for loss\n",
        "plt.plot(training.history['loss'])\n",
        "plt.plot(training.history['val_loss'])\n",
        "plt.title('model loss')\n",
        "plt.ylabel('loss')\n",
        "plt.xlabel('epoch')\n",
        "plt.legend(['train', 'test'], loc='upper left')\n",
        "plt.show()"
      ],
      "execution_count": 25,
      "outputs": [
        {
          "output_type": "stream",
          "text": [
            "dict_keys(['loss', 'accuracy', 'val_loss', 'val_accuracy'])\n"
          ],
          "name": "stdout"
        },
        {
          "output_type": "display_data",
          "data": {
            "image/png": "[encoded data removed]",
            "text/plain": [
              "<Figure size 432x288 with 1 Axes>"
            ]
          },
          "metadata": {
            "tags": [],
            "needs_background": "light"
          }
        },
        {
          "output_type": "display_data",
          "data": {
            "image/png": "[encoded data removed]",
            "text/plain": [
              "<Figure size 432x288 with 1 Axes>"
            ]
          },
          "metadata": {
            "tags": [],
            "needs_background": "light"
          }
        }
      ]
    },
    {
      "cell_type": "code",
      "metadata": {
        "id": "yT7LK87agBfq",
        "outputId": "39bb7c6d-ca69-4a07-94dd-4d10395c3f0a",
        "colab": {
          "base_uri": "https://localhost:8080/"
        }
      },
      "source": [
        "#evaluate the model\n",
        "test_loss, test_acc = model_2.evaluate(X_test, Y_test)\n",
        "print('Test accuracy:', test_acc)"
      ],
      "execution_count": 26,
      "outputs": [
        {
          "output_type": "stream",
          "text": [
            "313/313 [==============================] - 1s 2ms/step - loss: 0.3547 - accuracy: 0.8723\n",
            "Test accuracy: 0.8723000288009644\n"
          ],
          "name": "stdout"
        }
      ]
    },
    {
      "cell_type": "code",
      "metadata": {
        "id": "jdOVuO0AgBf0",
        "outputId": "2b5857e5-ad46-4744-cc87-91a3a6d34585",
        "colab": {
          "base_uri": "https://localhost:8080/"
        }
      },
      "source": [
        "model_2.summary"
      ],
      "execution_count": 27,
      "outputs": [
        {
          "output_type": "execute_result",
          "data": {
            "text/plain": [
              "<bound method Model.summary of <tensorflow.python.keras.engine.sequential.Sequential object at 0x7f018c2dd278>>"
            ]
          },
          "metadata": {
            "tags": []
          },
          "execution_count": 27
        }
      ]
    },
    {
      "cell_type": "code",
      "metadata": {
        "id": "oykr_QswgBf_",
        "outputId": "5c89352c-f495-40f4-8552-3e853a34e844",
        "colab": {
          "base_uri": "https://localhost:8080/"
        }
      },
      "source": [
        "model_2.weights"
      ],
      "execution_count": 28,
      "outputs": [
        {
          "output_type": "execute_result",
          "data": {
            "text/plain": [
              "[<tf.Variable 'dense_layer/kernel:0' shape=(784, 128) dtype=float32, numpy=\n",
              " array([[-0.07365213,  0.02258075,  0.05047722, ..., -0.05421382,\n",
              "         -0.04796609, -0.01833188],\n",
              "        [-0.00588807, -0.00425569, -0.02408965, ...,  0.07626268,\n",
              "         -0.02683749,  0.06537206],\n",
              "        [-0.00190013, -0.07510825, -0.05580442, ..., -0.04341748,\n",
              "         -0.02531382,  0.04027852],\n",
              "        ...,\n",
              "        [-0.0507861 ,  0.06656353,  0.00463152, ..., -0.08109873,\n",
              "          0.04932264, -0.02387683],\n",
              "        [ 0.06862386,  0.06012057,  0.03950719, ..., -0.02399752,\n",
              "          0.03506715, -0.01464315],\n",
              "        [-0.01112717,  0.05567558,  0.01216848, ..., -0.00291436,\n",
              "          0.04675768, -0.08075839]], dtype=float32)>,\n",
              " <tf.Variable 'dense_layer/bias:0' shape=(128,) dtype=float32, numpy=\n",
              " array([ 1.44541845e-01,  1.10300757e-01,  3.21138613e-02,  1.09503932e-01,\n",
              "        -1.50120184e-01,  5.55196106e-02,  1.31979197e-01,  2.20756158e-01,\n",
              "         1.35814011e-01,  2.55485356e-01,  8.97337776e-03,  1.04009070e-01,\n",
              "         6.67188069e-05, -1.07318118e-01,  1.09042265e-01,  3.80443372e-02,\n",
              "        -1.16110303e-01,  3.45450565e-02,  1.98846281e-01, -1.05089853e-02,\n",
              "         1.50044248e-01,  8.88999328e-02,  5.79897836e-02,  3.34414393e-02,\n",
              "        -1.93158779e-02,  9.77304056e-02,  6.70655519e-02,  2.19031096e-01,\n",
              "         5.72521165e-02,  3.98550928e-02,  7.89929123e-04,  2.07490427e-03,\n",
              "         1.17880823e-02,  1.74247734e-02, -5.96738281e-03,  7.76623264e-02,\n",
              "        -1.60051212e-01,  1.52007505e-01,  1.43354952e-01, -9.94324610e-02,\n",
              "        -1.14047658e-02,  8.97975042e-02, -8.19819719e-02,  4.78262305e-02,\n",
              "         2.46170461e-01,  3.61273825e-01,  3.99234295e-02,  1.39764473e-01,\n",
              "        -1.18195511e-01, -6.20920546e-02, -1.86489634e-02,  2.28966661e-02,\n",
              "         2.22210288e-02,  1.20477341e-01,  2.61273980e-02,  8.27615857e-02,\n",
              "         1.81203887e-01,  1.71320930e-01, -1.06062312e-02,  2.31353879e-01,\n",
              "         1.48867816e-01,  4.67711128e-03, -1.22621216e-01,  3.64263318e-02,\n",
              "         1.05081655e-01,  6.45829737e-03,  9.64285061e-02,  3.43946479e-02,\n",
              "         9.81000513e-02,  1.75230508e-03,  9.55873728e-02, -9.13907029e-03,\n",
              "         1.45216044e-02,  1.78341389e-01, -4.34285328e-02,  1.60013199e-01,\n",
              "        -2.26729959e-01,  2.22732440e-01, -1.34975955e-01, -2.79791169e-02,\n",
              "         8.69095419e-03,  1.46718591e-01, -1.14290109e-02,  2.22656012e-01,\n",
              "         1.16182290e-01, -5.47147430e-02,  3.44411850e-01, -1.04659878e-01,\n",
              "         1.37256160e-01,  4.02031206e-02,  1.05319731e-01, -1.43813528e-02,\n",
              "        -9.75513011e-02, -1.82900690e-02, -6.30059317e-02, -6.98844716e-02,\n",
              "         2.55190339e-02,  1.71796486e-01, -7.98909441e-02,  1.35648534e-01,\n",
              "         7.17264488e-02, -1.80390894e-01,  5.96482912e-03, -2.34035193e-03,\n",
              "         9.02081653e-02, -1.74774826e-01,  2.27988705e-01,  1.47704661e-01,\n",
              "         2.56229471e-02, -9.12379846e-02,  2.57092237e-01,  1.37849614e-01,\n",
              "        -2.29706448e-02,  2.16104671e-01, -4.60359454e-02,  3.66384313e-02,\n",
              "        -1.63424015e-02,  2.73880120e-02, -5.53685948e-02, -1.97724556e-03,\n",
              "        -1.10404097e-01,  1.11263171e-01,  2.96329379e-01,  1.53934792e-01,\n",
              "        -2.79147495e-02, -1.66692641e-02,  1.73178837e-01,  2.42529839e-01],\n",
              "       dtype=float32)>,\n",
              " <tf.Variable 'dense_layer_2/kernel:0' shape=(128, 128) dtype=float32, numpy=\n",
              " array([[-0.11365592,  0.10942586,  0.17293431, ...,  0.10783415,\n",
              "          0.07061532, -0.08290783],\n",
              "        [-0.00991327,  0.01902965, -0.00363872, ...,  0.28421924,\n",
              "         -0.0972864 ,  0.03461534],\n",
              "        [-0.01521503,  0.02572462, -0.12552099, ..., -0.19930378,\n",
              "          0.15122533, -0.11040841],\n",
              "        ...,\n",
              "        [-0.01788986,  0.050836  ,  0.01807342, ...,  0.00724657,\n",
              "         -0.06623939,  0.10735758],\n",
              "        [-0.07486381,  0.08835432,  0.0587553 , ..., -0.03022324,\n",
              "         -0.12201197, -0.09116457],\n",
              "        [ 0.06469286,  0.03515016,  0.23217157, ..., -0.0786665 ,\n",
              "         -0.15848483,  0.24353099]], dtype=float32)>,\n",
              " <tf.Variable 'dense_layer_2/bias:0' shape=(128,) dtype=float32, numpy=\n",
              " array([ 0.00876022,  0.04716561,  0.07063576, -0.03642989,  0.05556329,\n",
              "        -0.05898078,  0.13406354,  0.03140273,  0.03042183, -0.01822561,\n",
              "         0.07712982,  0.08858714,  0.05047749,  0.04669019,  0.06744363,\n",
              "         0.14533189, -0.00940954,  0.05964956,  0.11779766,  0.06360151,\n",
              "         0.0677005 ,  0.0781243 ,  0.08109555, -0.00678898,  0.10473822,\n",
              "         0.03953184,  0.150872  ,  0.04288358,  0.0789419 ,  0.07940124,\n",
              "         0.19228385,  0.07747772,  0.06372152,  0.08702944,  0.1231144 ,\n",
              "         0.09730786,  0.1700728 ,  0.16807121,  0.1217082 ,  0.07491282,\n",
              "         0.0259926 ,  0.05009708,  0.07811387,  0.0169783 ,  0.01041485,\n",
              "         0.10709038,  0.12950036,  0.0151695 ,  0.01791063,  0.07482186,\n",
              "         0.08208621,  0.12084169,  0.03337751,  0.1274272 ,  0.06390506,\n",
              "         0.04281524,  0.14872605,  0.10850187,  0.03613292,  0.08147132,\n",
              "         0.03526879,  0.15671144,  0.04348811, -0.02406997,  0.05644734,\n",
              "         0.06849746,  0.11381105,  0.09306738,  0.1372652 ,  0.03721261,\n",
              "         0.01293683,  0.08602764,  0.15011613,  0.01129553,  0.06481712,\n",
              "         0.04023644,  0.14836739,  0.13946447,  0.0726043 ,  0.16446468,\n",
              "         0.04058409,  0.06242817,  0.02479284,  0.1201885 ,  0.07413144,\n",
              "         0.04464873,  0.09508397,  0.07400827, -0.01739139, -0.01301224,\n",
              "         0.06196693, -0.01622766,  0.22437622,  0.09656019,  0.06917202,\n",
              "        -0.01416969,  0.17944275,  0.09460934,  0.12073289,  0.09289415,\n",
              "         0.06367921,  0.0225716 ,  0.05433833,  0.2614467 ,  0.06649455,\n",
              "         0.03983785,  0.14413357,  0.07088981,  0.13755287,  0.10356971,\n",
              "         0.03915955,  0.17597355, -0.00259956,  0.1635182 ,  0.14625274,\n",
              "         0.13471487,  0.095741  ,  0.05723488,  0.14652427,  0.07338338,\n",
              "         0.11601321,  0.05142333,  0.02869653,  0.06375083,  0.1723381 ,\n",
              "         0.0697651 ,  0.15937583,  0.05833808], dtype=float32)>,\n",
              " <tf.Variable 'dense_layer_3/kernel:0' shape=(128, 10) dtype=float32, numpy=\n",
              " array([[-0.21858029,  0.11353882,  0.16361104, ..., -0.26466155,\n",
              "         -0.20952532,  0.15730986],\n",
              "        [-0.15416703, -0.17126432, -0.17197475, ...,  0.1843471 ,\n",
              "         -0.11270954, -0.20494585],\n",
              "        [-0.29740262, -0.21713379, -0.2697383 , ..., -0.01765935,\n",
              "          0.25639513, -0.07205477],\n",
              "        ...,\n",
              "        [-0.07039943, -0.33462366, -0.05948271, ...,  0.39007187,\n",
              "          0.3240779 ,  0.4033072 ],\n",
              "        [ 0.21677108, -0.32396257, -0.03462199, ...,  0.07979873,\n",
              "         -0.15699758,  0.0098927 ],\n",
              "        [-0.23156552,  0.18948892, -0.1292345 , ...,  0.2390539 ,\n",
              "          0.2436306 , -0.22073744]], dtype=float32)>,\n",
              " <tf.Variable 'dense_layer_3/bias:0' shape=(10,) dtype=float32, numpy=\n",
              " array([ 0.03588158, -0.1784642 ,  0.18186982,  0.18084657, -0.14815505,\n",
              "         0.22531109,  0.13771386, -0.02222034, -0.01627809, -0.3965077 ],\n",
              "       dtype=float32)>]"
            ]
          },
          "metadata": {
            "tags": []
          },
          "execution_count": 28
        }
      ]
    },
    {
      "cell_type": "code",
      "metadata": {
        "id": "SPzS9VdLgBgK",
        "outputId": "8dbcdbf8-3fe3-463d-be10-7b04d83bef75",
        "colab": {
          "base_uri": "https://localhost:8080/"
        }
      },
      "source": [
        "model_2.get_config()"
      ],
      "execution_count": 29,
      "outputs": [
        {
          "output_type": "execute_result",
          "data": {
            "text/plain": [
              "{'layers': [{'class_name': 'InputLayer',\n",
              "   'config': {'batch_input_shape': (None, 784),\n",
              "    'dtype': 'float32',\n",
              "    'name': 'dense_layer_input',\n",
              "    'ragged': False,\n",
              "    'sparse': False}},\n",
              "  {'class_name': 'Dense',\n",
              "   'config': {'activation': 'relu',\n",
              "    'activity_regularizer': None,\n",
              "    'batch_input_shape': (None, 784),\n",
              "    'bias_constraint': None,\n",
              "    'bias_initializer': {'class_name': 'Zeros', 'config': {}},\n",
              "    'bias_regularizer': None,\n",
              "    'dtype': 'float32',\n",
              "    'kernel_constraint': None,\n",
              "    'kernel_initializer': {'class_name': 'GlorotUniform',\n",
              "     'config': {'seed': None}},\n",
              "    'kernel_regularizer': None,\n",
              "    'name': 'dense_layer',\n",
              "    'trainable': True,\n",
              "    'units': 128,\n",
              "    'use_bias': True}},\n",
              "  {'class_name': 'Dropout',\n",
              "   'config': {'dtype': 'float32',\n",
              "    'name': 'dropout',\n",
              "    'noise_shape': None,\n",
              "    'rate': 0.3,\n",
              "    'seed': None,\n",
              "    'trainable': True}},\n",
              "  {'class_name': 'Dense',\n",
              "   'config': {'activation': 'relu',\n",
              "    'activity_regularizer': None,\n",
              "    'bias_constraint': None,\n",
              "    'bias_initializer': {'class_name': 'Zeros', 'config': {}},\n",
              "    'bias_regularizer': None,\n",
              "    'dtype': 'float32',\n",
              "    'kernel_constraint': None,\n",
              "    'kernel_initializer': {'class_name': 'GlorotUniform',\n",
              "     'config': {'seed': None}},\n",
              "    'kernel_regularizer': None,\n",
              "    'name': 'dense_layer_2',\n",
              "    'trainable': True,\n",
              "    'units': 128,\n",
              "    'use_bias': True}},\n",
              "  {'class_name': 'Dropout',\n",
              "   'config': {'dtype': 'float32',\n",
              "    'name': 'dropout_1',\n",
              "    'noise_shape': None,\n",
              "    'rate': 0.3,\n",
              "    'seed': None,\n",
              "    'trainable': True}},\n",
              "  {'class_name': 'Dense',\n",
              "   'config': {'activation': 'softmax',\n",
              "    'activity_regularizer': None,\n",
              "    'bias_constraint': None,\n",
              "    'bias_initializer': {'class_name': 'Zeros', 'config': {}},\n",
              "    'bias_regularizer': None,\n",
              "    'dtype': 'float32',\n",
              "    'kernel_constraint': None,\n",
              "    'kernel_initializer': {'class_name': 'GlorotUniform',\n",
              "     'config': {'seed': None}},\n",
              "    'kernel_regularizer': None,\n",
              "    'name': 'dense_layer_3',\n",
              "    'trainable': True,\n",
              "    'units': 10,\n",
              "    'use_bias': True}}],\n",
              " 'name': 'sequential_2'}"
            ]
          },
          "metadata": {
            "tags": []
          },
          "execution_count": 29
        }
      ]
    },
    {
      "cell_type": "markdown",
      "metadata": {
        "id": "pjps75cBuR1Z"
      },
      "source": [
        "###Improved Model 3: Changing the Optimizer - Adam"
      ]
    },
    {
      "cell_type": "code",
      "metadata": {
        "id": "WmXFwU5puZIF"
      },
      "source": [
        "#Most common type of model is a stack of layers\n",
        "model_3 = tf.keras.Sequential()\n",
        "N_hidden = 64\n",
        "# Adds a densely-connected layer with 64 units to the model:\n",
        "model_3.add(Dense(N_hidden, name='dense_layer', input_shape=(784,), activation = 'relu'))\n",
        "# Now the model will take as input arrays of shape (*, 784)# and output arrays of shape (*, 64)\n",
        "model_3.add(Dropout(0.3))\n",
        "# Adding another dense layer:\n",
        "model_3.add(Dense(N_hidden, name='dense_layer_2', activation='relu'))\n",
        "model_3.add(Dropout(0.3))\n",
        "# After the first layer, you don't need to specify\u000b# the size of the input anymore:\n",
        "# Add an output layer with 10 output units (10 different classes):\n",
        "model_3.add(Dense(10, name='dense_layer_3', activation = 'softmax'))\n"
      ],
      "execution_count": 30,
      "outputs": []
    },
    {
      "cell_type": "code",
      "metadata": {
        "id": "71IzuyLBt3pQ"
      },
      "source": [
        "# Compiling the model.\n",
        "model_3.compile(optimizer='Adam', \n",
        "              loss='categorical_crossentropy',\n",
        "              metrics=['accuracy'])"
      ],
      "execution_count": 31,
      "outputs": []
    },
    {
      "cell_type": "code",
      "metadata": {
        "id": "KfP4B4Sat3pW",
        "outputId": "8ed479c6-1527-40d3-a3ae-8267da3fb648",
        "colab": {
          "base_uri": "https://localhost:8080/"
        }
      },
      "source": [
        "# Training the model. \n",
        "training = model_3.fit(X_train, Y_train, batch_size=128, epochs=20, validation_split=0.2) \n"
      ],
      "execution_count": 32,
      "outputs": [
        {
          "output_type": "stream",
          "text": [
            "Epoch 1/20\n",
            "375/375 [==============================] - 1s 3ms/step - loss: 0.8791 - accuracy: 0.6841 - val_loss: 0.4907 - val_accuracy: 0.8266\n",
            "Epoch 2/20\n",
            "375/375 [==============================] - 1s 3ms/step - loss: 0.5443 - accuracy: 0.8099 - val_loss: 0.4272 - val_accuracy: 0.8443\n",
            "Epoch 3/20\n",
            "375/375 [==============================] - 1s 3ms/step - loss: 0.4862 - accuracy: 0.8283 - val_loss: 0.4047 - val_accuracy: 0.8495\n",
            "Epoch 4/20\n",
            "375/375 [==============================] - 1s 3ms/step - loss: 0.4581 - accuracy: 0.8369 - val_loss: 0.3791 - val_accuracy: 0.8627\n",
            "Epoch 5/20\n",
            "375/375 [==============================] - 1s 3ms/step - loss: 0.4373 - accuracy: 0.8454 - val_loss: 0.3762 - val_accuracy: 0.8652\n",
            "Epoch 6/20\n",
            "375/375 [==============================] - 1s 3ms/step - loss: 0.4260 - accuracy: 0.8468 - val_loss: 0.3745 - val_accuracy: 0.8616\n",
            "Epoch 7/20\n",
            "375/375 [==============================] - 1s 3ms/step - loss: 0.4074 - accuracy: 0.8527 - val_loss: 0.3575 - val_accuracy: 0.8709\n",
            "Epoch 8/20\n",
            "375/375 [==============================] - 1s 3ms/step - loss: 0.4027 - accuracy: 0.8560 - val_loss: 0.3543 - val_accuracy: 0.8712\n",
            "Epoch 9/20\n",
            "375/375 [==============================] - 1s 3ms/step - loss: 0.3900 - accuracy: 0.8593 - val_loss: 0.3564 - val_accuracy: 0.8691\n",
            "Epoch 10/20\n",
            "375/375 [==============================] - 1s 3ms/step - loss: 0.3825 - accuracy: 0.8629 - val_loss: 0.3459 - val_accuracy: 0.8752\n",
            "Epoch 11/20\n",
            "375/375 [==============================] - 1s 3ms/step - loss: 0.3789 - accuracy: 0.8637 - val_loss: 0.3437 - val_accuracy: 0.8769\n",
            "Epoch 12/20\n",
            "375/375 [==============================] - 1s 3ms/step - loss: 0.3776 - accuracy: 0.8634 - val_loss: 0.3473 - val_accuracy: 0.8734\n",
            "Epoch 13/20\n",
            "375/375 [==============================] - 1s 3ms/step - loss: 0.3685 - accuracy: 0.8675 - val_loss: 0.3392 - val_accuracy: 0.8804\n",
            "Epoch 14/20\n",
            "375/375 [==============================] - 1s 3ms/step - loss: 0.3618 - accuracy: 0.8694 - val_loss: 0.3397 - val_accuracy: 0.8758\n",
            "Epoch 15/20\n",
            "375/375 [==============================] - 1s 3ms/step - loss: 0.3585 - accuracy: 0.8696 - val_loss: 0.3391 - val_accuracy: 0.8759\n",
            "Epoch 16/20\n",
            "375/375 [==============================] - 1s 3ms/step - loss: 0.3573 - accuracy: 0.8688 - val_loss: 0.3359 - val_accuracy: 0.8809\n",
            "Epoch 17/20\n",
            "375/375 [==============================] - 1s 3ms/step - loss: 0.3518 - accuracy: 0.8727 - val_loss: 0.3436 - val_accuracy: 0.8746\n",
            "Epoch 18/20\n",
            "375/375 [==============================] - 1s 3ms/step - loss: 0.3498 - accuracy: 0.8729 - val_loss: 0.3377 - val_accuracy: 0.8800\n",
            "Epoch 19/20\n",
            "375/375 [==============================] - 1s 3ms/step - loss: 0.3405 - accuracy: 0.8765 - val_loss: 0.3329 - val_accuracy: 0.8814\n",
            "Epoch 20/20\n",
            "375/375 [==============================] - 1s 3ms/step - loss: 0.3414 - accuracy: 0.8741 - val_loss: 0.3362 - val_accuracy: 0.8792\n"
          ],
          "name": "stdout"
        }
      ]
    },
    {
      "cell_type": "code",
      "metadata": {
        "id": "uuwhbVkxj0iR",
        "outputId": "2af1416a-ae23-4f1f-b44a-1f71ef0fcee6",
        "colab": {
          "base_uri": "https://localhost:8080/",
          "height": 590
        }
      },
      "source": [
        "import matplotlib.pyplot as plt\n",
        "%matplotlib inline\n",
        "# list all data in training\n",
        "print(training.history.keys())\n",
        "# summarize training for accuracy\n",
        "plt.plot(training.history['accuracy'])\n",
        "plt.plot(training.history['val_accuracy'])\n",
        "plt.title('model accuracy')\n",
        "plt.ylabel('accuracy')\n",
        "plt.xlabel('epoch')\n",
        "plt.legend(['train', 'test'], loc='upper left')\n",
        "plt.show()\n",
        "# summarize traning for loss\n",
        "plt.plot(training.history['loss'])\n",
        "plt.plot(training.history['val_loss'])\n",
        "plt.title('model loss')\n",
        "plt.ylabel('loss')\n",
        "plt.xlabel('epoch')\n",
        "plt.legend(['train', 'test'], loc='upper left')\n",
        "plt.show()"
      ],
      "execution_count": 33,
      "outputs": [
        {
          "output_type": "stream",
          "text": [
            "dict_keys(['loss', 'accuracy', 'val_loss', 'val_accuracy'])\n"
          ],
          "name": "stdout"
        },
        {
          "output_type": "display_data",
          "data": {
            "image/png": "[encoded data removed]",
            "text/plain": [
              "<Figure size 432x288 with 1 Axes>"
            ]
          },
          "metadata": {
            "tags": [],
            "needs_background": "light"
          }
        },
        {
          "output_type": "display_data",
          "data": {
            "image/png": "[encoded data removed]",
            "text/plain": [
              "<Figure size 432x288 with 1 Axes>"
            ]
          },
          "metadata": {
            "tags": [],
            "needs_background": "light"
          }
        }
      ]
    },
    {
      "cell_type": "code",
      "metadata": {
        "id": "En35EsWnuHmC",
        "outputId": "3e37bc5c-d6f4-48a2-8da0-526f96d858f4",
        "colab": {
          "base_uri": "https://localhost:8080/"
        }
      },
      "source": [
        "#evaluate the model\n",
        "test_loss, test_acc = model_3.evaluate(X_test, Y_test)\n",
        "print('Test accuracy:', test_acc)"
      ],
      "execution_count": 34,
      "outputs": [
        {
          "output_type": "stream",
          "text": [
            "313/313 [==============================] - 1s 2ms/step - loss: 0.3651 - accuracy: 0.8701\n",
            "Test accuracy: 0.8701000213623047\n"
          ],
          "name": "stdout"
        }
      ]
    },
    {
      "cell_type": "code",
      "metadata": {
        "id": "Vn7mv0zhj0i2",
        "outputId": "d65d90ff-bd20-4c5c-aa33-21adff7ff8e3",
        "colab": {
          "base_uri": "https://localhost:8080/"
        }
      },
      "source": [
        "model_3.summary"
      ],
      "execution_count": 35,
      "outputs": [
        {
          "output_type": "execute_result",
          "data": {
            "text/plain": [
              "<bound method Model.summary of <tensorflow.python.keras.engine.sequential.Sequential object at 0x7f018c37a2b0>>"
            ]
          },
          "metadata": {
            "tags": []
          },
          "execution_count": 35
        }
      ]
    },
    {
      "cell_type": "code",
      "metadata": {
        "id": "P5eSv_K5j0jK",
        "outputId": "ad6b3480-f5e0-470e-9d4d-6c3f338d4158",
        "colab": {
          "base_uri": "https://localhost:8080/"
        }
      },
      "source": [
        "model_3.weights"
      ],
      "execution_count": 36,
      "outputs": [
        {
          "output_type": "execute_result",
          "data": {
            "text/plain": [
              "[<tf.Variable 'dense_layer/kernel:0' shape=(784, 64) dtype=float32, numpy=\n",
              " array([[ 0.00595373, -0.05876088, -0.12829556, ..., -0.05777584,\n",
              "          0.24021274,  0.1812252 ],\n",
              "        [-0.02437353, -0.02478566, -0.05831794, ..., -0.00448031,\n",
              "          0.05394939,  0.17459363],\n",
              "        [ 0.058743  , -0.05940138, -0.13595071, ...,  0.00775513,\n",
              "          0.05065181, -0.05101523],\n",
              "        ...,\n",
              "        [ 0.05094571,  0.03154425,  0.1977669 , ..., -0.06045071,\n",
              "         -0.04335425,  0.08437224],\n",
              "        [ 0.07654614, -0.19332431,  0.33476388, ..., -0.0545299 ,\n",
              "          0.21782556,  0.16012181],\n",
              "        [ 0.02057359, -0.01520908,  0.07918079, ..., -0.06653364,\n",
              "          0.1287533 ,  0.12749696]], dtype=float32)>,\n",
              " <tf.Variable 'dense_layer/bias:0' shape=(64,) dtype=float32, numpy=\n",
              " array([ 0.08213938,  0.16088147, -0.1382813 ,  0.16691533, -0.17150792,\n",
              "        -0.01457836, -0.26247007, -0.0278434 , -0.0659909 , -0.00866102,\n",
              "         0.04161929,  0.05681457,  0.06068777,  0.76240796,  0.12230874,\n",
              "         0.13579436,  0.01124552, -0.0646668 , -0.44531906, -0.01342266,\n",
              "         0.06776535,  0.12163773,  0.02552168, -0.09793113,  0.04547719,\n",
              "        -0.161787  , -0.33592328, -0.30934355,  0.05516227, -0.59085894,\n",
              "         0.39855137,  0.19394565, -0.20622745,  0.27622473,  0.35716525,\n",
              "         0.260505  ,  0.17010424,  0.7856628 , -0.16173506, -0.37087843,\n",
              "        -0.02384171,  0.27648082, -0.00881073,  0.16621299,  0.24166405,\n",
              "         0.3513534 ,  0.1086585 ,  0.05835061, -0.12843299,  0.18525633,\n",
              "         0.27598104,  0.06395608, -0.35527498,  0.1321017 ,  0.23595764,\n",
              "        -0.1706257 ,  0.53551906,  0.31316683,  0.4822644 , -0.20197293,\n",
              "        -0.02297176,  0.12271518,  0.12751266, -0.19446358], dtype=float32)>,\n",
              " <tf.Variable 'dense_layer_2/kernel:0' shape=(64, 64) dtype=float32, numpy=\n",
              " array([[ 1.33662170e-03, -2.24205386e-02, -1.11058868e-01, ...,\n",
              "          7.09088072e-02, -7.41843879e-02, -3.47136170e-01],\n",
              "        [-4.13474828e-01,  1.09959930e-01,  1.08872116e-01, ...,\n",
              "         -1.63076013e-01, -8.93547907e-02,  3.03008258e-01],\n",
              "        [ 9.43448469e-02, -2.27468893e-01,  3.86840402e-04, ...,\n",
              "         -9.18507855e-03, -1.71323195e-01, -5.59002832e-02],\n",
              "        ...,\n",
              "        [-3.33015770e-01, -3.81708980e-01, -3.14238995e-01, ...,\n",
              "         -4.44514692e-01,  4.24410105e-01,  3.10415059e-01],\n",
              "        [-3.01166177e-01,  2.80682057e-01, -9.93090719e-02, ...,\n",
              "          7.07369000e-02, -1.72109082e-01, -2.64090672e-02],\n",
              "        [ 2.63941407e-01, -1.14970552e-02, -3.33072484e-01, ...,\n",
              "          1.40521705e-01,  1.40430152e-01,  1.04194395e-01]], dtype=float32)>,\n",
              " <tf.Variable 'dense_layer_2/bias:0' shape=(64,) dtype=float32, numpy=\n",
              " array([ 0.20707613,  0.33623746,  0.24164002,  0.19082853,  0.10861114,\n",
              "         0.45164073,  0.00739884,  0.17383748,  0.26151535, -0.13866735,\n",
              "         0.05692545,  0.2558618 ,  0.20093045,  0.09938125,  0.01455913,\n",
              "         0.22146633,  0.1298168 ,  0.07774536,  0.12150567,  0.17266111,\n",
              "         0.16387315,  0.21978264,  0.4060414 ,  0.30261326,  0.22611289,\n",
              "         0.29695767,  0.11082456,  0.28285682,  0.4115137 ,  0.11813346,\n",
              "         0.30452588,  0.4393219 ,  0.13373314,  0.0021717 ,  0.23072302,\n",
              "         0.05425536, -0.00387369,  0.2638883 ,  0.3774167 ,  0.21659993,\n",
              "         0.2988756 ,  0.2837396 ,  0.25017232,  0.44513392,  0.32736757,\n",
              "         0.42807466,  0.12424504,  0.01971048,  0.3418309 ,  0.37915868,\n",
              "         0.07196101, -0.06303317,  0.12094877,  0.34893438,  0.28834966,\n",
              "         0.2265742 ,  0.15059435,  0.22930674,  0.22334659,  0.07231203,\n",
              "         0.31034592,  0.01349818,  0.32607284,  0.10104733], dtype=float32)>,\n",
              " <tf.Variable 'dense_layer_3/kernel:0' shape=(64, 10) dtype=float32, numpy=\n",
              " array([[-1.54579252e-01,  1.17479414e-02,  2.10175425e-01,\n",
              "          2.01468080e-01,  2.45329961e-01, -5.54439008e-01,\n",
              "          1.89989999e-01, -1.57889396e-01, -4.88239229e-01,\n",
              "          1.64410591e-01],\n",
              "        [ 8.40438902e-02,  6.13798648e-02, -4.23133671e-01,\n",
              "          6.51102886e-02, -4.27897602e-01, -4.55736697e-01,\n",
              "          6.41638190e-02, -1.35846519e+00, -2.56138355e-01,\n",
              "         -1.03208625e+00],\n",
              "        [ 9.25649256e-02, -3.28188807e-01, -7.68480152e-02,\n",
              "         -4.57422644e-01, -1.60688981e-01,  1.46521613e-01,\n",
              "          2.05474705e-01, -5.20109907e-02,  2.85375059e-01,\n",
              "         -4.65351671e-01],\n",
              "        [ 1.36405170e-01, -4.55061316e-01, -2.52827883e-01,\n",
              "         -3.74852121e-01, -2.23843232e-01,  1.70967162e-01,\n",
              "          1.22545809e-01,  1.19432598e-01,  1.84369177e-01,\n",
              "         -5.49066365e-01],\n",
              "        [ 2.67130136e-01,  7.10382536e-02, -1.54714823e-01,\n",
              "         -1.92239240e-01,  2.11858839e-01, -9.26280439e-01,\n",
              "          2.66282648e-01, -7.27634907e-01, -3.33237857e-01,\n",
              "         -4.19962794e-01],\n",
              "        [ 2.31286392e-01,  2.22554088e-01,  2.25407124e-01,\n",
              "          2.23413885e-01,  2.34286308e-01, -8.56067002e-01,\n",
              "          2.18826994e-01, -1.23880017e+00, -2.16919631e-01,\n",
              "         -7.67668009e-01],\n",
              "        [ 2.61988997e-01,  2.81160474e-01,  4.42042165e-02,\n",
              "          2.33036220e-01, -2.95231909e-01, -4.59427536e-02,\n",
              "          1.00095555e-01, -5.65815158e-02, -3.78968835e-01,\n",
              "          3.67576063e-01],\n",
              "        [ 4.98924479e-02, -4.57869560e-01, -1.76638931e-01,\n",
              "          2.41768867e-01, -1.78157315e-01, -2.27126062e-01,\n",
              "          1.72802225e-01,  2.20580995e-01, -4.93162245e-01,\n",
              "          2.42361188e-01],\n",
              "        [-2.70570785e-01, -3.49447370e-01,  1.87696919e-01,\n",
              "          1.19184405e-01,  2.12926418e-01, -5.59971869e-01,\n",
              "         -4.94506843e-02, -3.97789717e-01,  2.30668738e-01,\n",
              "         -2.92245328e-01],\n",
              "        [ 2.14537024e-01, -3.44098538e-01, -1.63044445e-02,\n",
              "         -4.00577277e-01,  1.73234120e-01, -2.21524552e-01,\n",
              "         -9.54307392e-02, -2.25065380e-01,  3.60124856e-01,\n",
              "         -2.65553564e-01],\n",
              "        [ 1.75962076e-01,  2.71303833e-01,  1.14435762e-01,\n",
              "          2.88107902e-01,  2.15475380e-01,  8.12826902e-02,\n",
              "         -2.04108879e-01, -2.65097111e-01,  3.55685979e-01,\n",
              "          2.50192881e-01],\n",
              "        [-2.29125410e-01, -1.49587870e-01, -2.08414063e-01,\n",
              "         -2.80040145e-01, -2.86221892e-01, -4.93905753e-01,\n",
              "          4.00570370e-02,  3.79128277e-01, -2.20134452e-01,\n",
              "         -7.86163434e-02],\n",
              "        [ 9.20185968e-02, -2.67962903e-01, -3.16834450e-01,\n",
              "         -2.03853160e-01, -6.64465651e-02, -5.34905791e-01,\n",
              "          8.32729563e-02, -9.32950079e-01, -2.00533003e-01,\n",
              "         -2.34065056e-01],\n",
              "        [ 2.32566282e-01, -2.24595517e-01,  2.34250769e-01,\n",
              "         -2.39887908e-01,  2.25553706e-01,  1.06148697e-01,\n",
              "          2.15300113e-01, -7.56041527e-01, -3.73629838e-01,\n",
              "         -3.18069831e-02],\n",
              "        [-2.62690902e-01, -2.35990897e-01, -3.13865870e-01,\n",
              "         -2.35163391e-01,  9.00013074e-02,  2.07835302e-01,\n",
              "          1.34107113e-01, -1.72786251e-01, -3.83481413e-01,\n",
              "          2.64334023e-01],\n",
              "        [ 1.55041665e-01,  3.02289844e-01,  1.11433834e-01,\n",
              "          5.12289591e-02,  1.06012397e-01,  2.83283949e-01,\n",
              "         -2.45087668e-01,  1.61089957e-01, -3.70507181e-01,\n",
              "         -3.92608017e-01],\n",
              "        [-4.04210091e-01,  1.84496582e-01, -2.21116811e-01,\n",
              "         -4.16494496e-02,  1.15259953e-01,  2.18620673e-01,\n",
              "         -2.51011580e-01,  1.62335530e-01, -5.45386732e-01,\n",
              "          2.62068152e-01],\n",
              "        [ 2.11908132e-01,  9.90647301e-02,  2.86054134e-01,\n",
              "          2.18020603e-01,  2.14223504e-01, -3.10544968e-01,\n",
              "         -1.43922761e-01,  2.63190895e-01, -2.73534179e-01,\n",
              "          2.86892533e-01],\n",
              "        [-6.75375909e-02, -8.50336179e-02, -4.28785294e-01,\n",
              "          2.48519666e-02, -5.68048179e-01, -2.49653384e-01,\n",
              "         -2.70776212e-01,  1.32717788e-01,  1.94375798e-01,\n",
              "          1.29404873e-01],\n",
              "        [-2.83798128e-01,  1.08419105e-01, -6.39887810e-01,\n",
              "         -3.40085430e-03, -5.46936095e-01,  2.63522446e-01,\n",
              "         -3.32085699e-01,  2.41665199e-01, -5.57307541e-01,\n",
              "          2.53834456e-01],\n",
              "        [-3.61973345e-01,  1.78986847e-01, -7.43244514e-02,\n",
              "          7.11548701e-02,  8.85264724e-02, -9.95764494e-01,\n",
              "         -1.92776963e-01, -6.69767320e-01, -3.74342352e-02,\n",
              "         -6.39812350e-01],\n",
              "        [ 1.84834197e-01,  3.02835107e-01, -5.21558344e-01,\n",
              "          2.11658701e-01, -1.24424808e-01,  2.78755784e-01,\n",
              "         -3.22946012e-02, -1.83020029e-02, -3.97162557e-01,\n",
              "         -2.26579487e-01],\n",
              "        [ 1.88532904e-01,  4.19257150e-04, -3.29277724e-01,\n",
              "          1.87330469e-01,  7.69069418e-03, -1.84860632e-01,\n",
              "          1.54165655e-01,  3.76478285e-01, -2.32480943e-01,\n",
              "         -1.95123672e-01],\n",
              "        [-1.28611907e-01, -4.78563100e-01,  2.31825337e-01,\n",
              "         -1.72114864e-01,  2.53402084e-01,  2.14254290e-01,\n",
              "          2.18452618e-01, -5.75540066e-01,  2.37706676e-01,\n",
              "         -2.68820256e-01],\n",
              "        [-3.34326267e-01,  1.60855043e-03,  2.56917804e-01,\n",
              "          1.77431926e-01,  2.79922336e-01, -8.30132067e-01,\n",
              "          2.51790553e-01, -2.76866436e-01, -4.77355450e-01,\n",
              "         -8.84857625e-02],\n",
              "        [-1.05163082e-01, -1.04962885e-01,  2.94470191e-02,\n",
              "          2.73444474e-01,  3.08038056e-01, -9.63673592e-01,\n",
              "         -1.02022402e-01, -5.27572513e-01, -2.63889700e-01,\n",
              "         -6.60329983e-02],\n",
              "        [-3.35943818e-01, -4.49818999e-01,  1.22807592e-01,\n",
              "         -1.74331348e-02,  2.31036216e-01,  2.94168651e-01,\n",
              "          2.27894440e-01, -3.24015230e-01,  1.24300256e-01,\n",
              "          3.07642877e-01],\n",
              "        [ 1.57378852e-01, -2.98201203e-01,  1.19521648e-01,\n",
              "          2.12749407e-01,  2.36168489e-01, -7.06136584e-01,\n",
              "          2.36770138e-01, -5.52285016e-01,  2.58317173e-01,\n",
              "         -6.86757982e-01],\n",
              "        [ 2.55435616e-01, -2.61463463e-01,  2.37442255e-01,\n",
              "          2.34421939e-01, -1.03467807e-01, -7.01817453e-01,\n",
              "          2.37863690e-01, -9.36356783e-01, -3.63682257e-03,\n",
              "         -3.90126497e-01],\n",
              "        [-4.24033612e-01,  2.26509616e-01, -6.47613704e-01,\n",
              "         -5.09357870e-01, -5.79264343e-01,  1.81273088e-01,\n",
              "         -5.61990142e-01,  2.00976223e-01, -1.23218670e-01,\n",
              "          2.08638877e-01],\n",
              "        [-6.49591148e-01, -6.52950048e-01, -2.24569291e-01,\n",
              "         -6.92896008e-01, -2.64359027e-01,  2.34789193e-01,\n",
              "         -5.26672184e-01,  2.72970915e-01, -1.86241478e-01,\n",
              "          2.64415592e-01],\n",
              "        [ 1.87030047e-01, -3.63565445e-01,  2.31848687e-01,\n",
              "          2.48354539e-01, -1.83230206e-01,  2.13543233e-02,\n",
              "          9.17716846e-02, -5.46325207e-01, -2.86326408e-01,\n",
              "         -2.51376063e-01],\n",
              "        [ 1.59781873e-01, -4.42864709e-02, -2.83740908e-01,\n",
              "         -4.50363815e-01, -2.39327908e-01,  3.06044400e-01,\n",
              "         -5.46958521e-02, -3.25457364e-01,  8.45713839e-02,\n",
              "         -3.13711911e-01],\n",
              "        [ 8.46863762e-02,  2.87647188e-01, -1.43294662e-01,\n",
              "          2.06395999e-01,  1.34038970e-01, -6.06462181e-01,\n",
              "          1.29850525e-02, -5.77204764e-01,  3.39783520e-01,\n",
              "         -9.60163921e-02],\n",
              "        [-2.87525356e-01,  9.85290483e-02, -1.37874827e-01,\n",
              "          2.58213133e-01,  2.22000822e-01,  2.14354590e-01,\n",
              "          1.73332423e-01,  3.52305084e-01, -1.77140653e-01,\n",
              "         -3.22891474e-01],\n",
              "        [-2.20880046e-01,  5.06041050e-01, -1.20496508e-02,\n",
              "         -8.08221772e-02, -3.50589901e-01,  2.55731851e-01,\n",
              "          2.82972213e-02, -5.06775916e-01,  2.46895291e-02,\n",
              "         -6.78405404e-01],\n",
              "        [-2.60866731e-01, -6.91457748e-01, -4.01272237e-01,\n",
              "         -6.30820334e-01,  2.55537517e-02, -1.56695396e-01,\n",
              "          2.02792883e-01, -1.23097919e-01,  1.41544506e-01,\n",
              "          3.41236264e-01],\n",
              "        [ 1.75037026e-01,  1.67260155e-01,  1.76051214e-01,\n",
              "         -2.38674894e-01,  1.58785343e-01, -9.03565764e-01,\n",
              "          1.60211235e-01, -1.11518717e+00, -3.01226765e-01,\n",
              "         -6.28136516e-01],\n",
              "        [-1.61347345e-01, -4.46700811e-01, -4.90733445e-01,\n",
              "          2.59402059e-02,  1.26137575e-02,  2.35647097e-01,\n",
              "         -3.33511263e-01,  2.22602919e-01,  2.31095582e-01,\n",
              "         -1.63027361e-01],\n",
              "        [-2.15626191e-02, -4.02881831e-01, -2.21874908e-01,\n",
              "         -6.31098807e-01, -6.12533510e-01,  1.69260010e-01,\n",
              "         -5.86978123e-02,  1.70256346e-01,  1.20191298e-01,\n",
              "          1.87565580e-01],\n",
              "        [-2.71245420e-01,  1.39165148e-01,  2.03193188e-01,\n",
              "          1.87561870e-01, -1.96167275e-01, -1.68663472e-01,\n",
              "         -2.40290001e-01,  2.29102567e-01,  1.13610730e-01,\n",
              "         -4.64866608e-01],\n",
              "        [-5.04153594e-02,  2.77704626e-01,  1.93763584e-01,\n",
              "          1.77443177e-01,  1.81795567e-01, -3.63618881e-01,\n",
              "         -1.73763651e-02, -7.63205349e-01, -3.07947069e-01,\n",
              "         -6.41926289e-01],\n",
              "        [-1.17228642e-01, -4.52380836e-01, -7.08738208e-01,\n",
              "         -1.25529952e-02, -9.62606445e-02,  1.71404764e-01,\n",
              "         -4.80966479e-01,  1.21614516e-01,  1.72203347e-01,\n",
              "         -2.65877813e-01],\n",
              "        [ 1.64155036e-01,  1.10769041e-01,  1.34463146e-01,\n",
              "          1.33899406e-01, -4.46471423e-01, -1.23571411e-01,\n",
              "          1.09496407e-01, -8.89459789e-01, -4.52330351e-01,\n",
              "         -3.37445110e-01],\n",
              "        [-7.97276720e-02,  5.63585579e-01,  2.82254845e-01,\n",
              "         -2.27020949e-01, -1.28110096e-01, -7.94038057e-01,\n",
              "         -2.54122987e-02, -5.64238369e-01, -2.44180232e-01,\n",
              "         -2.74846762e-01],\n",
              "        [ 2.13262677e-01,  6.11915030e-02,  2.64331520e-01,\n",
              "          1.97471619e-01, -1.87413812e-01, -3.94221634e-01,\n",
              "          2.10218415e-01,  4.63716537e-02,  2.33506173e-01,\n",
              "         -7.44218111e-01],\n",
              "        [-5.51839054e-01,  3.39680940e-01, -8.70404392e-02,\n",
              "         -6.45900667e-01, -1.38102338e-01, -3.29648286e-01,\n",
              "         -2.89121449e-01,  2.55538404e-01, -1.29177734e-01,\n",
              "          2.04006329e-01],\n",
              "        [-1.45080730e-01,  1.41524285e-01, -4.27351922e-01,\n",
              "          2.89453734e-02, -1.62724983e-02,  2.73078948e-01,\n",
              "         -2.42259473e-01,  2.57268518e-01,  1.76998988e-01,\n",
              "          2.96874136e-01],\n",
              "        [-2.92852297e-02, -1.42630830e-01, -1.51204854e-01,\n",
              "          2.50747770e-01,  2.43361056e-01,  2.54929960e-01,\n",
              "         -1.19398698e-01, -4.16754276e-01, -3.42767864e-01,\n",
              "         -1.74933314e-01],\n",
              "        [ 2.24853605e-01, -3.18888903e-01,  2.83872664e-01,\n",
              "         -4.16195959e-01, -1.48850173e-01,  1.54578969e-01,\n",
              "          1.97181895e-01,  2.22763062e-01, -2.84142196e-01,\n",
              "         -4.08067435e-01],\n",
              "        [-4.25150037e-01, -1.45238832e-01, -5.98028824e-02,\n",
              "          1.99776396e-01,  1.77232563e-01,  1.67824402e-01,\n",
              "          1.16633669e-01,  5.02933785e-02,  2.79141009e-01,\n",
              "          3.46888870e-01],\n",
              "        [-9.86117125e-02,  2.28639059e-02,  1.69194207e-01,\n",
              "         -6.71627522e-01,  1.50249958e-01, -1.09329343e-01,\n",
              "         -2.02720016e-01, -2.71287084e-01,  2.65676856e-01,\n",
              "          1.42458707e-01],\n",
              "        [ 1.06711268e-01, -3.94861042e-01,  6.75581768e-02,\n",
              "         -4.10531998e-01, -4.90546763e-01,  2.44107708e-01,\n",
              "         -2.16811717e-01,  2.72012353e-01,  2.23524973e-01,\n",
              "          2.43393824e-01],\n",
              "        [ 2.59829611e-01, -1.49456933e-01, -1.40760213e-01,\n",
              "          2.63271004e-01,  1.19709812e-01, -6.04166150e-01,\n",
              "          2.64495730e-01, -3.96461457e-01, -2.31313497e-01,\n",
              "         -7.94600427e-01],\n",
              "        [-5.95910490e-01, -3.05469483e-01,  2.79339813e-02,\n",
              "         -6.80203319e-01,  6.46996126e-02,  3.80527765e-01,\n",
              "         -4.17293608e-03, -2.15517551e-01, -2.72998661e-01,\n",
              "         -2.64112949e-01],\n",
              "        [-1.59525666e-02, -5.48544466e-01,  2.01349273e-01,\n",
              "         -2.87786778e-02,  2.06332684e-01,  1.12278320e-01,\n",
              "          2.08907321e-01, -7.05829501e-01,  2.12433100e-01,\n",
              "         -4.41090733e-01],\n",
              "        [-1.39248446e-01, -6.17631257e-01,  1.23751439e-01,\n",
              "         -3.61574352e-01,  1.24662481e-01, -3.72902155e-01,\n",
              "          4.96048965e-02, -3.45260888e-01,  1.85279161e-01,\n",
              "          1.06759302e-01],\n",
              "        [ 2.41655588e-01, -9.85841975e-02, -2.23091215e-01,\n",
              "         -4.27554734e-02, -3.39582950e-01, -1.65012836e-01,\n",
              "          2.68515438e-01, -7.38162518e-01, -1.51082100e-02,\n",
              "         -7.07974434e-01],\n",
              "        [ 2.56873906e-01, -2.68106371e-01,  6.10052049e-02,\n",
              "         -5.97386956e-02, -3.34104836e-01,  1.24736026e-01,\n",
              "          2.36453354e-01, -6.52378917e-01,  5.57155348e-03,\n",
              "         -2.23157275e-02],\n",
              "        [-1.72261953e-01, -3.81376706e-02,  2.65130419e-02,\n",
              "         -5.12905955e-01,  4.00227532e-02,  2.09383070e-01,\n",
              "         -2.29235649e-01, -2.05745697e-01, -1.92284003e-01,\n",
              "          2.22492769e-01],\n",
              "        [-2.57157534e-02, -5.54074645e-01,  9.80825871e-02,\n",
              "         -2.11338937e-01,  9.38075706e-02, -9.54537570e-01,\n",
              "          1.02383144e-01, -7.84511745e-01,  6.88546374e-02,\n",
              "         -8.86704266e-01],\n",
              "        [ 5.63584156e-02,  1.31688729e-01,  9.93023589e-02,\n",
              "          5.72887361e-02,  1.05840847e-01, -1.75514385e-01,\n",
              "         -1.94890976e-01, -2.40704313e-01, -4.06768650e-01,\n",
              "          2.97014028e-01],\n",
              "        [-3.67143065e-01, -3.63296598e-01, -2.84199387e-01,\n",
              "          9.73138064e-02,  9.73557234e-02,  1.08006418e-01,\n",
              "         -1.38024628e-01,  1.48678243e-01, -2.68676430e-01,\n",
              "          1.43712953e-01],\n",
              "        [ 1.74017519e-01,  4.01296373e-03, -1.87122256e-01,\n",
              "          2.34445751e-01, -3.03112805e-01, -1.69597909e-01,\n",
              "         -3.12399566e-02,  2.16354221e-01,  4.00230497e-01,\n",
              "          1.02742463e-01]], dtype=float32)>,\n",
              " <tf.Variable 'dense_layer_3/bias:0' shape=(10,) dtype=float32, numpy=\n",
              " array([-0.07425192, -0.42837417,  0.20624773,  0.2409559 , -0.14750926,\n",
              "        -0.04414402,  0.06333167,  0.22473611,  0.00666092, -0.30168155],\n",
              "       dtype=float32)>]"
            ]
          },
          "metadata": {
            "tags": []
          },
          "execution_count": 36
        }
      ]
    },
    {
      "cell_type": "code",
      "metadata": {
        "id": "OK9ct5w-j0jm",
        "outputId": "fbdf24ef-ca05-4328-e212-cbf85cd38d16",
        "colab": {
          "base_uri": "https://localhost:8080/"
        }
      },
      "source": [
        "model_3.get_config()"
      ],
      "execution_count": 37,
      "outputs": [
        {
          "output_type": "execute_result",
          "data": {
            "text/plain": [
              "{'layers': [{'class_name': 'InputLayer',\n",
              "   'config': {'batch_input_shape': (None, 784),\n",
              "    'dtype': 'float32',\n",
              "    'name': 'dense_layer_input',\n",
              "    'ragged': False,\n",
              "    'sparse': False}},\n",
              "  {'class_name': 'Dense',\n",
              "   'config': {'activation': 'relu',\n",
              "    'activity_regularizer': None,\n",
              "    'batch_input_shape': (None, 784),\n",
              "    'bias_constraint': None,\n",
              "    'bias_initializer': {'class_name': 'Zeros', 'config': {}},\n",
              "    'bias_regularizer': None,\n",
              "    'dtype': 'float32',\n",
              "    'kernel_constraint': None,\n",
              "    'kernel_initializer': {'class_name': 'GlorotUniform',\n",
              "     'config': {'seed': None}},\n",
              "    'kernel_regularizer': None,\n",
              "    'name': 'dense_layer',\n",
              "    'trainable': True,\n",
              "    'units': 64,\n",
              "    'use_bias': True}},\n",
              "  {'class_name': 'Dropout',\n",
              "   'config': {'dtype': 'float32',\n",
              "    'name': 'dropout_2',\n",
              "    'noise_shape': None,\n",
              "    'rate': 0.3,\n",
              "    'seed': None,\n",
              "    'trainable': True}},\n",
              "  {'class_name': 'Dense',\n",
              "   'config': {'activation': 'relu',\n",
              "    'activity_regularizer': None,\n",
              "    'bias_constraint': None,\n",
              "    'bias_initializer': {'class_name': 'Zeros', 'config': {}},\n",
              "    'bias_regularizer': None,\n",
              "    'dtype': 'float32',\n",
              "    'kernel_constraint': None,\n",
              "    'kernel_initializer': {'class_name': 'GlorotUniform',\n",
              "     'config': {'seed': None}},\n",
              "    'kernel_regularizer': None,\n",
              "    'name': 'dense_layer_2',\n",
              "    'trainable': True,\n",
              "    'units': 64,\n",
              "    'use_bias': True}},\n",
              "  {'class_name': 'Dropout',\n",
              "   'config': {'dtype': 'float32',\n",
              "    'name': 'dropout_3',\n",
              "    'noise_shape': None,\n",
              "    'rate': 0.3,\n",
              "    'seed': None,\n",
              "    'trainable': True}},\n",
              "  {'class_name': 'Dense',\n",
              "   'config': {'activation': 'softmax',\n",
              "    'activity_regularizer': None,\n",
              "    'bias_constraint': None,\n",
              "    'bias_initializer': {'class_name': 'Zeros', 'config': {}},\n",
              "    'bias_regularizer': None,\n",
              "    'dtype': 'float32',\n",
              "    'kernel_constraint': None,\n",
              "    'kernel_initializer': {'class_name': 'GlorotUniform',\n",
              "     'config': {'seed': None}},\n",
              "    'kernel_regularizer': None,\n",
              "    'name': 'dense_layer_3',\n",
              "    'trainable': True,\n",
              "    'units': 10,\n",
              "    'use_bias': True}}],\n",
              " 'name': 'sequential_3'}"
            ]
          },
          "metadata": {
            "tags": []
          },
          "execution_count": 37
        }
      ]
    },
    {
      "cell_type": "markdown",
      "metadata": {
        "id": "mBnxm6kkzUYm"
      },
      "source": [
        "###Improved Model 4: Increasing the number of Hidden Layer neuron "
      ]
    },
    {
      "cell_type": "code",
      "metadata": {
        "id": "1tV9x2SNzUYq"
      },
      "source": [
        "#Most common type of model is a stack of layers\n",
        "model_4 = tf.keras.Sequential()\n",
        "N_hidden = 512\n",
        "# Adds a densely-connected layer with 64 units to the model:\n",
        "model_4.add(Dense(N_hidden, name='dense_layer', input_shape=(784,), activation = 'relu'))\n",
        "# Now the model will take as input arrays of shape (*, 784)# and output arrays of shape (*, 64)\n",
        "model_4.add(Dropout(0.3))\n",
        "# Adding another dense layer:\n",
        "model_4.add(Dense(N_hidden, name='dense_layer_2', activation='relu'))\n",
        "model_4.add(Dropout(0.3))\n",
        "# After the first layer, you don't need to specify\u000b# the size of the input anymore:\n",
        "# Add an output layer with 10 output units (10 different classes):\n",
        "model_4.add(Dense(10, name='dense_layer_3', activation = 'softmax'))\n"
      ],
      "execution_count": 38,
      "outputs": []
    },
    {
      "cell_type": "code",
      "metadata": {
        "id": "ODypsK52zUY3"
      },
      "source": [
        "# Compiling the model.\n",
        "model_4.compile(optimizer='Adam', \n",
        "              loss='categorical_crossentropy',\n",
        "              metrics=['accuracy'])"
      ],
      "execution_count": 39,
      "outputs": []
    },
    {
      "cell_type": "code",
      "metadata": {
        "id": "wcbJiQdpzUY_",
        "outputId": "29377364-810f-46e2-e60d-62906ae66146",
        "colab": {
          "base_uri": "https://localhost:8080/"
        }
      },
      "source": [
        "# Training the model. \n",
        "training = model_4.fit(X_train, Y_train, batch_size=128, epochs=31, validation_split=0.2) \n"
      ],
      "execution_count": 40,
      "outputs": [
        {
          "output_type": "stream",
          "text": [
            "Epoch 1/31\n",
            "375/375 [==============================] - 1s 3ms/step - loss: 0.5704 - accuracy: 0.7972 - val_loss: 0.4424 - val_accuracy: 0.8317\n",
            "Epoch 2/31\n",
            "375/375 [==============================] - 1s 3ms/step - loss: 0.4153 - accuracy: 0.8478 - val_loss: 0.3793 - val_accuracy: 0.8621\n",
            "Epoch 3/31\n",
            "375/375 [==============================] - 1s 3ms/step - loss: 0.3746 - accuracy: 0.8628 - val_loss: 0.3538 - val_accuracy: 0.8712\n",
            "Epoch 4/31\n",
            "375/375 [==============================] - 1s 3ms/step - loss: 0.3558 - accuracy: 0.8690 - val_loss: 0.3435 - val_accuracy: 0.8753\n",
            "Epoch 5/31\n",
            "375/375 [==============================] - 1s 3ms/step - loss: 0.3327 - accuracy: 0.8768 - val_loss: 0.3399 - val_accuracy: 0.8768\n",
            "Epoch 6/31\n",
            "375/375 [==============================] - 1s 3ms/step - loss: 0.3234 - accuracy: 0.8802 - val_loss: 0.3317 - val_accuracy: 0.8800\n",
            "Epoch 7/31\n",
            "375/375 [==============================] - 1s 3ms/step - loss: 0.3147 - accuracy: 0.8832 - val_loss: 0.3404 - val_accuracy: 0.8748\n",
            "Epoch 8/31\n",
            "375/375 [==============================] - 1s 3ms/step - loss: 0.3029 - accuracy: 0.8867 - val_loss: 0.3505 - val_accuracy: 0.8742\n",
            "Epoch 9/31\n",
            "375/375 [==============================] - 1s 3ms/step - loss: 0.2977 - accuracy: 0.8891 - val_loss: 0.3135 - val_accuracy: 0.8862\n",
            "Epoch 10/31\n",
            "375/375 [==============================] - 1s 3ms/step - loss: 0.2907 - accuracy: 0.8913 - val_loss: 0.3133 - val_accuracy: 0.8866\n",
            "Epoch 11/31\n",
            "375/375 [==============================] - 1s 3ms/step - loss: 0.2844 - accuracy: 0.8930 - val_loss: 0.3045 - val_accuracy: 0.8873\n",
            "Epoch 12/31\n",
            "375/375 [==============================] - 1s 3ms/step - loss: 0.2754 - accuracy: 0.8953 - val_loss: 0.3013 - val_accuracy: 0.8911\n",
            "Epoch 13/31\n",
            "375/375 [==============================] - 1s 3ms/step - loss: 0.2698 - accuracy: 0.8993 - val_loss: 0.3040 - val_accuracy: 0.8888\n",
            "Epoch 14/31\n",
            "375/375 [==============================] - 1s 3ms/step - loss: 0.2630 - accuracy: 0.9015 - val_loss: 0.2994 - val_accuracy: 0.8910\n",
            "Epoch 15/31\n",
            "375/375 [==============================] - 1s 3ms/step - loss: 0.2611 - accuracy: 0.9010 - val_loss: 0.3131 - val_accuracy: 0.8869\n",
            "Epoch 16/31\n",
            "375/375 [==============================] - 1s 3ms/step - loss: 0.2583 - accuracy: 0.9038 - val_loss: 0.3101 - val_accuracy: 0.8913\n",
            "Epoch 17/31\n",
            "375/375 [==============================] - 1s 3ms/step - loss: 0.2490 - accuracy: 0.9056 - val_loss: 0.3027 - val_accuracy: 0.8949\n",
            "Epoch 18/31\n",
            "375/375 [==============================] - 1s 3ms/step - loss: 0.2444 - accuracy: 0.9077 - val_loss: 0.2962 - val_accuracy: 0.8923\n",
            "Epoch 19/31\n",
            "375/375 [==============================] - 1s 3ms/step - loss: 0.2448 - accuracy: 0.9073 - val_loss: 0.3119 - val_accuracy: 0.8903\n",
            "Epoch 20/31\n",
            "375/375 [==============================] - 1s 3ms/step - loss: 0.2392 - accuracy: 0.9099 - val_loss: 0.3045 - val_accuracy: 0.8913\n",
            "Epoch 21/31\n",
            "375/375 [==============================] - 1s 3ms/step - loss: 0.2337 - accuracy: 0.9116 - val_loss: 0.2978 - val_accuracy: 0.8942\n",
            "Epoch 22/31\n",
            "375/375 [==============================] - 1s 3ms/step - loss: 0.2328 - accuracy: 0.9122 - val_loss: 0.3027 - val_accuracy: 0.8903\n",
            "Epoch 23/31\n",
            "375/375 [==============================] - 1s 3ms/step - loss: 0.2292 - accuracy: 0.9126 - val_loss: 0.3190 - val_accuracy: 0.8903\n",
            "Epoch 24/31\n",
            "375/375 [==============================] - 1s 3ms/step - loss: 0.2241 - accuracy: 0.9151 - val_loss: 0.3159 - val_accuracy: 0.8879\n",
            "Epoch 25/31\n",
            "375/375 [==============================] - 1s 3ms/step - loss: 0.2209 - accuracy: 0.9151 - val_loss: 0.2997 - val_accuracy: 0.8963\n",
            "Epoch 26/31\n",
            "375/375 [==============================] - 1s 3ms/step - loss: 0.2184 - accuracy: 0.9182 - val_loss: 0.3007 - val_accuracy: 0.8967\n",
            "Epoch 27/31\n",
            "375/375 [==============================] - 1s 3ms/step - loss: 0.2139 - accuracy: 0.9188 - val_loss: 0.3312 - val_accuracy: 0.8915\n",
            "Epoch 28/31\n",
            "375/375 [==============================] - 1s 3ms/step - loss: 0.2177 - accuracy: 0.9167 - val_loss: 0.3083 - val_accuracy: 0.8948\n",
            "Epoch 29/31\n",
            "375/375 [==============================] - 1s 3ms/step - loss: 0.2150 - accuracy: 0.9183 - val_loss: 0.2931 - val_accuracy: 0.8962\n",
            "Epoch 30/31\n",
            "375/375 [==============================] - 1s 3ms/step - loss: 0.2084 - accuracy: 0.9197 - val_loss: 0.3081 - val_accuracy: 0.8942\n",
            "Epoch 31/31\n",
            "375/375 [==============================] - 1s 3ms/step - loss: 0.2037 - accuracy: 0.9218 - val_loss: 0.3052 - val_accuracy: 0.8962\n"
          ],
          "name": "stdout"
        }
      ]
    },
    {
      "cell_type": "code",
      "metadata": {
        "id": "wIywzScFzUZJ",
        "outputId": "504ba0c1-4332-4b6f-9fcf-f8064615ba9c",
        "colab": {
          "base_uri": "https://localhost:8080/"
        }
      },
      "source": [
        "#evaluate the model_4\n",
        "test_loss, test_acc = model_4.evaluate(X_test, Y_test)\n",
        "print('Test accuracy:', test_acc)"
      ],
      "execution_count": 41,
      "outputs": [
        {
          "output_type": "stream",
          "text": [
            "313/313 [==============================] - 1s 2ms/step - loss: 0.3256 - accuracy: 0.8897\n",
            "Test accuracy: 0.8896999955177307\n"
          ],
          "name": "stdout"
        }
      ]
    },
    {
      "cell_type": "code",
      "metadata": {
        "id": "L3tLcpsc3tKz",
        "outputId": "d78092b9-697c-4b9e-e018-42db8d07e652",
        "colab": {
          "base_uri": "https://localhost:8080/",
          "height": 590
        }
      },
      "source": [
        "import matplotlib.pyplot as plt\n",
        "%matplotlib inline\n",
        "# list all data in training\n",
        "print(training.history.keys())\n",
        "# summarize training for accuracy\n",
        "plt.plot(training.history['accuracy'])\n",
        "plt.plot(training.history['val_accuracy'])\n",
        "plt.title('model accuracy')\n",
        "plt.ylabel('accuracy')\n",
        "plt.xlabel('epoch')\n",
        "plt.legend(['train', 'test'], loc='upper left')\n",
        "plt.show()\n",
        "# summarize traning for loss\n",
        "plt.plot(training.history['loss'])\n",
        "plt.plot(training.history['val_loss'])\n",
        "plt.title('model loss')\n",
        "plt.ylabel('loss')\n",
        "plt.xlabel('epoch')\n",
        "plt.legend(['train', 'test'], loc='upper left')\n",
        "plt.show()"
      ],
      "execution_count": 42,
      "outputs": [
        {
          "output_type": "stream",
          "text": [
            "dict_keys(['loss', 'accuracy', 'val_loss', 'val_accuracy'])\n"
          ],
          "name": "stdout"
        },
        {
          "output_type": "display_data",
          "data": {
            "image/png": "[encoded data removed]",
            "text/plain": [
              "<Figure size 432x288 with 1 Axes>"
            ]
          },
          "metadata": {
            "tags": [],
            "needs_background": "light"
          }
        },
        {
          "output_type": "display_data",
          "data": {
            "image/png": "[encoded data removed]",
            "text/plain": [
              "<Figure size 432x288 with 1 Axes>"
            ]
          },
          "metadata": {
            "tags": [],
            "needs_background": "light"
          }
        }
      ]
    },
    {
      "cell_type": "code",
      "metadata": {
        "id": "FmDi5zHOkQTK",
        "outputId": "dc04c5df-f846-4bdb-c5a6-65dd6adff077",
        "colab": {
          "base_uri": "https://localhost:8080/"
        }
      },
      "source": [
        "model_4.summary"
      ],
      "execution_count": 43,
      "outputs": [
        {
          "output_type": "execute_result",
          "data": {
            "text/plain": [
              "<bound method Model.summary of <tensorflow.python.keras.engine.sequential.Sequential object at 0x7f01845c97f0>>"
            ]
          },
          "metadata": {
            "tags": []
          },
          "execution_count": 43
        }
      ]
    },
    {
      "cell_type": "code",
      "metadata": {
        "id": "ogODS59VkQTO",
        "outputId": "7458bf47-a0d8-48b3-fc38-c134aaa52ee7",
        "colab": {
          "base_uri": "https://localhost:8080/"
        }
      },
      "source": [
        "model_4.weights"
      ],
      "execution_count": 44,
      "outputs": [
        {
          "output_type": "execute_result",
          "data": {
            "text/plain": [
              "[<tf.Variable 'dense_layer/kernel:0' shape=(784, 512) dtype=float32, numpy=\n",
              " array([[ 0.01740886, -0.07091431, -0.03777235, ...,  0.11635311,\n",
              "         -0.06439119,  0.03483502],\n",
              "        [ 0.04995931, -0.05902574,  0.05912876, ..., -0.21963333,\n",
              "         -0.06810291, -0.02993593],\n",
              "        [-0.01195037,  0.04139318,  0.02906621, ..., -0.03165934,\n",
              "         -0.08229507, -0.05264545],\n",
              "        ...,\n",
              "        [ 0.0120135 ,  0.04136909, -0.09424096, ..., -0.3572926 ,\n",
              "          0.04362297,  0.09085532],\n",
              "        [ 0.01948775, -0.15940858, -0.02284791, ..., -0.13724354,\n",
              "         -0.0905838 , -0.10236778],\n",
              "        [-0.01096983,  0.01560267,  0.04840547, ...,  0.06331504,\n",
              "         -0.08012986, -0.09029619]], dtype=float32)>,\n",
              " <tf.Variable 'dense_layer/bias:0' shape=(512,) dtype=float32, numpy=\n",
              " array([ 1.77986652e-01,  2.05485895e-01, -2.72105765e-02,  3.81522328e-02,\n",
              "         6.95817173e-02,  1.13319412e-01,  2.83868015e-01, -2.54890233e-01,\n",
              "         7.96239525e-02, -1.55797722e-02,  2.09634289e-01, -7.93742836e-02,\n",
              "         1.11068608e-02, -6.74285647e-03, -1.27506135e-02,  3.33435029e-01,\n",
              "         9.02209282e-02,  2.36489177e-02,  3.58843476e-01,  1.80866122e-01,\n",
              "         1.18293405e-01,  2.03902155e-01,  1.87121719e-01,  8.04172158e-02,\n",
              "         1.37860551e-01,  5.75375706e-02,  2.22900197e-01, -1.02538317e-02,\n",
              "        -2.66750723e-01,  7.77994916e-02,  1.70828626e-01, -7.79025778e-02,\n",
              "         8.91176239e-02, -1.15874605e-02,  1.78436443e-01,  1.16980433e-01,\n",
              "         3.70086700e-01, -7.10045472e-02,  2.43898004e-01,  5.04521504e-02,\n",
              "        -1.07579321e-01,  1.75435975e-01, -1.76195316e-02,  9.62408260e-02,\n",
              "         2.04170436e-01,  1.98143825e-01,  7.79995024e-02, -3.13238204e-02,\n",
              "         6.65158033e-03,  4.53292578e-01,  5.12932986e-02, -1.78112052e-02,\n",
              "         2.03908995e-01, -9.98030156e-02,  2.05227081e-02,  1.72451168e-01,\n",
              "         3.13071281e-01, -1.10228390e-01,  9.77810845e-02,  1.55927300e-01,\n",
              "        -2.74321251e-02,  3.13303471e-01, -1.94175094e-02, -5.09862490e-02,\n",
              "        -1.55589553e-02, -3.29162955e-01,  1.92731380e-01,  2.78098851e-01,\n",
              "         2.15569884e-01,  3.93653125e-01, -1.31807700e-01,  1.79899827e-01,\n",
              "        -1.65538296e-01,  1.44271702e-01,  9.14835334e-02,  1.14420868e-01,\n",
              "         2.61594385e-01,  1.52276799e-01, -3.18102539e-03, -3.71414563e-03,\n",
              "        -1.14758015e-02,  1.38710305e-01, -5.73748956e-03,  1.46624520e-01,\n",
              "         2.26828754e-01,  9.49230343e-02,  1.00973263e-01,  1.01681508e-01,\n",
              "        -2.22414419e-01,  1.32394403e-01,  1.77313417e-01,  2.81543911e-01,\n",
              "         1.81860849e-02,  1.02918185e-01,  9.80776399e-02, -2.56114185e-01,\n",
              "        -2.18347572e-02,  2.62756422e-02, -1.98869351e-02, -1.11618312e-02,\n",
              "         2.28856262e-02,  1.55098200e-01, -5.81883825e-03, -2.26768348e-02,\n",
              "        -2.97842026e-02,  8.59634653e-02,  1.10127665e-01,  1.73356712e-01,\n",
              "         1.14174061e-01,  1.52841061e-01,  4.09461260e-02, -1.85586259e-01,\n",
              "        -8.97305682e-02, -4.69634473e-01,  1.48359844e-02, -3.04785054e-02,\n",
              "        -1.48660138e-01,  2.02191696e-01,  1.00877792e-01, -5.73068634e-02,\n",
              "         6.40205443e-02, -2.67294440e-02, -9.65159573e-03, -2.76849717e-01,\n",
              "         1.89661369e-01, -7.17907846e-02,  2.06142887e-01,  1.01841077e-01,\n",
              "        -3.55136767e-02, -9.71064866e-02,  1.39756694e-01, -1.02277063e-01,\n",
              "        -1.64942909e-02,  9.14610252e-02, -5.18285222e-02, -2.38984413e-02,\n",
              "        -7.65298493e-03,  8.24192539e-02, -1.87061783e-02,  1.25931486e-01,\n",
              "        -1.50697511e-02,  9.81181413e-02, -1.93192251e-02,  6.32744804e-02,\n",
              "         6.57447577e-02,  1.98981151e-01,  1.30650073e-01, -1.72835052e-01,\n",
              "         1.87950626e-01,  4.62404527e-02, -3.10723833e-03,  2.35335946e-01,\n",
              "         1.30466744e-01,  2.61040386e-02, -1.23457924e-01,  2.22507581e-01,\n",
              "        -3.58685888e-02, -1.20270224e-02,  9.57264006e-02, -1.65543124e-01,\n",
              "         1.72281519e-01, -5.71319759e-02,  5.29937968e-02,  1.24362700e-01,\n",
              "        -1.66124627e-01,  3.63624766e-02, -3.71500731e-01, -7.76118711e-02,\n",
              "        -1.42341778e-01,  2.67064758e-02,  8.46538097e-02, -4.14990541e-03,\n",
              "         2.04173028e-01, -1.16893560e-01,  1.05340324e-01,  7.47679174e-02,\n",
              "        -9.26066935e-03, -1.45663187e-01,  1.48397624e-01,  2.22388014e-01,\n",
              "         5.09731054e-01,  1.93755776e-01, -7.51269097e-03,  8.76732692e-02,\n",
              "         2.23678991e-01, -3.38465907e-02, -1.29752591e-01,  3.47254649e-02,\n",
              "         1.32392779e-01,  1.09880440e-01, -1.44481137e-01, -1.65368885e-01,\n",
              "        -7.15091545e-03, -4.62795608e-02,  1.17749088e-01,  2.13851426e-02,\n",
              "        -2.05766186e-01, -4.33531515e-02,  6.17072545e-02, -1.03200108e-01,\n",
              "        -1.24715576e-02,  7.71950483e-02,  9.87535045e-02, -2.24266306e-01,\n",
              "        -2.40704734e-02, -7.69210001e-03, -1.39820836e-02,  9.17238668e-02,\n",
              "        -1.53024450e-01, -1.56703461e-02,  2.34259740e-02, -4.34539095e-03,\n",
              "         2.80345917e-01,  3.30875725e-01,  1.67943180e-01,  8.59395117e-02,\n",
              "         1.86478440e-02,  1.31656900e-02,  1.42494038e-01, -8.45493972e-02,\n",
              "        -2.34863553e-02,  1.16652288e-01,  4.64218892e-02,  7.16640279e-02,\n",
              "         1.42777979e-01, -4.05777209e-02, -1.48345158e-01,  7.77660161e-02,\n",
              "        -1.09529279e-01,  2.71473467e-01,  7.77681991e-02,  4.20363061e-02,\n",
              "         1.27836242e-01,  1.90908402e-01,  8.79724249e-02, -1.45975217e-01,\n",
              "        -1.48486635e-02, -2.35176787e-01,  2.18277108e-02, -3.66408587e-01,\n",
              "        -5.98187512e-03,  1.82612866e-01, -1.13949412e-02,  1.03562977e-02,\n",
              "        -7.85019994e-03, -1.14650115e-01,  5.35080284e-02,  1.16054341e-01,\n",
              "         1.74476445e-04,  9.68130752e-02,  2.25426912e-01,  5.03799021e-02,\n",
              "         2.81515747e-01, -9.80498642e-03,  2.60182261e-01,  2.48761736e-02,\n",
              "         4.36050072e-02, -8.04423168e-02, -1.11071290e-02,  1.02101184e-01,\n",
              "        -8.32857192e-03,  7.70532936e-02,  6.47912174e-02,  1.36479676e-01,\n",
              "        -9.70633328e-03, -1.53010339e-01,  1.87612131e-01,  2.55613532e-02,\n",
              "         2.15956524e-01, -3.15831006e-01,  2.18053326e-01,  1.44978493e-01,\n",
              "         6.73353449e-02, -1.59119628e-02,  3.58820617e-01, -6.72056573e-03,\n",
              "         5.14580030e-03,  1.16754510e-01,  1.78056564e-02,  3.40216979e-02,\n",
              "         4.96576205e-02,  1.32922247e-01, -2.07610145e-01,  1.90219760e-01,\n",
              "        -8.99220556e-02,  1.09693393e-01,  1.33962557e-01,  1.97260410e-01,\n",
              "         6.37296215e-02,  1.43381134e-01, -2.58829921e-01,  1.20371126e-01,\n",
              "         1.06107481e-01, -5.25235534e-02, -1.39675394e-01,  5.82124665e-02,\n",
              "         1.60606325e-01,  1.49534419e-01,  2.73628652e-01,  4.99572940e-02,\n",
              "         1.70554087e-01,  6.43295944e-02,  4.65479232e-02,  2.38331303e-01,\n",
              "         1.91809326e-01,  6.19007684e-02, -5.21291606e-03,  4.54080701e-02,\n",
              "        -5.70305064e-02, -6.24958985e-02,  1.22720614e-01,  3.32076512e-02,\n",
              "        -1.82278112e-01, -2.44231597e-02, -3.96485295e-04, -1.63358286e-01,\n",
              "         2.73283571e-01, -3.46722990e-01,  4.61085960e-02,  5.54751307e-02,\n",
              "         1.43530428e-01,  1.73651606e-01, -4.13784504e-01,  6.15705214e-02,\n",
              "         3.42043340e-01,  1.48168132e-01, -4.98267747e-02,  1.53102055e-01,\n",
              "         9.49785411e-02,  1.86863929e-01, -2.71837581e-02,  2.89906651e-01,\n",
              "         1.51249021e-01,  2.36914903e-01,  7.75337815e-02,  2.07274020e-01,\n",
              "         1.47008330e-01,  1.59952879e-01, -9.20948610e-02, -8.91488791e-03,\n",
              "         5.66369072e-02,  9.88932233e-03, -1.66414753e-02, -6.62754551e-02,\n",
              "        -1.71557572e-02,  7.75417164e-02,  2.07236618e-01, -5.29399291e-02,\n",
              "         3.48919779e-01, -1.07989497e-02,  2.36964241e-01,  1.69328853e-01,\n",
              "         1.72195807e-01,  2.69147214e-02, -1.60626784e-01, -2.79155187e-02,\n",
              "        -8.57269540e-02, -7.95792148e-05,  6.37319908e-02, -1.54182781e-02,\n",
              "         8.61490220e-02,  4.90963757e-02,  1.07737333e-02, -2.96604820e-02,\n",
              "         1.92078307e-01, -3.82280387e-02,  1.84293926e-01,  9.36621614e-03,\n",
              "         3.67204338e-01,  2.19086573e-01,  9.66778025e-03, -1.54663920e-01,\n",
              "         1.84089184e-01,  1.65247098e-01,  1.92402378e-01, -1.44367218e-01,\n",
              "        -2.00160388e-02, -6.15563273e-01, -1.38499122e-02,  4.70757075e-02,\n",
              "         2.49069035e-01, -1.07532009e-01,  1.05851136e-01, -3.40826750e-01,\n",
              "        -9.71868914e-03,  2.88551487e-03,  2.28173703e-01,  1.46922722e-01,\n",
              "         1.81599066e-01,  2.65700351e-02, -3.05601180e-01,  1.50512829e-01,\n",
              "        -1.40062451e-01,  2.51459599e-01,  2.40727380e-01,  6.72712550e-02,\n",
              "        -7.20645636e-02,  2.87896749e-02,  2.28914041e-02,  1.03534102e-01,\n",
              "        -1.24233752e-01, -2.88015723e-01,  1.02997184e-01, -1.63002089e-02,\n",
              "         1.70554966e-01,  2.14320794e-02,  1.08944125e-01, -2.83373773e-01,\n",
              "        -1.38224006e-01,  1.71889409e-01,  1.76682696e-01,  5.24102002e-02,\n",
              "        -3.82904895e-02, -4.32520926e-01, -1.68556049e-01,  1.06555291e-01,\n",
              "        -1.26218453e-01, -1.66792646e-02, -5.35036288e-02,  5.60489036e-02,\n",
              "         2.82941937e-01, -6.72084279e-04,  8.72729942e-02, -2.17940994e-02,\n",
              "         5.34344316e-02, -1.53744302e-03, -1.64594501e-01, -1.11973979e-01,\n",
              "        -1.30297933e-02,  2.43629098e-01, -2.20845845e-02,  1.18812218e-01,\n",
              "         8.90158489e-02,  3.75901870e-02,  2.71224231e-01,  1.17028177e-01,\n",
              "         1.53800979e-01,  1.41878679e-01, -2.52838641e-01,  1.64483249e-01,\n",
              "        -6.58575594e-02,  6.89192787e-02,  5.18093482e-02,  5.14461100e-02,\n",
              "         1.40528396e-01, -1.23173818e-02, -6.25622049e-02,  2.12977290e-01,\n",
              "         1.44654840e-01, -7.65667707e-02, -4.02079910e-01, -2.14286610e-01,\n",
              "        -2.21961550e-02, -1.29478201e-01, -5.80729283e-02,  6.40017614e-02,\n",
              "         5.00975139e-02, -1.15003400e-02,  7.87161440e-02, -1.32772438e-02,\n",
              "         4.36732888e-01,  1.92414537e-01,  1.12764999e-01, -1.15827061e-02,\n",
              "         2.34557897e-01,  2.89847609e-03, -1.47145182e-01, -1.97778884e-02,\n",
              "         1.02596454e-01, -1.07127704e-01,  9.41109508e-02,  1.72063440e-01,\n",
              "         1.36651173e-01,  1.01892103e-03, -3.05585444e-01,  1.15185261e-01,\n",
              "        -4.83211763e-02,  1.25865027e-01,  1.77347496e-01,  3.61815214e-01,\n",
              "         1.95648670e-01,  9.57061350e-02, -1.59378737e-01, -1.83425955e-02,\n",
              "        -2.69885603e-02,  1.46671295e-01,  1.22475185e-01, -9.60818026e-03,\n",
              "         1.63251668e-01, -6.48169545e-03,  4.87111174e-02,  5.94529472e-02,\n",
              "         2.15296552e-01,  2.97514256e-03,  2.21776552e-02,  7.01700971e-02,\n",
              "         4.80981991e-02, -4.51919325e-02,  9.80368480e-02,  1.34025767e-01,\n",
              "         2.22940296e-01,  1.34053230e-01, -3.24039459e-01, -2.58338191e-02,\n",
              "        -2.87607521e-01, -4.12271500e-01, -1.42133728e-01, -3.31103913e-02,\n",
              "         2.29329333e-01, -1.43916324e-01,  6.67532533e-02,  1.38506711e-01],\n",
              "       dtype=float32)>,\n",
              " <tf.Variable 'dense_layer_2/kernel:0' shape=(512, 512) dtype=float32, numpy=\n",
              " array([[-0.02163813, -0.00932296,  0.00306303, ..., -0.13513674,\n",
              "          0.14305781, -0.1302949 ],\n",
              "        [ 0.03896054,  0.12683965,  0.28011844, ..., -0.09085702,\n",
              "         -0.11003458, -0.08618756],\n",
              "        [-0.0083826 ,  0.0249035 , -0.03089407, ..., -0.06718528,\n",
              "         -0.0018889 , -0.05595743],\n",
              "        ...,\n",
              "        [-0.23099889, -0.03023993,  0.02545126, ...,  0.0655812 ,\n",
              "         -0.04189389,  0.04189695],\n",
              "        [ 0.00574066, -0.03505109,  0.06720055, ...,  0.06762366,\n",
              "         -0.0296715 ,  0.02340823],\n",
              "        [ 0.19085495,  0.11259986,  0.06968961, ..., -0.03311394,\n",
              "         -0.03526637,  0.05524217]], dtype=float32)>,\n",
              " <tf.Variable 'dense_layer_2/bias:0' shape=(512,) dtype=float32, numpy=\n",
              " array([ 1.95462212e-01,  1.60045013e-01,  4.50710431e-02, -1.85084064e-03,\n",
              "         1.25808477e-01,  2.93537349e-01,  1.33544849e-02,  3.13820988e-01,\n",
              "         1.32276997e-01,  1.41623124e-01,  1.66777119e-01,  3.48955184e-01,\n",
              "         4.47661355e-02,  2.54975587e-01, -4.13640216e-02,  5.00095561e-02,\n",
              "         1.19452305e-01, -1.36357490e-02,  2.39847936e-02,  1.22897245e-01,\n",
              "         9.61308405e-02,  9.57466215e-02,  2.49943718e-01,  7.47227445e-02,\n",
              "         1.65006205e-01,  1.24815539e-01,  3.55210334e-01,  2.45349910e-02,\n",
              "        -2.16288436e-02,  1.45047128e-01, -1.29997805e-01, -7.43432939e-02,\n",
              "        -1.19855404e-01,  1.17005691e-01,  5.84327169e-02, -1.71922296e-01,\n",
              "         1.35830015e-01,  1.68170288e-01,  1.47646427e-01,  2.88238525e-02,\n",
              "         1.87886477e-01, -1.18370615e-01, -6.07978441e-02,  1.02712192e-01,\n",
              "         4.71073315e-02, -1.20503999e-01,  1.91974372e-01,  4.75119092e-02,\n",
              "        -8.20849091e-02,  1.07920811e-01,  1.93602160e-01, -1.12576865e-01,\n",
              "        -1.46687418e-01,  1.43822238e-01,  2.38683283e-01,  9.00301263e-02,\n",
              "         3.13612223e-02,  1.34597108e-01,  1.96082056e-01,  3.02947700e-01,\n",
              "        -2.36414135e-01, -5.57877682e-02,  6.39199093e-02,  1.56103745e-01,\n",
              "         2.29153454e-01,  2.19201475e-01,  2.23634169e-01,  3.20716679e-01,\n",
              "         1.45444453e-01,  2.24275231e-01,  2.91647077e-01,  1.39248043e-01,\n",
              "         3.56107563e-01, -2.29554554e-03,  1.46155462e-01,  1.82851106e-01,\n",
              "         7.74201974e-02,  3.59197892e-02,  3.61171007e-01,  4.87113884e-03,\n",
              "         9.82791185e-02,  1.88440681e-01,  1.60194948e-01,  3.55257355e-02,\n",
              "         1.22639172e-01,  1.21772520e-01, -3.64629366e-02, -8.11650418e-03,\n",
              "         1.93551153e-01,  1.53336689e-01,  1.09967694e-01,  1.03680678e-01,\n",
              "         3.19423079e-01, -2.69950740e-02,  7.44078904e-02,  1.01448623e-02,\n",
              "         2.23271012e-01, -2.39760578e-02,  7.69661665e-02,  9.29522514e-02,\n",
              "         6.91450685e-02,  1.75225943e-01, -3.92363081e-03, -5.33589832e-02,\n",
              "        -8.29245243e-03, -7.13487566e-02,  1.53499171e-01,  3.62247050e-01,\n",
              "         8.29364508e-02,  1.97600365e-01,  9.23975408e-02, -1.01569146e-01,\n",
              "         1.21817887e-01, -2.63780713e-01,  1.77084640e-01,  2.02261850e-01,\n",
              "        -4.56507318e-02,  4.08449657e-02,  6.58680648e-02,  3.92502286e-02,\n",
              "         2.77057678e-01,  9.88089591e-02,  1.69458196e-01,  2.99155831e-01,\n",
              "         5.05073853e-02, -3.76044624e-02,  2.55983829e-01,  2.72949904e-01,\n",
              "         1.49076074e-01,  1.66503057e-01,  3.15774143e-01,  2.54492819e-01,\n",
              "         1.87081620e-01,  5.24364784e-02,  3.15009743e-01,  1.12305479e-02,\n",
              "         2.26045847e-02,  2.62827486e-01, -3.63535248e-02,  1.01095602e-01,\n",
              "         1.46310225e-01,  2.15052366e-01,  2.01121882e-01,  2.38359123e-01,\n",
              "         1.74150914e-01, -5.47569431e-03, -2.77786463e-01,  2.14230359e-01,\n",
              "        -2.49696635e-02,  1.67574793e-01,  6.21679844e-03,  7.18938038e-02,\n",
              "        -1.59107506e-01,  1.17585026e-01, -5.70309944e-02,  2.50176102e-01,\n",
              "        -1.88337713e-01, -5.53169437e-02,  1.75432295e-01,  1.66612431e-01,\n",
              "         1.99836493e-02,  1.76033571e-01, -8.46140906e-02,  1.38149813e-01,\n",
              "         8.30380321e-02,  9.38962102e-02, -1.45303398e-01, -6.53501973e-02,\n",
              "         3.61925930e-01,  3.15183848e-01,  2.69905981e-02, -8.63837637e-03,\n",
              "         9.63676572e-02,  1.87007010e-01,  1.55333117e-01, -9.63139683e-02,\n",
              "         3.54287237e-01,  2.21569419e-01,  5.09928949e-02,  1.78639904e-01,\n",
              "        -1.14016391e-01, -2.04087142e-02,  7.94958770e-02,  2.28675708e-01,\n",
              "         6.84959665e-02,  4.52632234e-02,  1.06836511e-02,  1.82449237e-01,\n",
              "         1.50927678e-01,  1.80152163e-01,  2.82620341e-01,  2.14107409e-01,\n",
              "         2.27261275e-01,  5.57548255e-02, -1.48650810e-01,  2.05178693e-01,\n",
              "         1.36783361e-01,  3.10414135e-01,  7.58165419e-02,  2.40101963e-01,\n",
              "         6.70536980e-03,  1.75534412e-01,  6.05624802e-02,  2.37904653e-01,\n",
              "         2.26284936e-01,  1.93689555e-01,  7.14319870e-02,  1.94635317e-01,\n",
              "         5.84564395e-02,  5.87718678e-04, -1.16809547e-01,  1.92736149e-01,\n",
              "         3.30108427e-03, -2.10907999e-02,  4.31735396e-01,  6.98808059e-02,\n",
              "         1.37046799e-01,  1.79262489e-01,  3.17854762e-01, -4.64860238e-02,\n",
              "         8.21828023e-02,  5.06810993e-02,  1.07378013e-01, -5.44644482e-02,\n",
              "         1.10401861e-01,  2.01230511e-01,  5.86100891e-02,  3.31304185e-02,\n",
              "        -1.91885099e-01,  2.38534361e-01,  1.42353028e-01,  1.13709919e-01,\n",
              "         1.32164851e-01, -1.45630017e-01,  4.47354373e-03,  1.35789499e-01,\n",
              "        -1.14737593e-01,  1.73495069e-01, -2.96799690e-02,  2.75030937e-02,\n",
              "        -2.29921807e-02,  4.00007457e-01,  5.48631996e-02,  1.26976883e-02,\n",
              "         1.73567384e-01, -9.05736238e-02,  2.03147158e-02,  1.48478314e-01,\n",
              "         1.75906748e-01,  6.76249862e-02,  2.47541800e-01,  3.36028337e-01,\n",
              "         1.24460839e-01,  1.70289025e-01, -2.28821430e-02,  1.05205081e-01,\n",
              "        -3.36539112e-02,  1.56776264e-01,  1.71459228e-01, -1.78318092e-04,\n",
              "        -7.81072974e-02,  2.23582596e-01, -9.36893467e-03,  2.17275813e-01,\n",
              "        -1.35377601e-01,  2.05852404e-01,  6.10062703e-02,  3.08916330e-01,\n",
              "         2.49907196e-01,  3.45443279e-01,  2.58159161e-01,  7.39425495e-02,\n",
              "         1.03433952e-01,  1.30608916e-01,  1.04592197e-01, -1.61142945e-02,\n",
              "         9.84765142e-02, -9.74540412e-02,  7.18570277e-02,  2.05685064e-01,\n",
              "         3.04556996e-01,  1.26223221e-01,  2.43346334e-01,  1.83089212e-01,\n",
              "         1.19882837e-01, -4.17017303e-02, -1.91018537e-01, -1.78495459e-02,\n",
              "        -7.47153014e-02, -2.17424869e-03,  2.68235445e-01,  2.13619709e-01,\n",
              "         8.30127974e-04,  8.54405835e-02,  8.46531093e-02,  3.66216183e-01,\n",
              "         4.63578068e-02,  9.52002928e-02, -3.94181125e-02,  2.54464090e-01,\n",
              "         2.50893295e-01,  1.22924633e-01,  1.92798376e-02,  2.03222632e-01,\n",
              "         8.67621675e-02,  2.32413441e-01,  1.50899604e-01, -3.65408510e-02,\n",
              "         2.12769687e-01,  1.37551781e-03,  4.61040884e-02,  1.64541975e-01,\n",
              "         1.67118683e-01, -1.66497082e-02,  9.47039649e-02, -2.64207479e-02,\n",
              "        -1.05203442e-01,  1.98646501e-01,  1.91471145e-01,  1.39201015e-01,\n",
              "         1.93284690e-01, -9.76425186e-02,  5.07699735e-02, -8.78025964e-02,\n",
              "         3.06073457e-01,  5.26761040e-02,  1.38473734e-01,  5.40072881e-02,\n",
              "        -1.57766148e-01,  2.11218953e-01,  4.14423794e-02,  1.00900896e-01,\n",
              "         9.79121700e-02, -1.76469103e-01, -2.44544566e-01, -1.63058817e-01,\n",
              "         3.42202753e-01, -6.99921278e-03,  1.33468509e-02,  1.27895072e-01,\n",
              "        -3.92881222e-02,  2.47231930e-01,  1.56069264e-01,  2.87286341e-01,\n",
              "         1.33103132e-01,  6.09922484e-02, -3.26764956e-02,  1.83545768e-01,\n",
              "         1.86006352e-01,  2.16791049e-01,  2.43884981e-01,  2.69075096e-01,\n",
              "         1.43492699e-01, -3.32439132e-02,  1.53900385e-01,  2.32159317e-01,\n",
              "         2.56062120e-01,  1.45278707e-01, -6.82108626e-02,  4.87319753e-03,\n",
              "         2.32688218e-01,  5.08682709e-03,  2.37775609e-01,  3.49753916e-01,\n",
              "         2.60552406e-01,  1.24919027e-01,  1.82547942e-01, -6.97225258e-02,\n",
              "         1.84922010e-01, -1.49786055e-01, -3.70583870e-02,  9.52822417e-02,\n",
              "         9.54887196e-02, -5.59446849e-02,  1.77486256e-01,  2.56816864e-01,\n",
              "         1.99474692e-01,  9.60496217e-02,  9.17612389e-02,  2.70549595e-01,\n",
              "         3.31388563e-01,  4.84838411e-02,  2.81844139e-02,  1.87845796e-01,\n",
              "        -1.12488367e-01, -3.04662716e-02, -1.30727310e-02,  1.23424068e-01,\n",
              "         1.18455552e-01,  1.45051211e-01,  1.16437808e-01,  4.31190208e-02,\n",
              "         2.13224873e-01,  4.26190384e-02,  3.64910245e-01, -2.72518396e-02,\n",
              "         9.70570743e-02,  1.65416285e-01, -2.36103207e-01,  6.17008843e-02,\n",
              "        -1.15976734e-02, -6.45758510e-02,  3.31477642e-01,  2.39808068e-01,\n",
              "         1.16153419e-01,  1.03115991e-01,  2.82623321e-01,  1.01829216e-01,\n",
              "        -1.84049476e-02,  1.94637656e-01,  1.63319930e-01,  1.52502686e-01,\n",
              "         2.50731945e-01, -4.42194566e-02,  1.06201783e-01,  1.03649378e-01,\n",
              "         1.22355051e-01,  1.54709458e-01,  1.05676867e-01,  3.09974011e-02,\n",
              "         1.63544789e-01,  3.15786988e-01,  1.19374104e-01,  2.13100329e-01,\n",
              "         1.28971010e-01,  2.78833091e-01, -1.38014302e-01, -2.33258568e-02,\n",
              "         1.87749699e-01,  7.99427703e-02,  6.60000667e-02,  1.29828662e-01,\n",
              "         1.61792234e-01, -7.12480471e-02,  1.66369885e-01, -2.81521995e-02,\n",
              "         5.61665744e-02,  1.15156285e-01,  1.82057157e-01,  4.71864007e-02,\n",
              "         1.80328935e-01,  2.18178436e-01, -1.26789482e-02, -4.99886051e-02,\n",
              "         9.36341733e-02,  2.61922807e-01,  1.77228361e-01, -1.40187833e-02,\n",
              "        -5.50852418e-02,  4.97450568e-02,  5.89363985e-02,  1.64912611e-01,\n",
              "        -1.49688395e-02, -8.89864098e-03,  1.54659618e-02,  1.00874327e-01,\n",
              "         6.66744709e-02,  6.72157183e-02, -2.18876917e-03,  1.12603419e-01,\n",
              "         1.48615032e-01,  5.54783680e-02,  3.88771445e-02, -5.02945147e-02,\n",
              "        -3.26311681e-03,  1.94903120e-01,  2.87269056e-01,  2.47963205e-01,\n",
              "        -5.98734505e-02,  2.52127171e-01,  3.54159586e-02,  1.76767901e-01,\n",
              "        -2.86497711e-03,  1.00801706e-01,  1.09965153e-01,  1.48717508e-01,\n",
              "         2.11918250e-01, -1.26741663e-01,  2.01896086e-01,  1.26026813e-02,\n",
              "        -6.46555796e-02,  1.36136129e-01,  1.10827565e-01,  2.64617264e-01,\n",
              "         2.44350612e-01, -1.57200873e-01,  4.56499271e-02,  8.01937580e-02,\n",
              "         3.02535266e-01,  1.39971077e-01, -7.00675547e-02,  1.79433957e-01,\n",
              "         1.23669788e-01,  1.44715652e-01,  8.95641670e-02,  2.43947804e-01,\n",
              "         1.36029869e-01,  2.53796041e-01,  1.70625314e-01, -8.39618687e-03,\n",
              "         2.61820287e-01,  3.57840478e-01,  2.56714493e-01, -2.00764816e-02,\n",
              "         1.15664089e-02, -7.80734718e-02,  3.82994935e-02,  6.04013391e-02,\n",
              "        -3.80451195e-02,  3.67214054e-01,  1.49505422e-01,  2.39236698e-01],\n",
              "       dtype=float32)>,\n",
              " <tf.Variable 'dense_layer_3/kernel:0' shape=(512, 10) dtype=float32, numpy=\n",
              " array([[-0.09792672,  0.06352635, -0.13506249, ...,  0.09160496,\n",
              "          0.06808896, -0.09849393],\n",
              "        [-0.11887311, -0.16743876,  0.06437708, ..., -0.04307055,\n",
              "          0.08810006,  0.06659941],\n",
              "        [-0.09130112,  0.08558132, -0.01899049, ..., -0.20392916,\n",
              "          0.08458102,  0.07635348],\n",
              "        ...,\n",
              "        [-0.11489951, -0.0898781 ,  0.01148718, ...,  0.08066924,\n",
              "          0.01938421, -0.02249184],\n",
              "        [ 0.0391304 , -0.16126437, -0.00470592, ...,  0.04031519,\n",
              "         -0.20620424,  0.00475072],\n",
              "        [-0.04254528, -0.13619134,  0.01827435, ...,  0.057976  ,\n",
              "          0.17768739, -0.13725102]], dtype=float32)>,\n",
              " <tf.Variable 'dense_layer_3/bias:0' shape=(10,) dtype=float32, numpy=\n",
              " array([-0.02325929, -0.32072452,  0.10375671,  0.25878805, -0.13800965,\n",
              "        -0.07685339,  0.01363331,  0.17287394, -0.01802537, -0.19179666],\n",
              "       dtype=float32)>]"
            ]
          },
          "metadata": {
            "tags": []
          },
          "execution_count": 44
        }
      ]
    },
    {
      "cell_type": "code",
      "metadata": {
        "id": "MnrRfeyJkQTS",
        "outputId": "ba44e25e-5a3c-41a7-b8a8-ad48855b32e2",
        "colab": {
          "base_uri": "https://localhost:8080/"
        }
      },
      "source": [
        "model_4.get_config()"
      ],
      "execution_count": 45,
      "outputs": [
        {
          "output_type": "execute_result",
          "data": {
            "text/plain": [
              "{'layers': [{'class_name': 'InputLayer',\n",
              "   'config': {'batch_input_shape': (None, 784),\n",
              "    'dtype': 'float32',\n",
              "    'name': 'dense_layer_input',\n",
              "    'ragged': False,\n",
              "    'sparse': False}},\n",
              "  {'class_name': 'Dense',\n",
              "   'config': {'activation': 'relu',\n",
              "    'activity_regularizer': None,\n",
              "    'batch_input_shape': (None, 784),\n",
              "    'bias_constraint': None,\n",
              "    'bias_initializer': {'class_name': 'Zeros', 'config': {}},\n",
              "    'bias_regularizer': None,\n",
              "    'dtype': 'float32',\n",
              "    'kernel_constraint': None,\n",
              "    'kernel_initializer': {'class_name': 'GlorotUniform',\n",
              "     'config': {'seed': None}},\n",
              "    'kernel_regularizer': None,\n",
              "    'name': 'dense_layer',\n",
              "    'trainable': True,\n",
              "    'units': 512,\n",
              "    'use_bias': True}},\n",
              "  {'class_name': 'Dropout',\n",
              "   'config': {'dtype': 'float32',\n",
              "    'name': 'dropout_4',\n",
              "    'noise_shape': None,\n",
              "    'rate': 0.3,\n",
              "    'seed': None,\n",
              "    'trainable': True}},\n",
              "  {'class_name': 'Dense',\n",
              "   'config': {'activation': 'relu',\n",
              "    'activity_regularizer': None,\n",
              "    'bias_constraint': None,\n",
              "    'bias_initializer': {'class_name': 'Zeros', 'config': {}},\n",
              "    'bias_regularizer': None,\n",
              "    'dtype': 'float32',\n",
              "    'kernel_constraint': None,\n",
              "    'kernel_initializer': {'class_name': 'GlorotUniform',\n",
              "     'config': {'seed': None}},\n",
              "    'kernel_regularizer': None,\n",
              "    'name': 'dense_layer_2',\n",
              "    'trainable': True,\n",
              "    'units': 512,\n",
              "    'use_bias': True}},\n",
              "  {'class_name': 'Dropout',\n",
              "   'config': {'dtype': 'float32',\n",
              "    'name': 'dropout_5',\n",
              "    'noise_shape': None,\n",
              "    'rate': 0.3,\n",
              "    'seed': None,\n",
              "    'trainable': True}},\n",
              "  {'class_name': 'Dense',\n",
              "   'config': {'activation': 'softmax',\n",
              "    'activity_regularizer': None,\n",
              "    'bias_constraint': None,\n",
              "    'bias_initializer': {'class_name': 'Zeros', 'config': {}},\n",
              "    'bias_regularizer': None,\n",
              "    'dtype': 'float32',\n",
              "    'kernel_constraint': None,\n",
              "    'kernel_initializer': {'class_name': 'GlorotUniform',\n",
              "     'config': {'seed': None}},\n",
              "    'kernel_regularizer': None,\n",
              "    'name': 'dense_layer_3',\n",
              "    'trainable': True,\n",
              "    'units': 10,\n",
              "    'use_bias': True}}],\n",
              " 'name': 'sequential_4'}"
            ]
          },
          "metadata": {
            "tags": []
          },
          "execution_count": 45
        }
      ]
    },
    {
      "cell_type": "markdown",
      "metadata": {
        "id": "AFbx6XHI0KyQ"
      },
      "source": [
        "###Improved Model 5: Manipulating the batch size"
      ]
    },
    {
      "cell_type": "code",
      "metadata": {
        "id": "WPaQm2XY0KyV"
      },
      "source": [
        "#Most common type of model is a stack of layers\n",
        "model_5 = tf.keras.Sequential()\n",
        "N_hidden = 512\n",
        "# Adds a densely-connected layer with 64 units to the model:\n",
        "model_5.add(Dense(N_hidden, name='dense_layer', input_shape=(784,), activation = 'relu'))\n",
        "# Now the model will take as input arrays of shape (*, 784)# and output arrays of shape (*, 64)\n",
        "model_5.add(Dropout(0.3))\n",
        "# Adding another dense layer:\n",
        "model_5.add(Dense(N_hidden, name='dense_layer_2', activation='relu'))\n",
        "model_5.add(Dropout(0.3))\n",
        "# After the first layer, you don't need to specify\u000b# the size of the input anymore:\n",
        "# Add an output layer with 10 output units (10 different classes):\n",
        "model_5.add(Dense(10, name='dense_layer_3', activation = 'softmax'))\n"
      ],
      "execution_count": 46,
      "outputs": []
    },
    {
      "cell_type": "code",
      "metadata": {
        "id": "UWFjgHFj0Kyg"
      },
      "source": [
        "# Compiling the model.\n",
        "model_5.compile(optimizer='Adam', \n",
        "              loss='categorical_crossentropy',\n",
        "              metrics=['accuracy'])"
      ],
      "execution_count": 47,
      "outputs": []
    },
    {
      "cell_type": "code",
      "metadata": {
        "id": "opXV9TbQ0Kyl",
        "outputId": "c8d01645-6682-4c39-f91c-b96cadf6bd8a",
        "colab": {
          "base_uri": "https://localhost:8080/"
        }
      },
      "source": [
        "# Training the model. \n",
        "training = model_5.fit(X_train, Y_train, batch_size=64, epochs=30, validation_split=0.2) \n"
      ],
      "execution_count": 48,
      "outputs": [
        {
          "output_type": "stream",
          "text": [
            "Epoch 1/30\n",
            "750/750 [==============================] - 2s 3ms/step - loss: 0.5512 - accuracy: 0.8006 - val_loss: 0.4081 - val_accuracy: 0.8539\n",
            "Epoch 2/30\n",
            "750/750 [==============================] - 2s 3ms/step - loss: 0.4144 - accuracy: 0.8481 - val_loss: 0.3802 - val_accuracy: 0.8600\n",
            "Epoch 3/30\n",
            "750/750 [==============================] - 2s 3ms/step - loss: 0.3838 - accuracy: 0.8601 - val_loss: 0.3708 - val_accuracy: 0.8613\n",
            "Epoch 4/30\n",
            "750/750 [==============================] - 2s 3ms/step - loss: 0.3596 - accuracy: 0.8659 - val_loss: 0.3413 - val_accuracy: 0.8784\n",
            "Epoch 5/30\n",
            "750/750 [==============================] - 2s 3ms/step - loss: 0.3464 - accuracy: 0.8726 - val_loss: 0.3355 - val_accuracy: 0.8780\n",
            "Epoch 6/30\n",
            "750/750 [==============================] - 2s 3ms/step - loss: 0.3281 - accuracy: 0.8789 - val_loss: 0.3292 - val_accuracy: 0.8805\n",
            "Epoch 7/30\n",
            "750/750 [==============================] - 2s 3ms/step - loss: 0.3237 - accuracy: 0.8808 - val_loss: 0.3153 - val_accuracy: 0.8845\n",
            "Epoch 8/30\n",
            "750/750 [==============================] - 2s 3ms/step - loss: 0.3124 - accuracy: 0.8836 - val_loss: 0.3263 - val_accuracy: 0.8825\n",
            "Epoch 9/30\n",
            "750/750 [==============================] - 2s 3ms/step - loss: 0.3033 - accuracy: 0.8877 - val_loss: 0.3291 - val_accuracy: 0.8798\n",
            "Epoch 10/30\n",
            "750/750 [==============================] - 2s 3ms/step - loss: 0.2987 - accuracy: 0.8880 - val_loss: 0.3156 - val_accuracy: 0.8853\n",
            "Epoch 11/30\n",
            "750/750 [==============================] - 2s 3ms/step - loss: 0.2915 - accuracy: 0.8896 - val_loss: 0.3180 - val_accuracy: 0.8807\n",
            "Epoch 12/30\n",
            "750/750 [==============================] - 2s 3ms/step - loss: 0.2869 - accuracy: 0.8937 - val_loss: 0.3124 - val_accuracy: 0.8878\n",
            "Epoch 13/30\n",
            "750/750 [==============================] - 2s 3ms/step - loss: 0.2801 - accuracy: 0.8963 - val_loss: 0.3154 - val_accuracy: 0.8858\n",
            "Epoch 14/30\n",
            "750/750 [==============================] - 2s 3ms/step - loss: 0.2715 - accuracy: 0.8982 - val_loss: 0.3027 - val_accuracy: 0.8922\n",
            "Epoch 15/30\n",
            "750/750 [==============================] - 2s 3ms/step - loss: 0.2650 - accuracy: 0.8992 - val_loss: 0.3007 - val_accuracy: 0.8903\n",
            "Epoch 16/30\n",
            "750/750 [==============================] - 2s 3ms/step - loss: 0.2684 - accuracy: 0.8995 - val_loss: 0.3058 - val_accuracy: 0.8934\n",
            "Epoch 17/30\n",
            "750/750 [==============================] - 2s 3ms/step - loss: 0.2604 - accuracy: 0.9032 - val_loss: 0.2966 - val_accuracy: 0.8945\n",
            "Epoch 18/30\n",
            "750/750 [==============================] - 2s 3ms/step - loss: 0.2570 - accuracy: 0.9036 - val_loss: 0.3003 - val_accuracy: 0.8929\n",
            "Epoch 19/30\n",
            "750/750 [==============================] - 2s 3ms/step - loss: 0.2532 - accuracy: 0.9045 - val_loss: 0.3135 - val_accuracy: 0.8879\n",
            "Epoch 20/30\n",
            "750/750 [==============================] - 2s 3ms/step - loss: 0.2473 - accuracy: 0.9065 - val_loss: 0.3201 - val_accuracy: 0.8852\n",
            "Epoch 21/30\n",
            "750/750 [==============================] - 2s 3ms/step - loss: 0.2490 - accuracy: 0.9063 - val_loss: 0.2981 - val_accuracy: 0.8928\n",
            "Epoch 22/30\n",
            "750/750 [==============================] - 2s 3ms/step - loss: 0.2402 - accuracy: 0.9086 - val_loss: 0.3181 - val_accuracy: 0.8862\n",
            "Epoch 23/30\n",
            "750/750 [==============================] - 2s 3ms/step - loss: 0.2398 - accuracy: 0.9071 - val_loss: 0.3166 - val_accuracy: 0.8932\n",
            "Epoch 24/30\n",
            "750/750 [==============================] - 2s 3ms/step - loss: 0.2347 - accuracy: 0.9106 - val_loss: 0.3054 - val_accuracy: 0.8947\n",
            "Epoch 25/30\n",
            "750/750 [==============================] - 2s 3ms/step - loss: 0.2321 - accuracy: 0.9118 - val_loss: 0.3072 - val_accuracy: 0.8963\n",
            "Epoch 26/30\n",
            "750/750 [==============================] - 2s 3ms/step - loss: 0.2302 - accuracy: 0.9134 - val_loss: 0.3082 - val_accuracy: 0.8952\n",
            "Epoch 27/30\n",
            "750/750 [==============================] - 2s 3ms/step - loss: 0.2289 - accuracy: 0.9137 - val_loss: 0.3224 - val_accuracy: 0.8948\n",
            "Epoch 28/30\n",
            "750/750 [==============================] - 2s 3ms/step - loss: 0.2294 - accuracy: 0.9132 - val_loss: 0.3023 - val_accuracy: 0.8938\n",
            "Epoch 29/30\n",
            "750/750 [==============================] - 2s 3ms/step - loss: 0.2216 - accuracy: 0.9154 - val_loss: 0.3112 - val_accuracy: 0.8903\n",
            "Epoch 30/30\n",
            "750/750 [==============================] - 2s 3ms/step - loss: 0.2163 - accuracy: 0.9173 - val_loss: 0.3144 - val_accuracy: 0.8953\n"
          ],
          "name": "stdout"
        }
      ]
    },
    {
      "cell_type": "code",
      "metadata": {
        "id": "UHMf1HAskp9n",
        "outputId": "48adc933-a1ad-4585-f3a8-ac5e8a8a4aa6",
        "colab": {
          "base_uri": "https://localhost:8080/",
          "height": 590
        }
      },
      "source": [
        "import matplotlib.pyplot as plt\n",
        "%matplotlib inline\n",
        "# list all data in training\n",
        "print(training.history.keys())\n",
        "# summarize training for accuracy\n",
        "plt.plot(training.history['accuracy'])\n",
        "plt.plot(training.history['val_accuracy'])\n",
        "plt.title('model accuracy')\n",
        "plt.ylabel('accuracy')\n",
        "plt.xlabel('epoch')\n",
        "plt.legend(['train', 'test'], loc='upper left')\n",
        "plt.show()\n",
        "# summarize traning for loss\n",
        "plt.plot(training.history['loss'])\n",
        "plt.plot(training.history['val_loss'])\n",
        "plt.title('model loss')\n",
        "plt.ylabel('loss')\n",
        "plt.xlabel('epoch')\n",
        "plt.legend(['train', 'test'], loc='upper left')\n",
        "plt.show()"
      ],
      "execution_count": 49,
      "outputs": [
        {
          "output_type": "stream",
          "text": [
            "dict_keys(['loss', 'accuracy', 'val_loss', 'val_accuracy'])\n"
          ],
          "name": "stdout"
        },
        {
          "output_type": "display_data",
          "data": {
            "image/png": "[encoded data removed]",
            "text/plain": [
              "<Figure size 432x288 with 1 Axes>"
            ]
          },
          "metadata": {
            "tags": [],
            "needs_background": "light"
          }
        },
        {
          "output_type": "display_data",
          "data": {
            "image/png": "[encoded data removed]",
            "text/plain": [
              "<Figure size 432x288 with 1 Axes>"
            ]
          },
          "metadata": {
            "tags": [],
            "needs_background": "light"
          }
        }
      ]
    },
    {
      "cell_type": "code",
      "metadata": {
        "id": "e4kmSKEn0Kyv",
        "outputId": "95b168f3-e5e6-4173-fa3b-50ed534adcd1",
        "colab": {
          "base_uri": "https://localhost:8080/"
        }
      },
      "source": [
        "#evaluate the model\n",
        "test_loss, test_acc = model_5.evaluate(X_test, Y_test)\n",
        "print('Test accuracy:', test_acc)"
      ],
      "execution_count": 50,
      "outputs": [
        {
          "output_type": "stream",
          "text": [
            "313/313 [==============================] - 1s 2ms/step - loss: 0.3466 - accuracy: 0.8887\n",
            "Test accuracy: 0.888700008392334\n"
          ],
          "name": "stdout"
        }
      ]
    },
    {
      "cell_type": "code",
      "metadata": {
        "id": "LVr1ZMvnkp92",
        "outputId": "c0be7af7-2c8e-450d-bd54-a591803ca9dc",
        "colab": {
          "base_uri": "https://localhost:8080/"
        }
      },
      "source": [
        "model_5.summary"
      ],
      "execution_count": 51,
      "outputs": [
        {
          "output_type": "execute_result",
          "data": {
            "text/plain": [
              "<bound method Model.summary of <tensorflow.python.keras.engine.sequential.Sequential object at 0x7f0184413320>>"
            ]
          },
          "metadata": {
            "tags": []
          },
          "execution_count": 51
        }
      ]
    },
    {
      "cell_type": "code",
      "metadata": {
        "id": "j76rvRmxkp-C",
        "outputId": "7794baa9-ae9e-461a-ff89-14f7940137cb",
        "colab": {
          "base_uri": "https://localhost:8080/"
        }
      },
      "source": [
        "model_5.weights"
      ],
      "execution_count": 52,
      "outputs": [
        {
          "output_type": "execute_result",
          "data": {
            "text/plain": [
              "[<tf.Variable 'dense_layer/kernel:0' shape=(784, 512) dtype=float32, numpy=\n",
              " array([[ 0.05325742, -0.1739157 ,  0.02005552, ..., -0.03071494,\n",
              "         -0.04413032, -0.00571972],\n",
              "        [-0.00195733, -0.16733815, -0.03907   , ..., -0.04399994,\n",
              "         -0.0321722 ,  0.00921904],\n",
              "        [ 0.05617949,  0.38485718,  0.02752605, ..., -0.09438211,\n",
              "         -0.057304  ,  0.02512472],\n",
              "        ...,\n",
              "        [-0.01797825,  0.11096482, -0.01186688, ..., -0.15242255,\n",
              "         -0.04235105, -0.08437037],\n",
              "        [-0.06265804,  0.42246526, -0.00175972, ..., -0.08984721,\n",
              "         -0.0032949 ,  0.03146934],\n",
              "        [-0.04941471, -0.1661979 ,  0.04201775, ..., -0.03135542,\n",
              "         -0.07028707, -0.00463628]], dtype=float32)>,\n",
              " <tf.Variable 'dense_layer/bias:0' shape=(512,) dtype=float32, numpy=\n",
              " array([-0.02124102, -0.34962487,  0.03500544, -0.16573167,  0.05168225,\n",
              "         0.14510709, -0.00737184,  0.09733006,  0.17237763,  0.45392537,\n",
              "         0.00859184, -0.2009366 , -0.2797821 ,  0.09491152,  0.12010252,\n",
              "         0.12626132, -0.01082507,  0.37684435,  0.07720314, -0.11207117,\n",
              "        -0.43898302,  0.12874274, -0.43562746, -0.02450896, -0.02079786,\n",
              "         0.10338963, -0.06356837,  0.03103151, -0.06873798,  0.12082484,\n",
              "         0.02062135,  0.01597128, -0.45919776,  0.11564369,  0.15473163,\n",
              "         0.07401401, -0.0314287 ,  0.24545997,  0.01124372, -0.02352507,\n",
              "        -0.2368658 ,  0.3431994 ,  0.25659436,  0.20267405,  0.02902224,\n",
              "        -0.00728914, -0.02774061,  0.02131971, -0.04455847,  0.06353959,\n",
              "        -0.01448039, -0.0261257 ,  0.30666965,  0.65674794, -0.03070013,\n",
              "         0.05926762,  0.18073617,  0.2346313 , -0.15738903,  0.04640878,\n",
              "         0.12152678, -0.02862885,  0.08774666,  0.04405276,  0.30522606,\n",
              "         0.15053195,  0.09737118, -0.48559785, -0.02088393,  0.09185926,\n",
              "        -0.018334  , -0.15504678,  0.050217  , -0.1894518 ,  0.35588697,\n",
              "         0.09943071,  0.15857367,  0.03522654,  0.13701773, -0.72495735,\n",
              "        -0.02806749,  0.34352487,  0.29217842,  0.22919391, -0.00611372,\n",
              "         0.28020355,  0.02861121, -0.31626043,  0.02451956,  0.2698693 ,\n",
              "         0.26482278,  0.28996748, -0.09580377,  0.13032803,  0.01823094,\n",
              "         0.17613499,  0.20212018,  0.099852  ,  0.05663497, -0.11780517,\n",
              "         0.32839176, -0.50182754,  0.18715598, -0.19690914, -0.23897988,\n",
              "        -0.00586245, -0.40753412,  0.08493587, -0.39392486,  0.32831427,\n",
              "         0.40137962, -0.00479712,  0.03006955,  0.02861229,  0.40889597,\n",
              "        -0.21428451,  0.1759783 ,  0.19907536, -0.00794322,  0.17104732,\n",
              "         0.20245636,  0.03585281,  0.16289338,  0.0076929 ,  0.24185513,\n",
              "         0.07778756,  0.14968337,  0.12721024,  0.2650848 ,  0.16514157,\n",
              "        -0.5522379 , -0.5477012 ,  0.25047886,  0.09400608,  0.03839203,\n",
              "         0.06182966,  0.20005338, -0.03399441, -0.00633515,  0.29116085,\n",
              "         0.12981075,  0.0124498 ,  0.04611128,  0.25175744, -0.01333927,\n",
              "         0.06445513,  0.01789808, -0.35750833,  0.05903385, -0.03060011,\n",
              "         0.34750113,  0.10603881,  0.19216867,  0.04133577,  0.09360487,\n",
              "        -0.06623191,  0.2594073 ,  0.05029258,  0.06862565,  0.01782706,\n",
              "         0.05649419, -0.05306813,  0.20643713,  0.12757294,  0.06756551,\n",
              "         0.28391856, -0.00376071,  0.29881158,  0.08851817,  0.0264246 ,\n",
              "        -0.01118056, -0.12610954,  0.1015654 ,  0.22662324,  0.04113792,\n",
              "        -0.05641433,  0.03635544,  0.07526074,  0.31060123,  0.0614253 ,\n",
              "        -0.01293533,  0.2266316 ,  0.1146379 , -0.01431088,  0.2968519 ,\n",
              "        -0.03370669, -0.01348332,  0.48346156,  0.50450945, -0.01776807,\n",
              "         0.09397754,  0.00157324,  0.10721515, -0.03852788,  0.22530206,\n",
              "         0.11080697, -0.00442531, -0.03044913,  0.13931029, -0.3582213 ,\n",
              "         0.1376258 , -0.05673185, -0.00462265, -0.08654813,  0.19450016,\n",
              "         0.12196375, -0.02517353,  0.06505685, -0.14814782,  0.00579476,\n",
              "         0.14790481, -0.01160602,  0.18150364,  0.2128185 , -0.2666169 ,\n",
              "         0.50757176,  0.00941654, -0.0417233 ,  0.2529098 ,  0.24700545,\n",
              "        -0.10389487, -0.00606584, -0.8241266 , -0.01203679,  0.14920473,\n",
              "        -0.04362195,  0.1956623 , -0.5337872 , -0.50933087, -0.08514672,\n",
              "        -0.01472889,  0.25232676,  0.2753729 ,  0.0959303 ,  0.02368844,\n",
              "         0.17012829,  0.02674187, -0.04565846, -0.01480374,  0.01445931,\n",
              "         0.28401694, -0.00545875,  0.3615523 ,  0.08326171,  0.27256036,\n",
              "         0.25662243,  0.2630137 , -0.05821693,  0.20949934,  0.15229876,\n",
              "        -0.00803841,  0.11950374,  0.16633381, -0.13409004, -0.0058347 ,\n",
              "         0.11451586,  0.04573306, -0.01251087, -0.10283168,  0.29819956,\n",
              "         0.15767145, -0.05134239,  0.16061692,  0.05353019, -0.0252098 ,\n",
              "         0.14134322,  0.21107471,  0.14151382,  0.10854498, -0.03794266,\n",
              "        -0.20861818, -0.06003012,  0.2952019 , -0.01051735,  0.5144049 ,\n",
              "         0.16377942,  0.10952678,  0.06423297,  0.26614693,  0.04151811,\n",
              "         0.14828232, -0.00274688,  0.03268662, -0.09757037,  0.35118294,\n",
              "        -0.0104559 , -0.00631562,  0.2353505 , -0.08066097,  0.0133982 ,\n",
              "         0.04687   ,  0.45971668,  0.34793165, -0.43440524,  0.14448598,\n",
              "         0.00337501,  0.38754946,  0.28679827,  0.20445102, -0.5027361 ,\n",
              "        -0.6856649 , -0.00708218,  0.17950432,  0.19728655,  0.20960864,\n",
              "         0.1398466 , -0.32417405,  0.00585922, -0.0411232 ,  0.12019447,\n",
              "         0.08924887,  0.26025623, -0.4651807 ,  0.09228354, -0.42560017,\n",
              "         0.12972388,  0.20690851,  0.39870417, -0.02090731,  0.06882802,\n",
              "         0.06467787,  0.09982851, -0.16262351, -0.01591546, -0.4718942 ,\n",
              "        -0.04612156, -0.01847276, -0.31626412, -0.00832125, -0.12040591,\n",
              "         0.037491  , -0.2326991 ,  0.21936038,  0.01561083,  0.14334796,\n",
              "         0.16204108,  0.17678478, -0.11527736,  0.2960715 ,  0.1134314 ,\n",
              "        -0.00916032, -0.00918372, -0.02516614, -0.05199594,  0.04518249,\n",
              "         0.19890326,  0.33112   ,  0.20934837, -0.21911515,  0.00908445,\n",
              "        -0.09151689,  0.05293167,  0.05180678, -0.01278684,  0.3908191 ,\n",
              "         0.13875951,  0.04840739, -0.01314502,  0.02733451,  0.04614678,\n",
              "        -0.09273923,  0.04780061, -0.01695233,  0.39431906, -0.00836914,\n",
              "         0.01157332,  0.14217208,  0.18209293,  0.44307575, -0.00952353,\n",
              "        -0.01342141,  0.2138849 , -0.09797245, -0.00384877, -0.00253715,\n",
              "        -0.06600816,  0.01866295, -0.00474701,  0.2010945 ,  0.1176819 ,\n",
              "        -0.03526896,  0.0886339 ,  0.22470944, -0.30694675,  0.03756153,\n",
              "        -0.22955191, -0.0297827 , -0.03039528, -0.40914354,  0.06765846,\n",
              "         0.04523901,  0.0021836 , -0.00842834,  0.21886182, -0.02153537,\n",
              "        -0.3432595 ,  0.08509617, -0.00319899,  0.16951919,  0.0182253 ,\n",
              "        -0.08390955, -0.01041673,  0.16868939,  0.21829599, -0.4020602 ,\n",
              "         0.00422618, -0.00096495, -0.3188744 , -0.07850597,  0.27279192,\n",
              "         0.11854986,  0.10683672,  0.27041376, -0.00584655,  0.0221462 ,\n",
              "         0.01503315,  0.00098016, -0.01728479, -0.02753174,  0.02210925,\n",
              "        -0.01294591,  0.0430069 ,  0.09083287,  0.11938612,  0.3627002 ,\n",
              "         0.15908884, -0.13407668,  0.21183693, -0.03023426,  0.12640586,\n",
              "         0.05481607,  0.5756442 ,  0.1481423 , -0.00591436, -0.04780539,\n",
              "         0.18412331,  0.1218444 ,  0.19280285,  0.26249748,  0.09760158,\n",
              "        -0.09808411, -0.01072753,  0.01938331, -0.00375439,  0.02707735,\n",
              "         0.08017815, -0.19427818,  0.20562172,  0.0755569 , -0.06856946,\n",
              "        -0.47977343,  0.20612139, -0.2502814 , -0.06848182, -0.08087005,\n",
              "         0.11882259,  0.09039384,  0.07972562, -0.00762057,  0.17601176,\n",
              "        -0.07625838, -0.19682513,  0.02025256,  0.09754319,  0.26442215,\n",
              "        -0.10488008,  0.08218431,  0.09146955,  0.05446638,  0.28981924,\n",
              "         0.45892918, -0.57302326,  0.47364148, -0.16997269,  0.17415844,\n",
              "        -0.01672636,  0.16209334,  0.08584495,  0.24722198,  0.00131281,\n",
              "         0.02290604,  0.23073196,  0.31427225, -0.1907373 , -0.0093598 ,\n",
              "        -0.2457424 , -0.30686596, -0.27748773, -0.00186517,  0.03357873,\n",
              "         0.08676992, -0.01440528, -0.24199098, -0.2261979 ,  0.23445415,\n",
              "        -0.01205912,  0.06977227,  0.38527602, -0.01070852, -0.10335582,\n",
              "         0.00184225,  0.00868846,  0.35100615,  0.13137706, -0.20360658,\n",
              "         0.04346804,  0.23946398, -0.10095721,  0.40089378,  0.04734751,\n",
              "         0.07817768, -0.06210327], dtype=float32)>,\n",
              " <tf.Variable 'dense_layer_2/kernel:0' shape=(512, 512) dtype=float32, numpy=\n",
              " array([[-0.08506779, -0.06657521, -0.02727728, ...,  0.04491106,\n",
              "         -0.04776046, -0.03585334],\n",
              "        [-0.19541153, -0.04892543, -0.07737724, ..., -0.17289963,\n",
              "         -0.4034594 ,  0.07486168],\n",
              "        [ 0.00556641, -0.06529744, -0.00502214, ...,  0.0409805 ,\n",
              "          0.0819433 , -0.01098247],\n",
              "        ...,\n",
              "        [-0.05644101,  0.1327493 , -0.00304668, ...,  0.16252972,\n",
              "          0.10303006, -0.01010438],\n",
              "        [-0.01868052,  0.06113421, -0.04137041, ...,  0.00573085,\n",
              "         -0.02333757,  0.04201036],\n",
              "        [-0.00158483,  0.04193599, -0.05770843, ...,  0.0124121 ,\n",
              "          0.05391321, -0.04871371]], dtype=float32)>,\n",
              " <tf.Variable 'dense_layer_2/bias:0' shape=(512,) dtype=float32, numpy=\n",
              " array([ 2.02714115e-01,  1.37187436e-01,  8.68125185e-02,  4.33484986e-02,\n",
              "        -2.65051946e-02,  2.08543390e-01, -1.47992671e-01, -1.29265383e-01,\n",
              "        -2.35251933e-01, -1.41977131e-01, -2.43925527e-01, -1.49323449e-01,\n",
              "         1.29126057e-01,  1.42955154e-01,  1.14913225e-01, -1.61620259e-01,\n",
              "        -8.16291943e-03, -7.00952634e-02, -1.26165673e-01,  1.80578962e-01,\n",
              "         3.02491903e-01, -2.72359669e-01, -1.07096434e-01,  6.24311976e-02,\n",
              "        -4.06527698e-01,  1.98601484e-01, -1.35164052e-01, -2.03738928e-01,\n",
              "         6.44286796e-02,  4.60051559e-02,  4.71459061e-01,  2.08062515e-01,\n",
              "        -1.35699406e-01,  3.00970525e-02,  3.99018042e-02, -1.00590274e-01,\n",
              "        -2.35434324e-01, -2.27868885e-01, -1.38553843e-01,  2.62772888e-01,\n",
              "         1.32206798e-01, -2.77549088e-01,  2.68239409e-01,  1.07318778e-02,\n",
              "         1.39648691e-01,  2.45393842e-01,  8.60086009e-02,  1.69366717e-01,\n",
              "         4.53865528e-01,  2.37488851e-01,  1.12007849e-01, -5.49846217e-02,\n",
              "        -4.93904687e-02,  1.35219455e-01, -9.87212807e-02, -9.46105272e-03,\n",
              "         1.01851083e-01, -7.73023292e-02, -1.15300059e-01,  6.09248616e-02,\n",
              "         4.77682091e-02,  1.62731260e-01, -1.37342503e-02,  6.30487781e-03,\n",
              "         1.25074349e-02, -1.87159225e-01, -1.81500718e-01,  3.93018901e-01,\n",
              "         7.80620500e-02,  3.06440461e-02, -3.62676941e-02,  3.03573422e-02,\n",
              "         2.16203898e-01, -2.64107078e-01,  4.65457924e-02,  1.60923690e-01,\n",
              "         8.66301954e-02, -1.44930199e-01, -3.56161557e-02, -2.72622138e-01,\n",
              "        -2.08469585e-01, -1.78167503e-02, -6.29003942e-02, -1.89736575e-01,\n",
              "         2.76989579e-01, -1.98452175e-01, -2.14194074e-01, -6.60154074e-02,\n",
              "         2.21063539e-01, -2.65903980e-01,  1.01198569e-01,  8.80642161e-02,\n",
              "        -1.99333653e-01,  2.89342497e-02,  3.26297805e-02,  9.89474505e-02,\n",
              "        -1.47751883e-01,  2.60747343e-01,  2.26999089e-01,  1.06197828e-02,\n",
              "        -1.85664713e-01, -2.99199253e-01,  1.92056313e-01, -1.25422642e-01,\n",
              "        -1.21488780e-01,  1.12272024e-01,  6.49524620e-03, -1.02458656e-01,\n",
              "         2.21241623e-01,  1.60887446e-02, -2.39539314e-02, -2.97193497e-01,\n",
              "        -9.38359648e-02,  8.80186334e-02, -4.34651561e-02, -7.27946637e-03,\n",
              "        -2.04733402e-01,  3.38274539e-01,  1.55097038e-01,  7.76060298e-02,\n",
              "         2.04437613e-01,  2.41949886e-01, -4.71782126e-02,  4.12738509e-02,\n",
              "         9.78616998e-02,  2.82978397e-02, -3.27088200e-02,  3.08192521e-01,\n",
              "         2.63172954e-01,  9.01840255e-02,  1.22618236e-01, -1.35147288e-01,\n",
              "         1.08734533e-01, -2.41527945e-01, -1.51912570e-01,  3.50194126e-01,\n",
              "        -7.14328960e-02, -9.61643606e-02,  3.18840414e-01,  1.85308248e-01,\n",
              "        -1.65068626e-01,  6.31562248e-02, -6.49348721e-02,  1.07921138e-01,\n",
              "         2.03770876e-01, -1.56293973e-01,  2.12259769e-01,  5.65629341e-02,\n",
              "        -1.97363421e-02, -8.20051599e-03, -1.12008817e-01, -1.95847005e-01,\n",
              "        -1.28940597e-01, -1.66164711e-01, -2.40798727e-01,  1.25494942e-01,\n",
              "        -1.31926844e-02, -2.32489869e-01,  6.00521713e-02,  3.59405056e-02,\n",
              "        -3.33590992e-02, -2.39469767e-01,  7.48390704e-02,  1.08349502e-01,\n",
              "         2.00378105e-01, -2.07682133e-01, -2.76559945e-02,  1.06567107e-01,\n",
              "         1.15691222e-01, -1.34480149e-01,  2.69295841e-01, -2.08652988e-01,\n",
              "         3.89537841e-01, -2.77628839e-01, -2.21724529e-02,  3.11780814e-03,\n",
              "        -2.81516910e-02, -1.48265228e-01,  4.54804629e-01,  4.08356875e-01,\n",
              "         1.09089218e-01, -2.51678348e-01,  1.70701504e-01, -3.64203879e-04,\n",
              "         1.29846465e-02,  2.28799824e-02,  2.92124636e-02,  1.59070298e-01,\n",
              "         2.42733359e-01,  3.08631803e-03,  1.00308724e-01,  3.15864272e-02,\n",
              "        -7.67441615e-02, -2.84169670e-02,  1.54926807e-01, -8.90458077e-02,\n",
              "         7.96796083e-02,  1.59181938e-01,  1.21197015e-01,  3.89418364e-01,\n",
              "        -2.16795895e-02,  3.71123582e-01,  2.86229193e-01,  1.16402268e-01,\n",
              "        -2.45734584e-02, -1.04617211e-03,  9.18835849e-02,  9.57324877e-02,\n",
              "         1.08400263e-01,  7.82515388e-03,  3.28016758e-01,  2.25118250e-01,\n",
              "         2.56244242e-01,  1.03569075e-01, -1.26433238e-01, -1.44205347e-01,\n",
              "         1.84110716e-01,  1.47035494e-01, -2.03314155e-01,  3.72596264e-01,\n",
              "        -1.58159643e-01,  1.56910010e-02,  1.74805820e-01,  7.90623054e-02,\n",
              "         1.21481471e-01, -4.83702384e-02,  5.44694811e-02,  6.97572529e-02,\n",
              "        -9.27040428e-02,  3.80900502e-01,  5.37421852e-02, -6.23077005e-02,\n",
              "         2.04195291e-01, -1.46046072e-01,  2.10485305e-03,  1.08792432e-01,\n",
              "         7.98547715e-02,  3.03486437e-01, -1.31079406e-01,  2.34827459e-01,\n",
              "         7.99056813e-02,  3.19390297e-02, -2.11585209e-01,  2.02251673e-01,\n",
              "         2.89487839e-01,  3.17691207e-01, -1.65288463e-01,  1.31513834e-01,\n",
              "         2.37649277e-01, -3.42725255e-02,  3.42711031e-01,  2.09286258e-01,\n",
              "         7.29301050e-02, -1.41915604e-01, -3.76384407e-01, -9.20401141e-02,\n",
              "        -2.83064425e-01, -1.74928131e-03,  1.96833894e-01,  2.79474467e-01,\n",
              "        -1.38670206e-01,  3.44316810e-01, -1.13234006e-01,  1.16891731e-02,\n",
              "         1.36516333e-01, -8.18514358e-03, -2.08662212e-01,  3.44799608e-02,\n",
              "        -1.05846345e-01,  1.42167658e-01,  1.11473978e-01, -1.77940592e-01,\n",
              "         2.96069354e-01,  3.30838375e-02,  3.24152142e-01, -2.08997279e-01,\n",
              "        -1.09383970e-01,  1.59313217e-01,  1.94429860e-01, -2.51199424e-01,\n",
              "         3.28210630e-02,  9.22466367e-02,  1.42230555e-01, -5.47736473e-02,\n",
              "        -2.82477923e-02,  3.46701369e-02,  2.09880218e-01,  1.55282453e-01,\n",
              "         9.01945531e-02, -1.89142376e-01, -4.93729599e-02,  2.18847170e-02,\n",
              "        -4.14015919e-01,  4.92618745e-03,  1.77696776e-02, -1.04114832e-02,\n",
              "         1.42019898e-01,  2.12224111e-01,  1.09481782e-01, -1.58736780e-01,\n",
              "         1.91985175e-01,  3.90633762e-01, -2.48921379e-01,  1.83082707e-02,\n",
              "         7.27301389e-02, -9.38788950e-02,  2.52061278e-01,  7.90604651e-02,\n",
              "        -1.10220067e-01,  2.02779859e-01,  1.83440655e-01, -1.21212773e-01,\n",
              "        -2.32611060e-01,  1.67086363e-01, -2.22983174e-02,  8.52770433e-02,\n",
              "        -1.40888784e-02, -2.23292097e-01, -9.83093381e-02, -2.08636358e-01,\n",
              "         1.26434609e-01,  1.26111791e-01, -1.86572418e-01,  2.22896591e-01,\n",
              "         1.27923205e-01, -7.53671080e-02, -6.27148226e-02,  2.90504515e-01,\n",
              "        -1.75151527e-01, -4.99608628e-02,  1.34708360e-01,  1.54037848e-01,\n",
              "        -7.69588277e-02,  9.47390646e-02,  3.88132274e-01, -2.23245740e-01,\n",
              "        -9.71006453e-02,  2.76893556e-01, -2.35966578e-01,  2.01715097e-01,\n",
              "        -1.42210498e-01,  1.27997510e-02, -1.99994951e-01,  5.17209917e-02,\n",
              "        -3.75946432e-01,  5.24653047e-02,  1.25966489e-01, -2.60235846e-01,\n",
              "        -4.52064931e-01,  1.64294630e-01,  3.47988516e-01,  8.84091705e-02,\n",
              "         3.92170876e-01,  2.96310764e-02,  3.13995928e-01,  1.53285146e-01,\n",
              "         5.98554537e-02, -1.17036588e-01,  1.97106466e-01, -5.25953136e-02,\n",
              "        -1.95334941e-01,  1.49853379e-01, -9.41453595e-03,  6.77224481e-04,\n",
              "         2.20413022e-02, -1.06575891e-01, -9.29635316e-02,  2.47492671e-01,\n",
              "        -3.86432223e-02,  1.40227512e-01,  2.23647580e-01,  1.75650269e-01,\n",
              "        -1.18481681e-01, -6.88321814e-02, -3.80687565e-02,  1.80818200e-01,\n",
              "         1.66716516e-01, -7.18892440e-02,  4.41844799e-02,  1.12259209e-01,\n",
              "        -1.61511451e-02,  4.50463146e-02, -1.49976835e-01,  3.14013600e-01,\n",
              "        -7.66775087e-02,  7.52794072e-02, -1.16751399e-02,  2.78871268e-01,\n",
              "         1.84668049e-01,  6.64553717e-02,  1.57170445e-01, -3.02278232e-02,\n",
              "         2.67503768e-01, -3.27080667e-01,  8.72343481e-02, -1.82031944e-01,\n",
              "        -1.67088717e-01,  3.98702174e-02,  3.22747342e-02, -3.30515690e-02,\n",
              "        -2.52970189e-01,  2.57967949e-01,  1.08587742e-01, -2.76242673e-01,\n",
              "        -3.82254682e-02,  2.05638319e-01, -2.97947615e-01,  2.89788425e-01,\n",
              "         1.64212331e-01,  9.64441076e-02, -4.98011559e-02,  1.11205019e-02,\n",
              "         2.88816065e-01,  1.34414569e-01, -1.37792826e-01, -1.74665123e-01,\n",
              "         5.03174439e-02,  1.17532738e-01, -8.37611109e-02, -2.66489685e-01,\n",
              "         2.70451605e-01,  4.54655647e-01, -9.49027613e-02,  5.65753430e-02,\n",
              "        -1.48315474e-01, -2.63106078e-02, -1.33992061e-01,  2.16640219e-01,\n",
              "        -9.46919769e-02,  1.03422858e-01,  2.83142775e-01, -2.01462895e-01,\n",
              "        -3.15135270e-01,  2.82532293e-02,  8.89642164e-02,  3.53635967e-01,\n",
              "         1.53946141e-02,  1.12440437e-01, -2.99277939e-02,  1.20678417e-01,\n",
              "         2.46023610e-02,  4.05242682e-01,  1.04682140e-01,  1.52343407e-01,\n",
              "         3.90943110e-01,  3.54330748e-01, -9.39557627e-02,  1.14341587e-01,\n",
              "        -1.42471775e-01,  3.47671539e-01, -4.11900878e-02,  1.74959049e-01,\n",
              "         2.37777606e-02,  1.74727291e-01, -9.31380782e-04, -2.50042398e-02,\n",
              "         1.42666042e-01, -7.05320165e-02, -2.04164043e-01,  1.37510616e-03,\n",
              "         1.53192535e-01, -2.28284389e-01, -1.14702031e-01, -1.99412212e-01,\n",
              "        -2.35648383e-03,  4.50344160e-02,  3.39024901e-01, -2.37154979e-02,\n",
              "         1.61565766e-01,  5.30844070e-02,  3.68004024e-01,  3.21639180e-01,\n",
              "         8.36654380e-02, -2.78684586e-01,  2.02953786e-01,  7.93784410e-02,\n",
              "         5.32175675e-02, -6.57762662e-02, -1.54328287e-01,  3.93610567e-01,\n",
              "        -8.78246427e-02,  1.49099201e-01,  1.75210208e-01,  4.86810133e-02,\n",
              "         6.34365603e-02, -7.22320974e-02, -1.88457713e-01, -9.36728418e-02,\n",
              "         5.12229502e-01,  3.13932866e-01,  1.03854321e-01, -1.99741617e-01,\n",
              "         2.64946550e-01,  3.85420591e-01,  6.59549087e-02,  1.18418299e-01,\n",
              "        -2.08067015e-01,  2.19201043e-01,  2.34784782e-01,  2.55970985e-01,\n",
              "         2.25882530e-01,  2.45177075e-02, -3.20132583e-01,  3.43056843e-02,\n",
              "        -5.14580943e-02,  3.92615974e-01, -3.26448500e-01,  2.19775602e-01,\n",
              "         8.60753283e-02,  4.65286411e-02,  1.80162806e-02,  1.81947034e-02],\n",
              "       dtype=float32)>,\n",
              " <tf.Variable 'dense_layer_3/kernel:0' shape=(512, 10) dtype=float32, numpy=\n",
              " array([[-0.03867155, -0.37890854, -0.11254874, ...,  0.13525052,\n",
              "          0.05400886,  0.00651268],\n",
              "        [-0.07351345,  0.10646661, -0.06323005, ...,  0.05672648,\n",
              "         -0.03446338, -0.29596648],\n",
              "        [-0.11155666, -0.2250581 , -0.08417463, ...,  0.06171148,\n",
              "         -0.40321943,  0.09588496],\n",
              "        ...,\n",
              "        [-0.01887633, -0.13625698, -0.03592594, ..., -0.02650051,\n",
              "          0.12408122, -0.16544138],\n",
              "        [ 0.04997711,  0.06070067, -0.25188679, ...,  0.03923829,\n",
              "          0.05890922, -0.23141806],\n",
              "        [-0.23461735, -0.07754332,  0.08381663, ..., -0.13460538,\n",
              "         -0.12193445, -0.07193325]], dtype=float32)>,\n",
              " <tf.Variable 'dense_layer_3/bias:0' shape=(10,) dtype=float32, numpy=\n",
              " array([-0.1007752 , -0.53967255,  0.1326201 ,  0.4365031 , -0.17239046,\n",
              "        -0.08068136,  0.03402444,  0.30469236, -0.15182641, -0.31781694],\n",
              "       dtype=float32)>]"
            ]
          },
          "metadata": {
            "tags": []
          },
          "execution_count": 52
        }
      ]
    },
    {
      "cell_type": "code",
      "metadata": {
        "id": "0cV3gfkLkp-M",
        "outputId": "db0c8b81-d88c-4626-ecaa-4ae40da3679e",
        "colab": {
          "base_uri": "https://localhost:8080/"
        }
      },
      "source": [
        "model_5.get_config()"
      ],
      "execution_count": 53,
      "outputs": [
        {
          "output_type": "execute_result",
          "data": {
            "text/plain": [
              "{'layers': [{'class_name': 'InputLayer',\n",
              "   'config': {'batch_input_shape': (None, 784),\n",
              "    'dtype': 'float32',\n",
              "    'name': 'dense_layer_input',\n",
              "    'ragged': False,\n",
              "    'sparse': False}},\n",
              "  {'class_name': 'Dense',\n",
              "   'config': {'activation': 'relu',\n",
              "    'activity_regularizer': None,\n",
              "    'batch_input_shape': (None, 784),\n",
              "    'bias_constraint': None,\n",
              "    'bias_initializer': {'class_name': 'Zeros', 'config': {}},\n",
              "    'bias_regularizer': None,\n",
              "    'dtype': 'float32',\n",
              "    'kernel_constraint': None,\n",
              "    'kernel_initializer': {'class_name': 'GlorotUniform',\n",
              "     'config': {'seed': None}},\n",
              "    'kernel_regularizer': None,\n",
              "    'name': 'dense_layer',\n",
              "    'trainable': True,\n",
              "    'units': 512,\n",
              "    'use_bias': True}},\n",
              "  {'class_name': 'Dropout',\n",
              "   'config': {'dtype': 'float32',\n",
              "    'name': 'dropout_6',\n",
              "    'noise_shape': None,\n",
              "    'rate': 0.3,\n",
              "    'seed': None,\n",
              "    'trainable': True}},\n",
              "  {'class_name': 'Dense',\n",
              "   'config': {'activation': 'relu',\n",
              "    'activity_regularizer': None,\n",
              "    'bias_constraint': None,\n",
              "    'bias_initializer': {'class_name': 'Zeros', 'config': {}},\n",
              "    'bias_regularizer': None,\n",
              "    'dtype': 'float32',\n",
              "    'kernel_constraint': None,\n",
              "    'kernel_initializer': {'class_name': 'GlorotUniform',\n",
              "     'config': {'seed': None}},\n",
              "    'kernel_regularizer': None,\n",
              "    'name': 'dense_layer_2',\n",
              "    'trainable': True,\n",
              "    'units': 512,\n",
              "    'use_bias': True}},\n",
              "  {'class_name': 'Dropout',\n",
              "   'config': {'dtype': 'float32',\n",
              "    'name': 'dropout_7',\n",
              "    'noise_shape': None,\n",
              "    'rate': 0.3,\n",
              "    'seed': None,\n",
              "    'trainable': True}},\n",
              "  {'class_name': 'Dense',\n",
              "   'config': {'activation': 'softmax',\n",
              "    'activity_regularizer': None,\n",
              "    'bias_constraint': None,\n",
              "    'bias_initializer': {'class_name': 'Zeros', 'config': {}},\n",
              "    'bias_regularizer': None,\n",
              "    'dtype': 'float32',\n",
              "    'kernel_constraint': None,\n",
              "    'kernel_initializer': {'class_name': 'GlorotUniform',\n",
              "     'config': {'seed': None}},\n",
              "    'kernel_regularizer': None,\n",
              "    'name': 'dense_layer_3',\n",
              "    'trainable': True,\n",
              "    'units': 10,\n",
              "    'use_bias': True}}],\n",
              " 'name': 'sequential_5'}"
            ]
          },
          "metadata": {
            "tags": []
          },
          "execution_count": 53
        }
      ]
    },
    {
      "cell_type": "markdown",
      "metadata": {
        "id": "jX8DXi1jiFYS"
      },
      "source": [
        "###Improved Model 6: Adding Another Hidden Layer to the Model"
      ]
    },
    {
      "cell_type": "code",
      "metadata": {
        "id": "5Ad_vKSRiNq0"
      },
      "source": [
        "import tensorflow as tf\n",
        "\n",
        "#In Keras, layers are assembled to build models \n",
        "from tensorflow.keras.layers import Dense\n",
        "from tensorflow.keras.layers import Dropout\n",
        "\n",
        "#Most common type of model is a stack of layers\n",
        "model_6 = tf.keras.Sequential()\n",
        "N_hidden = 512\n",
        "\n",
        "# Adds a densely-connected layer with 64 units to the model:\n",
        "model_6.add(Dense(N_hidden, name='dense_layer', input_shape=(784,), activation = 'relu'))\n",
        "# Now the model will take as input arrays of shape (*, 784)# and output arrays of shape (*, 64)\n",
        "model_6.add(Dropout(0.3))\n",
        "\n",
        "# Adding another dense layer:\n",
        "model_6.add(Dense(N_hidden, name='dense_layer_2', activation='relu'))\n",
        "model_6.add(Dropout(0.3))\n",
        "\n",
        "# Adding another dense layer:\n",
        "model_6.add(Dense(N_hidden, name='dense_layer_3', activation='relu'))\n",
        "model_6.add(Dropout(0.3))\n",
        "\n",
        "# Add an output layer with 10 output units (10 different classes):\n",
        "model_6.add(Dense(10, name='dense_layer_4', activation = 'softmax'))\n"
      ],
      "execution_count": 54,
      "outputs": []
    },
    {
      "cell_type": "code",
      "metadata": {
        "id": "OgTz-7_Ai03r"
      },
      "source": [
        "# Compiling the model.\n",
        "model_6.compile(optimizer='Adam', \n",
        "              loss='categorical_crossentropy',\n",
        "              metrics=['accuracy'])"
      ],
      "execution_count": 55,
      "outputs": []
    },
    {
      "cell_type": "code",
      "metadata": {
        "id": "8wlsmatji03-",
        "outputId": "8067a003-6c9f-4ac1-a760-4a0f2fdbcc4a",
        "colab": {
          "base_uri": "https://localhost:8080/"
        }
      },
      "source": [
        "# Training the model. \n",
        "training = model_6.fit(X_train, Y_train, batch_size=64, epochs=30, validation_split=0.2) "
      ],
      "execution_count": 56,
      "outputs": [
        {
          "output_type": "stream",
          "text": [
            "Epoch 1/30\n",
            "750/750 [==============================] - 2s 3ms/step - loss: 0.5819 - accuracy: 0.7889 - val_loss: 0.4209 - val_accuracy: 0.8439\n",
            "Epoch 2/30\n",
            "750/750 [==============================] - 2s 3ms/step - loss: 0.4388 - accuracy: 0.8427 - val_loss: 0.3837 - val_accuracy: 0.8586\n",
            "Epoch 3/30\n",
            "750/750 [==============================] - 2s 3ms/step - loss: 0.4002 - accuracy: 0.8547 - val_loss: 0.3706 - val_accuracy: 0.8648\n",
            "Epoch 4/30\n",
            "750/750 [==============================] - 2s 3ms/step - loss: 0.3800 - accuracy: 0.8605 - val_loss: 0.3585 - val_accuracy: 0.8671\n",
            "Epoch 5/30\n",
            "750/750 [==============================] - 2s 3ms/step - loss: 0.3629 - accuracy: 0.8675 - val_loss: 0.3505 - val_accuracy: 0.8686\n",
            "Epoch 6/30\n",
            "750/750 [==============================] - 2s 3ms/step - loss: 0.3512 - accuracy: 0.8724 - val_loss: 0.3557 - val_accuracy: 0.8736\n",
            "Epoch 7/30\n",
            "750/750 [==============================] - 2s 3ms/step - loss: 0.3438 - accuracy: 0.8731 - val_loss: 0.3364 - val_accuracy: 0.8756\n",
            "Epoch 8/30\n",
            "750/750 [==============================] - 2s 3ms/step - loss: 0.3363 - accuracy: 0.8761 - val_loss: 0.3316 - val_accuracy: 0.8806\n",
            "Epoch 9/30\n",
            "750/750 [==============================] - 2s 3ms/step - loss: 0.3220 - accuracy: 0.8813 - val_loss: 0.3424 - val_accuracy: 0.8771\n",
            "Epoch 10/30\n",
            "750/750 [==============================] - 2s 3ms/step - loss: 0.3182 - accuracy: 0.8837 - val_loss: 0.3394 - val_accuracy: 0.8762\n",
            "Epoch 11/30\n",
            "750/750 [==============================] - 2s 3ms/step - loss: 0.3112 - accuracy: 0.8851 - val_loss: 0.3184 - val_accuracy: 0.8814\n",
            "Epoch 12/30\n",
            "750/750 [==============================] - 2s 3ms/step - loss: 0.3051 - accuracy: 0.8867 - val_loss: 0.3165 - val_accuracy: 0.8886\n",
            "Epoch 13/30\n",
            "750/750 [==============================] - 2s 3ms/step - loss: 0.3019 - accuracy: 0.8884 - val_loss: 0.3254 - val_accuracy: 0.8776\n",
            "Epoch 14/30\n",
            "750/750 [==============================] - 2s 3ms/step - loss: 0.3019 - accuracy: 0.8885 - val_loss: 0.3148 - val_accuracy: 0.8891\n",
            "Epoch 15/30\n",
            "750/750 [==============================] - 2s 3ms/step - loss: 0.2909 - accuracy: 0.8927 - val_loss: 0.3174 - val_accuracy: 0.8840\n",
            "Epoch 16/30\n",
            "750/750 [==============================] - 2s 3ms/step - loss: 0.2878 - accuracy: 0.8928 - val_loss: 0.3257 - val_accuracy: 0.8848\n",
            "Epoch 17/30\n",
            "750/750 [==============================] - 2s 3ms/step - loss: 0.2865 - accuracy: 0.8939 - val_loss: 0.3223 - val_accuracy: 0.8879\n",
            "Epoch 18/30\n",
            "750/750 [==============================] - 2s 3ms/step - loss: 0.2779 - accuracy: 0.8973 - val_loss: 0.3178 - val_accuracy: 0.8863\n",
            "Epoch 19/30\n",
            "750/750 [==============================] - 2s 3ms/step - loss: 0.2790 - accuracy: 0.8967 - val_loss: 0.3090 - val_accuracy: 0.8912\n",
            "Epoch 20/30\n",
            "750/750 [==============================] - 3s 4ms/step - loss: 0.2731 - accuracy: 0.8988 - val_loss: 0.3064 - val_accuracy: 0.8922\n",
            "Epoch 21/30\n",
            "750/750 [==============================] - 3s 4ms/step - loss: 0.2728 - accuracy: 0.8980 - val_loss: 0.3132 - val_accuracy: 0.8909\n",
            "Epoch 22/30\n",
            "750/750 [==============================] - 3s 4ms/step - loss: 0.2692 - accuracy: 0.9006 - val_loss: 0.3015 - val_accuracy: 0.8930\n",
            "Epoch 23/30\n",
            "750/750 [==============================] - 2s 3ms/step - loss: 0.2651 - accuracy: 0.9022 - val_loss: 0.3271 - val_accuracy: 0.8913\n",
            "Epoch 24/30\n",
            "750/750 [==============================] - 2s 3ms/step - loss: 0.2584 - accuracy: 0.9040 - val_loss: 0.3134 - val_accuracy: 0.8933\n",
            "Epoch 25/30\n",
            "750/750 [==============================] - 2s 3ms/step - loss: 0.2614 - accuracy: 0.9038 - val_loss: 0.3139 - val_accuracy: 0.8925\n",
            "Epoch 26/30\n",
            "750/750 [==============================] - 2s 3ms/step - loss: 0.2580 - accuracy: 0.9041 - val_loss: 0.3183 - val_accuracy: 0.8932\n",
            "Epoch 27/30\n",
            "750/750 [==============================] - 2s 3ms/step - loss: 0.2584 - accuracy: 0.9030 - val_loss: 0.3063 - val_accuracy: 0.8923\n",
            "Epoch 28/30\n",
            "750/750 [==============================] - 2s 3ms/step - loss: 0.2593 - accuracy: 0.9046 - val_loss: 0.3103 - val_accuracy: 0.8942\n",
            "Epoch 29/30\n",
            "750/750 [==============================] - 2s 3ms/step - loss: 0.2510 - accuracy: 0.9069 - val_loss: 0.3132 - val_accuracy: 0.8893\n",
            "Epoch 30/30\n",
            "750/750 [==============================] - 2s 3ms/step - loss: 0.2518 - accuracy: 0.9057 - val_loss: 0.3355 - val_accuracy: 0.8891\n"
          ],
          "name": "stdout"
        }
      ]
    },
    {
      "cell_type": "code",
      "metadata": {
        "id": "we2ZBwRui04X",
        "outputId": "8fb3ac5f-b256-4108-b90b-4bf426dc24ba",
        "colab": {
          "base_uri": "https://localhost:8080/",
          "height": 590
        }
      },
      "source": [
        "import matplotlib.pyplot as plt\n",
        "%matplotlib inline\n",
        "# list all data in training\n",
        "print(training.history.keys())\n",
        "# summarize training for accuracy\n",
        "plt.plot(training.history['accuracy'])\n",
        "plt.plot(training.history['val_accuracy'])\n",
        "plt.title('model accuracy')\n",
        "plt.ylabel('accuracy')\n",
        "plt.xlabel('epoch')\n",
        "plt.legend(['train', 'test'], loc='upper left')\n",
        "plt.show()\n",
        "# summarize traning for loss\n",
        "plt.plot(training.history['loss'])\n",
        "plt.plot(training.history['val_loss'])\n",
        "plt.title('model loss')\n",
        "plt.ylabel('loss')\n",
        "plt.xlabel('epoch')\n",
        "plt.legend(['train', 'test'], loc='upper left')\n",
        "plt.show()"
      ],
      "execution_count": 57,
      "outputs": [
        {
          "output_type": "stream",
          "text": [
            "dict_keys(['loss', 'accuracy', 'val_loss', 'val_accuracy'])\n"
          ],
          "name": "stdout"
        },
        {
          "output_type": "display_data",
          "data": {
            "image/png": "[encoded data removed]",
            "text/plain": [
              "<Figure size 432x288 with 1 Axes>"
            ]
          },
          "metadata": {
            "tags": [],
            "needs_background": "light"
          }
        },
        {
          "output_type": "display_data",
          "data": {
            "image/png": "[encoded data removed]",
            "text/plain": [
              "<Figure size 432x288 with 1 Axes>"
            ]
          },
          "metadata": {
            "tags": [],
            "needs_background": "light"
          }
        }
      ]
    },
    {
      "cell_type": "code",
      "metadata": {
        "id": "rW_yiiBci04l",
        "outputId": "682d1794-7dc9-4098-8c42-d583a89f11e7",
        "colab": {
          "base_uri": "https://localhost:8080/"
        }
      },
      "source": [
        "#evaluate the model\n",
        "test_loss, test_acc = model_6.evaluate(X_test, Y_test)\n",
        "print('Test accuracy:', test_acc)"
      ],
      "execution_count": 58,
      "outputs": [
        {
          "output_type": "stream",
          "text": [
            "313/313 [==============================] - 1s 2ms/step - loss: 0.3616 - accuracy: 0.8828\n",
            "Test accuracy: 0.8827999830245972\n"
          ],
          "name": "stdout"
        }
      ]
    },
    {
      "cell_type": "code",
      "metadata": {
        "id": "-st6PFxmi04q",
        "outputId": "8af10e67-d1ea-4bb8-e3f3-ec68a2585b91",
        "colab": {
          "base_uri": "https://localhost:8080/"
        }
      },
      "source": [
        "model_6.summary"
      ],
      "execution_count": 59,
      "outputs": [
        {
          "output_type": "execute_result",
          "data": {
            "text/plain": [
              "<bound method Model.summary of <tensorflow.python.keras.engine.sequential.Sequential object at 0x7f01fb41bd30>>"
            ]
          },
          "metadata": {
            "tags": []
          },
          "execution_count": 59
        }
      ]
    },
    {
      "cell_type": "code",
      "metadata": {
        "id": "VVS-TuqDi04v",
        "outputId": "30b2bb14-4ae6-4a51-8626-f0e2fd79e6fe",
        "colab": {
          "base_uri": "https://localhost:8080/"
        }
      },
      "source": [
        "model_6.weights"
      ],
      "execution_count": 60,
      "outputs": [
        {
          "output_type": "execute_result",
          "data": {
            "text/plain": [
              "[<tf.Variable 'dense_layer/kernel:0' shape=(784, 512) dtype=float32, numpy=\n",
              " array([[-0.05564674,  0.09954851,  0.01491546, ...,  0.03426062,\n",
              "          0.09221672, -0.03009646],\n",
              "        [-0.06057526, -0.09160586, -0.06373989, ...,  0.08413176,\n",
              "         -0.04474327, -0.14385301],\n",
              "        [-0.04689886,  0.47389907, -0.08127383, ..., -0.15397301,\n",
              "         -0.42324036, -0.01624612],\n",
              "        ...,\n",
              "        [-0.06698845,  0.03870273,  0.16721906, ..., -0.04839433,\n",
              "          0.25362238, -0.08191445],\n",
              "        [ 0.02606384,  0.16855848,  0.07267393, ...,  0.04687366,\n",
              "         -0.11537674,  0.09253814],\n",
              "        [ 0.03074555,  0.04645803,  0.0281132 , ...,  0.0589746 ,\n",
              "          0.06110878, -0.01083589]], dtype=float32)>,\n",
              " <tf.Variable 'dense_layer/bias:0' shape=(512,) dtype=float32, numpy=\n",
              " array([-2.21943446e-02,  3.97459835e-01,  8.52097273e-02,  3.09309792e-02,\n",
              "        -3.86839837e-01,  1.71419621e-01,  1.57064110e-01, -2.10683197e-02,\n",
              "        -2.19002753e-01,  7.12253898e-02,  2.50132084e-01,  4.39105071e-02,\n",
              "        -4.08129347e-03, -3.54121476e-02,  1.08524665e-01, -8.96006450e-03,\n",
              "         4.48300550e-03,  4.01857406e-01,  1.70334831e-01,  5.18037304e-02,\n",
              "         2.54439771e-01,  1.21317320e-01, -1.56003414e-02,  2.97660590e-03,\n",
              "         2.77239591e-01,  3.94644290e-02, -1.37585625e-01, -1.85832661e-02,\n",
              "        -4.56134975e-03, -5.79992309e-03,  1.75717935e-01,  1.36671975e-01,\n",
              "         7.91771933e-02, -1.13413952e-01, -4.70710337e-01, -1.26071135e-02,\n",
              "         1.98421087e-02,  4.25537582e-03,  2.12995514e-01, -1.91625897e-02,\n",
              "         6.92853779e-02, -1.79159734e-02,  1.24222547e-01,  2.32946128e-03,\n",
              "        -1.12901507e-02, -5.28008819e-01, -2.87626684e-02,  1.38962865e-01,\n",
              "        -2.74198614e-02,  1.32745467e-02,  1.16315283e-01, -7.50363588e-01,\n",
              "        -2.69411385e-01,  5.11791892e-02,  1.69649094e-01,  9.17727128e-02,\n",
              "        -2.16027960e-01,  2.34511837e-01,  6.61216974e-02, -1.04281884e-02,\n",
              "         3.25608328e-02, -1.24739623e-02, -6.21794283e-01, -2.63040569e-02,\n",
              "        -7.39841983e-02,  1.96502805e-01,  1.11835502e-01,  1.25115842e-01,\n",
              "         9.71577223e-03, -3.39095086e-01, -2.33421754e-02,  4.78198379e-02,\n",
              "         2.62703031e-01, -5.04303016e-02, -1.66616529e-01, -1.08610503e-02,\n",
              "        -1.14042655e-01,  5.43975197e-02, -1.11055769e-01,  2.08029300e-01,\n",
              "         2.08232731e-01,  2.32972860e-01, -1.28460734e-03, -3.50051634e-02,\n",
              "        -1.11889038e-02,  1.80429667e-01, -4.07453701e-02, -8.32435936e-02,\n",
              "        -3.63717020e-01,  1.83819756e-01,  9.76426601e-02,  1.27704963e-01,\n",
              "         1.19830072e-02,  3.33897710e-01,  4.55369204e-02, -1.19053852e-02,\n",
              "        -2.50054467e-02, -2.56224424e-02, -6.12103147e-03,  1.68518126e-01,\n",
              "         5.28046750e-02,  2.38884136e-01, -4.50677931e-01, -4.09096599e-01,\n",
              "         2.48325728e-02, -2.65829675e-02, -7.77532160e-02, -2.14548316e-03,\n",
              "         1.64077859e-02,  2.65222311e-01,  7.36997509e-03,  2.07140520e-01,\n",
              "        -3.87660414e-02,  6.05043732e-02, -2.44252428e-01,  9.43145826e-02,\n",
              "         5.31673059e-02,  1.33084267e-01, -4.70820665e-02,  3.54607821e-01,\n",
              "         5.43687522e-01, -2.81596277e-03,  1.53708914e-02,  3.74596380e-02,\n",
              "         3.27934604e-03,  2.42535934e-01,  5.73217608e-02,  9.98872891e-02,\n",
              "         2.83747725e-02,  1.57734891e-03,  1.22935556e-01,  2.66971886e-01,\n",
              "        -5.08491136e-03, -1.89125556e-02,  9.35314223e-02,  2.91824400e-01,\n",
              "         2.20451236e-01,  2.72230674e-02, -2.10042316e-02,  6.31606381e-04,\n",
              "         1.41960621e-01, -2.26947088e-02,  6.80634677e-02, -2.16922560e-03,\n",
              "        -3.58859837e-01, -2.75702234e-02, -5.06180562e-02,  1.09733880e-01,\n",
              "        -2.67482072e-04, -3.13224271e-02, -1.31910481e-02, -1.02125397e-02,\n",
              "         6.23730896e-03,  9.76276621e-02, -6.61813021e-02, -4.41588789e-01,\n",
              "         1.47686064e-01,  4.12913933e-02,  1.75841615e-01,  2.30642110e-01,\n",
              "        -3.51221114e-02, -1.43371997e-02,  1.86785027e-01,  6.20947666e-02,\n",
              "        -1.18656065e-02,  3.78660299e-02,  1.86692260e-03,  1.69924989e-01,\n",
              "         1.98510692e-01,  3.81374806e-02,  7.18529224e-02, -2.78412014e-01,\n",
              "        -1.11139221e-02, -1.69587508e-03,  1.42950699e-01, -1.67623255e-02,\n",
              "         1.69900492e-01, -6.12749279e-01,  1.60801381e-01, -1.47684105e-02,\n",
              "         1.33416623e-01,  2.67934889e-01, -3.93530615e-02, -4.76112543e-03,\n",
              "        -9.47932005e-02,  8.88499024e-04,  1.97758377e-01,  2.12590501e-01,\n",
              "        -3.00884724e-01,  3.87574881e-02, -7.48126628e-03,  1.16303831e-01,\n",
              "        -4.90214556e-01,  1.34976730e-01, -8.93777981e-02, -5.70517704e-02,\n",
              "         4.92023304e-02,  2.47028634e-01,  4.49362509e-02, -1.21287135e-02,\n",
              "         2.20490471e-01,  2.93054223e-01,  2.41540402e-01, -9.20260325e-02,\n",
              "         1.52004436e-01, -2.70639155e-02, -1.12661719e-01,  7.25790709e-02,\n",
              "        -1.39472131e-02,  2.92443573e-01,  2.48360917e-01,  4.07947332e-01,\n",
              "         2.22835332e-01,  2.59782195e-01, -3.03543597e-01,  1.67113468e-01,\n",
              "        -1.09206714e-01,  8.38113647e-06, -2.41828822e-02,  2.67814815e-01,\n",
              "        -1.25792287e-02, -2.19322499e-02,  6.57657683e-02, -5.27884901e-01,\n",
              "        -2.89936244e-01, -1.60202265e-01,  1.65027753e-01, -1.99653402e-01,\n",
              "         2.32053757e-01, -1.21689271e-02, -1.00281388e-02, -9.97131541e-02,\n",
              "         2.05598727e-01,  1.03951581e-01,  7.05853477e-02, -5.89655712e-02,\n",
              "         1.99435443e-01,  1.39750447e-02,  1.51003316e-01, -2.93112490e-02,\n",
              "        -2.46410891e-02, -1.32469600e-02,  1.77767854e-02, -1.41500551e-02,\n",
              "        -3.68337929e-02, -9.30001959e-02,  8.00909549e-02,  9.50486064e-02,\n",
              "         2.29267567e-01, -4.40268159e-01,  1.34468809e-01,  4.48454805e-02,\n",
              "         4.34821635e-01,  2.12954000e-01, -1.56893775e-01,  1.62550628e-01,\n",
              "        -3.09037920e-02, -3.97574110e-03, -4.26728986e-02, -9.42862965e-03,\n",
              "        -1.94042958e-02, -4.97172505e-01,  2.02464089e-01,  2.16178313e-01,\n",
              "         2.52276426e-03, -1.07606784e-01, -1.85445875e-01,  1.91221744e-01,\n",
              "         8.96101594e-02, -4.53859240e-01,  8.81950632e-02,  9.45960283e-02,\n",
              "         1.18331686e-01, -3.41806561e-01,  2.74537623e-01, -4.60581690e-01,\n",
              "         3.55132103e-01,  8.34844485e-02,  2.71082789e-01, -1.30803948e-02,\n",
              "         1.86003484e-02, -2.85241790e-02,  1.82372093e-01, -1.10918023e-01,\n",
              "         9.57291424e-02,  4.11942080e-02,  8.02667905e-03,  2.09963009e-01,\n",
              "         1.26100361e-01,  1.19276531e-01,  2.50429481e-01,  1.52430966e-01,\n",
              "        -1.84975583e-02,  6.23626970e-02,  2.26893082e-01,  2.04249367e-01,\n",
              "         3.68042616e-03,  7.50579834e-02,  1.21542081e-01,  1.08828895e-01,\n",
              "         2.69050479e-01,  1.01247385e-01,  4.02742513e-02, -1.02788575e-01,\n",
              "        -1.71177283e-01,  1.14044689e-01, -4.46390174e-02, -1.78099182e-02,\n",
              "        -6.55585621e-03, -1.51814565e-01,  1.39652625e-01,  1.84711837e-03,\n",
              "        -7.78226182e-03,  5.51299155e-02, -2.16686502e-01,  1.57144904e-01,\n",
              "         7.72285312e-02, -4.74655896e-01, -1.72814727e-01, -1.61971431e-02,\n",
              "        -4.74574566e-01,  3.63948718e-02,  1.61210656e-01,  8.51596892e-03,\n",
              "         1.64921448e-01, -3.24580818e-02,  3.35228860e-01,  8.73352587e-02,\n",
              "        -2.31716529e-01,  1.37842700e-01, -3.46416282e-03,  1.58428028e-02,\n",
              "         1.59311771e-01,  2.16316953e-01, -6.82853628e-03, -1.89319979e-02,\n",
              "        -1.30835995e-02,  1.72142014e-02, -1.90571770e-01, -1.15676813e-01,\n",
              "         6.70112222e-02,  5.00457846e-02, -2.12985631e-02,  6.93263113e-02,\n",
              "         2.05217917e-02, -3.96112502e-02, -1.36257380e-01, -1.83911566e-02,\n",
              "         1.73590463e-02,  2.80038528e-02, -2.30293155e-01, -1.24512697e-02,\n",
              "        -4.73924071e-01, -1.93875685e-01,  2.15586610e-02, -8.27028528e-02,\n",
              "        -2.77770478e-02, -1.40208349e-01,  1.11314848e-01, -1.04827909e-02,\n",
              "         9.53174233e-02, -7.02295266e-03, -1.35795157e-02, -1.83885694e-02,\n",
              "         4.26850431e-02,  1.72036648e-01, -2.48916358e-01, -1.93898007e-02,\n",
              "        -1.33782858e-02, -1.32868081e-01,  1.67442679e-01,  1.46801233e-01,\n",
              "        -3.50201637e-01,  2.33985201e-01, -7.20018744e-01, -2.95223087e-01,\n",
              "        -2.37532649e-02, -1.30802151e-02, -8.70680213e-02,  2.25648656e-02,\n",
              "         2.22294688e-01,  6.30225986e-02, -3.84373888e-02,  1.60416484e-01,\n",
              "         4.92977016e-02,  2.99995346e-03,  5.90919890e-03,  1.62502334e-01,\n",
              "         8.77630636e-02,  9.46607366e-02, -1.62712205e-02, -2.15119705e-01,\n",
              "         3.97965640e-01, -2.21502949e-02,  2.31457815e-01, -1.30931893e-02,\n",
              "         9.11413785e-03,  5.95589541e-02, -5.83715811e-02, -1.60355978e-02,\n",
              "         3.27847868e-01,  2.62194395e-01, -9.79872327e-03, -6.77252933e-02,\n",
              "         4.46232930e-02, -5.54606169e-02,  1.18795425e-01,  8.50603282e-02,\n",
              "         1.31440446e-01,  8.79221037e-02, -7.62040079e-01, -2.52568543e-01,\n",
              "        -3.16134274e-01,  2.37054497e-01,  3.59237343e-02, -3.05489004e-02,\n",
              "         9.00162682e-02,  1.48688480e-01,  2.04279087e-02,  9.63516608e-02,\n",
              "         1.70274928e-01, -3.71173508e-02,  2.83752590e-01, -1.91797297e-02,\n",
              "        -1.27688488e-02, -2.01227993e-01,  1.32015958e-01,  3.55122015e-02,\n",
              "         1.15138747e-01, -4.59936932e-02, -4.64440398e-02, -2.98915990e-02,\n",
              "        -6.13844721e-03,  2.03257184e-02, -1.40229851e-01,  3.12630057e-01,\n",
              "         1.82111472e-01,  1.58977732e-02,  1.24605656e-01, -4.88695912e-02,\n",
              "         3.24041814e-01,  1.98761374e-01,  2.97608942e-01,  1.30797565e-01,\n",
              "         2.05972679e-02,  1.28065765e-01, -6.02293480e-03,  4.41416800e-01,\n",
              "        -2.20816173e-02, -2.25151002e-01,  2.77447850e-01, -3.37193102e-01,\n",
              "         1.52594015e-01, -2.75641005e-03, -1.06328269e-02, -4.22050338e-03,\n",
              "         1.82854921e-01,  1.51527941e-01,  1.23967171e-01,  6.93562850e-02,\n",
              "        -6.37067035e-02,  1.10418133e-01,  8.86921287e-02,  8.48935246e-02,\n",
              "        -2.13611871e-01, -1.49555579e-02,  4.69809398e-02,  1.40573710e-01,\n",
              "        -2.71724537e-02,  1.80531994e-01,  3.05432081e-01,  3.14685285e-01,\n",
              "        -1.54387448e-02,  8.21719542e-02,  1.53391287e-01, -1.23607442e-02,\n",
              "         7.22854352e-03,  4.14694130e-01, -5.42111732e-02, -2.75321156e-02,\n",
              "         8.96408781e-02,  2.77193546e-01, -8.51801969e-03,  4.79560196e-02,\n",
              "        -1.31634444e-01, -1.37905404e-02,  2.03978252e-02, -2.17953816e-01,\n",
              "        -1.03350380e-03,  5.84547734e-03, -1.78325221e-01,  9.83424410e-02,\n",
              "        -3.47090274e-01,  2.44122818e-02,  6.80374876e-02,  2.27812007e-01,\n",
              "         3.04353684e-01, -1.78750400e-02, -2.09303185e-01,  9.98637546e-03,\n",
              "         3.38316977e-01,  4.62503266e-03,  1.21795669e-01,  2.57897735e-01,\n",
              "         3.94473851e-01,  1.23850085e-01,  1.41097948e-01,  5.29155843e-02,\n",
              "         2.66261786e-01,  3.66294868e-02,  3.04696590e-01,  2.89372712e-01],\n",
              "       dtype=float32)>,\n",
              " <tf.Variable 'dense_layer_2/kernel:0' shape=(512, 512) dtype=float32, numpy=\n",
              " array([[ 0.09475893,  0.02762237,  0.03703738, ..., -0.00319719,\n",
              "         -0.00746529, -0.06873299],\n",
              "        [-0.06779999, -0.0350784 , -0.14887777, ...,  0.00992979,\n",
              "          0.05417721,  0.08781918],\n",
              "        [-0.01130781, -0.05831772,  0.13017546, ...,  0.0425078 ,\n",
              "         -0.04665873,  0.12506893],\n",
              "        ...,\n",
              "        [-0.18544182, -0.09381048, -0.15251723, ...,  0.21546827,\n",
              "         -0.14714777,  0.02305728],\n",
              "        [-0.00958111, -0.22270192, -0.08791132, ...,  0.02092662,\n",
              "          0.01854217,  0.4348882 ],\n",
              "        [ 0.00730286,  0.00781422,  0.08387819, ...,  0.2667449 ,\n",
              "          0.00545801, -0.10097522]], dtype=float32)>,\n",
              " <tf.Variable 'dense_layer_2/bias:0' shape=(512,) dtype=float32, numpy=\n",
              " array([ 0.26261964,  0.21027823, -0.12512545,  0.12433469,  0.17928064,\n",
              "         0.0549605 , -0.0999767 ,  0.04315499, -0.14470188, -0.06468668,\n",
              "        -0.17772232,  0.00717061, -0.03218758, -0.09583459, -0.23532158,\n",
              "        -0.2422997 ,  0.16257422,  0.20357624,  0.40278608,  0.09644104,\n",
              "        -0.02151038,  0.09597123, -0.327063  ,  0.03188398,  0.1538864 ,\n",
              "         0.08105937,  0.2180215 , -0.18588482,  0.18810123,  0.1798858 ,\n",
              "        -0.06995676, -0.04566609, -0.05634754,  0.16063687, -0.19758825,\n",
              "        -0.10436314,  0.20610991,  0.15346502, -0.04055174,  0.2760184 ,\n",
              "         0.21328111, -0.13613   , -0.2386744 , -0.27699193, -0.09542602,\n",
              "        -0.1309961 , -0.18085705, -0.08117085, -0.35893947,  0.2906558 ,\n",
              "        -0.04727694, -0.3428739 , -0.00126759, -0.02460968,  0.17409684,\n",
              "        -0.20554775, -0.31323162, -0.12080624,  0.13130102, -0.23322928,\n",
              "         0.04619641,  0.03228139, -0.06414212, -0.01523914,  0.25873312,\n",
              "        -0.04169994, -0.05318784,  0.16087583, -0.08757266,  0.10458343,\n",
              "         0.21810603, -0.08323461,  0.07959723,  0.084999  , -0.05755385,\n",
              "        -0.2628667 , -0.31381667,  0.00431241, -0.27199438,  0.12305863,\n",
              "         0.09720635,  0.08529533, -0.1291787 ,  0.10534301,  0.19665316,\n",
              "         0.30530074,  0.12625487, -0.29635507,  0.06469642,  0.1410894 ,\n",
              "         0.09471358,  0.12123764, -0.10716583,  0.25320563, -0.11298783,\n",
              "         0.17988595,  0.00087797,  0.02990565, -0.11325787, -0.01960162,\n",
              "         0.15373367,  0.2142319 ,  0.27581173, -0.14711463,  0.26185423,\n",
              "        -0.02427375, -0.03821767,  0.06586181, -0.39811525, -0.00748315,\n",
              "        -0.4240904 , -0.16454394,  0.01815069,  0.08343522, -0.00164171,\n",
              "        -0.13387571, -0.02497328,  0.01316329, -0.12374927,  0.28013825,\n",
              "        -0.08527928, -0.30606827, -0.23579928, -0.19378544,  0.13097921,\n",
              "         0.15067533,  0.16253228, -0.30973464,  0.10497086,  0.17431119,\n",
              "        -0.19559881, -0.13185398, -0.21239662, -0.1446615 ,  0.2004066 ,\n",
              "         0.10617324, -0.33683056, -0.09581275,  0.20493172, -0.08109462,\n",
              "        -0.2468416 , -0.37837926,  0.06624006, -0.06555566, -0.09013308,\n",
              "         0.10182419, -0.17898427, -0.44175923, -0.071413  , -0.14029862,\n",
              "        -0.18380682,  0.01470903, -0.20232065, -0.16526513, -0.04096402,\n",
              "         0.13578194, -0.07253829,  0.22359009,  0.09560467, -0.3031682 ,\n",
              "         0.19465727,  0.19673833,  0.17189457,  0.00221184,  0.11086204,\n",
              "         0.17471486, -0.12008263,  0.31714725, -0.09460817, -0.10918328,\n",
              "        -0.07945368, -0.25354552, -0.3454296 , -0.09321854, -0.23246522,\n",
              "        -0.16415793, -0.04803416, -0.07383799, -0.02540681, -0.19085342,\n",
              "         0.05623448,  0.07514472, -0.11287596, -0.41976386, -0.07674745,\n",
              "         0.09797705, -0.12901656, -0.06906316, -0.1362428 ,  0.16619068,\n",
              "         0.35282174, -0.02632575,  0.3019212 , -0.0347652 , -0.1100674 ,\n",
              "         0.15129343,  0.1069041 , -0.1665869 ,  0.2988014 ,  0.1490016 ,\n",
              "         0.25309506, -0.05976745,  0.00193375,  0.02294375,  0.05232508,\n",
              "        -0.25653735,  0.19438721,  0.22630593,  0.13951255,  0.36498386,\n",
              "        -0.25408617, -0.07828616, -0.06557794, -0.05196923, -0.30736572,\n",
              "         0.02388297,  0.19703789, -0.25072688,  0.27712423, -0.13232037,\n",
              "        -0.22058417,  0.10915371,  0.08130582, -0.06702892,  0.23122178,\n",
              "         0.19128466, -0.03317172, -0.07731462,  0.05538728, -0.03282065,\n",
              "         0.06289854,  0.0864329 ,  0.0400692 , -0.16363698, -0.03141449,\n",
              "        -0.02723362,  0.14948344, -0.11148206,  0.02231051,  0.0290844 ,\n",
              "        -0.10515561,  0.17302491,  0.11249306, -0.301795  , -0.3629758 ,\n",
              "        -0.2031347 , -0.39636737, -0.02396978,  0.14441457,  0.05561345,\n",
              "         0.17650776, -0.10102739, -0.10712818,  0.23665076, -0.16085832,\n",
              "        -0.13317819, -0.02971402, -0.05242654, -0.1154972 ,  0.17202263,\n",
              "        -0.31983882, -0.18854788, -0.24563594, -0.03416777,  0.23750046,\n",
              "         0.25286096, -0.35812122,  0.00975895,  0.25557896,  0.11585972,\n",
              "        -0.12975034,  0.03772866,  0.01578478, -0.03607498, -0.46162537,\n",
              "        -0.09629308, -0.08619618, -0.23034288, -0.00283985, -0.31756335,\n",
              "        -0.03547933,  0.17691591, -0.16525233, -0.04299409,  0.11270493,\n",
              "        -0.07044668, -0.12673616,  0.10017326, -0.01437854, -0.00433594,\n",
              "         0.27183247,  0.13480754,  0.13238336, -0.1812758 , -0.19675717,\n",
              "         0.22312471, -0.07571702,  0.10403833, -0.29878172, -0.1898801 ,\n",
              "         0.1316121 , -0.09549253, -0.0658245 , -0.20555207,  0.02626927,\n",
              "         0.3670122 , -0.14027886, -0.13873415,  0.10146296,  0.08935901,\n",
              "        -0.25542006, -0.35058895,  0.02051726, -0.10174688, -0.14361489,\n",
              "         0.15401445,  0.06241759, -0.06264817, -0.21504727,  0.12198684,\n",
              "         0.16738494,  0.02550225, -0.2033124 , -0.2955127 , -0.07703679,\n",
              "         0.13340575, -0.20456192,  0.04090017, -0.05434602, -0.12682842,\n",
              "        -0.05124693,  0.03618549,  0.07436286, -0.3102525 ,  0.22643903,\n",
              "        -0.18642697, -0.09321464,  0.24282649,  0.13023312,  0.18022852,\n",
              "        -0.10938478, -0.07917538, -0.1330609 ,  0.29878232, -0.18337128,\n",
              "        -0.07325467, -0.0295917 , -0.10197142, -0.13842101, -0.24841753,\n",
              "         0.06373523,  0.16680814, -0.00078578, -0.12342184, -0.09424812,\n",
              "         0.20771623,  0.33476642, -0.10226129, -0.31774712, -0.0701618 ,\n",
              "         0.01321051,  0.01957646,  0.05033428,  0.03739675, -0.05597742,\n",
              "        -0.09485874,  0.08487619,  0.09593375, -0.010416  , -0.16476087,\n",
              "        -0.10510118, -0.15686339, -0.0695067 , -0.18379577,  0.33821413,\n",
              "        -0.24032484, -0.10471548, -0.24940667, -0.17821857, -0.11912128,\n",
              "        -0.18616013,  0.22268395, -0.26300153, -0.17283878, -0.33974886,\n",
              "        -0.04524492,  0.05173768,  0.11568641, -0.2530478 , -0.01615803,\n",
              "         0.11741855,  0.21465944, -0.09106507,  0.19710788,  0.15406024,\n",
              "         0.03576151, -0.02149091, -0.32555026,  0.019118  ,  0.28455436,\n",
              "         0.26247433, -0.14137273,  0.03379746,  0.22375952, -0.20510675,\n",
              "         0.13229255, -0.06054221, -0.13420178,  0.01784756, -0.21264613,\n",
              "        -0.18360595,  0.16716819, -0.10386823, -0.15385419,  0.19756187,\n",
              "         0.2100121 , -0.21551377,  0.15225424,  0.06341702, -0.2507017 ,\n",
              "        -0.33734483,  0.00246694,  0.18603954, -0.33951285, -0.02525219,\n",
              "        -0.07113404,  0.1981503 , -0.07427463,  0.08014507,  0.14778951,\n",
              "        -0.15068908,  0.03241891,  0.20221908, -0.06232219,  0.29351506,\n",
              "         0.07461907, -0.01518455, -0.02506002, -0.04948718, -0.23641573,\n",
              "         0.09730663, -0.2187237 ,  0.02057005, -0.05327944, -0.26788554,\n",
              "        -0.0815746 ,  0.1886732 ,  0.25469482, -0.24865842,  0.20132394,\n",
              "         0.0526655 , -0.169708  ,  0.2636936 , -0.07954251, -0.17260672,\n",
              "        -0.23213239, -0.13852027,  0.29132515, -0.12341879, -0.12745199,\n",
              "        -0.06194554,  0.15917942, -0.16501799, -0.27426535,  0.01276946,\n",
              "         0.11941091,  0.11641835, -0.23941524,  0.46744707, -0.03791837,\n",
              "        -0.05310407,  0.17581454,  0.2356587 ,  0.00877732,  0.14933996,\n",
              "         0.06345686, -0.0151408 , -0.21621914,  0.01152758, -0.15346381,\n",
              "         0.20987871,  0.14072505, -0.22664875, -0.06823616, -0.15699911,\n",
              "        -0.04774841, -0.27749607,  0.01789602,  0.1777144 , -0.26708856,\n",
              "        -0.15876162, -0.3103045 , -0.11186314, -0.16536957,  0.22757272,\n",
              "        -0.2556938 , -0.1887996 , -0.31396574, -0.44935852,  0.2886788 ,\n",
              "        -0.10755919, -0.02260707, -0.21050628, -0.04729953, -0.05989164,\n",
              "        -0.36168715,  0.01235515, -0.39631066, -0.3657489 , -0.18699434,\n",
              "        -0.01029623, -0.28398636], dtype=float32)>,\n",
              " <tf.Variable 'dense_layer_3/kernel:0' shape=(512, 512) dtype=float32, numpy=\n",
              " array([[ 0.02486775, -0.00944726, -0.17679614, ..., -0.30845845,\n",
              "         -0.24412043,  0.03021727],\n",
              "        [-0.12829371, -0.25612658, -0.01804896, ...,  0.10278513,\n",
              "         -0.23281378, -0.23176095],\n",
              "        [-0.00597112, -0.24659163, -0.02772389, ..., -0.05971121,\n",
              "          0.03761971,  0.05782338],\n",
              "        ...,\n",
              "        [ 0.12896307,  0.13872859,  0.10814105, ..., -0.07464582,\n",
              "          0.22312936, -0.11896712],\n",
              "        [-0.0604592 , -0.03009838, -0.15103285, ...,  0.07605024,\n",
              "          0.05153826,  0.12618315],\n",
              "        [ 0.06873712, -0.29077378,  0.11013596, ...,  0.01405048,\n",
              "         -0.15192005, -0.23159292]], dtype=float32)>,\n",
              " <tf.Variable 'dense_layer_3/bias:0' shape=(512,) dtype=float32, numpy=\n",
              " array([-3.02018207e-02, -1.04187481e-01, -1.04853511e-02, -2.15439320e-01,\n",
              "         7.54366145e-02, -1.65884122e-01,  6.74373955e-02,  2.72488743e-01,\n",
              "        -1.16079636e-01, -2.88181193e-02, -3.41702551e-02, -1.08660376e-02,\n",
              "         2.79670328e-01,  2.68584877e-01,  2.99310863e-01,  3.04809332e-01,\n",
              "         2.34306917e-01, -2.38610446e-01, -2.69760281e-01,  3.49707901e-01,\n",
              "        -2.78769433e-02,  1.07758537e-01, -3.24624300e-01, -3.02517354e-01,\n",
              "         1.17099937e-02,  3.44616503e-01,  3.03383917e-01,  4.87692595e-01,\n",
              "         2.74524093e-01,  1.36585698e-01,  3.28884482e-01,  3.65291946e-02,\n",
              "        -2.21701264e-01,  1.20322004e-01, -9.34484601e-02, -2.09409893e-01,\n",
              "        -5.32380119e-02,  3.52634490e-01,  2.92546332e-01,  2.62648523e-01,\n",
              "        -4.89595123e-02, -1.38788379e-03,  1.68818578e-01, -1.51508421e-01,\n",
              "        -1.18347853e-01,  2.74635613e-01,  1.75393075e-01, -2.35843174e-02,\n",
              "        -7.13462159e-02,  1.47267431e-01, -5.49639501e-02,  3.87504876e-01,\n",
              "         1.78768814e-01,  3.59336197e-01,  4.82472450e-01,  4.16681543e-02,\n",
              "         1.31252766e-01, -1.63556978e-01,  7.20045045e-02, -1.31304517e-01,\n",
              "        -8.64047334e-02, -1.68470845e-01, -2.04628140e-01,  6.88698441e-02,\n",
              "         1.55606763e-02, -1.18839331e-01, -6.09945245e-02,  1.40023530e-01,\n",
              "        -1.11583732e-02, -7.40115866e-02,  3.79824877e-01, -1.40023977e-01,\n",
              "         3.32440704e-01,  7.71524087e-02,  2.26371273e-01,  3.76367927e-01,\n",
              "        -5.63987494e-02,  2.34132856e-01, -8.78133178e-02,  1.33781552e-01,\n",
              "         2.43509561e-01,  2.48300105e-01, -1.31658111e-02,  4.02970999e-01,\n",
              "         2.00013176e-01,  7.85457492e-02,  2.55167723e-01,  2.73286134e-01,\n",
              "        -2.57051438e-01,  3.61566037e-01,  3.03277940e-01, -5.13526499e-02,\n",
              "         1.40697695e-02,  4.03532505e-01, -2.39015788e-01, -1.34882212e-01,\n",
              "         3.15575391e-01,  3.70753199e-01,  3.65045488e-01,  8.47151354e-02,\n",
              "        -2.41826870e-03,  1.35285899e-01,  1.31269470e-01,  1.46181345e-01,\n",
              "         1.42099217e-01,  4.28645052e-02,  9.33495164e-02,  1.24934949e-01,\n",
              "         1.93077654e-01, -1.90592706e-02, -1.30607486e-01, -2.75032949e-02,\n",
              "         1.11018889e-01,  1.59123689e-01,  3.44649941e-01,  2.54410774e-01,\n",
              "         4.96883951e-02,  3.49048451e-02, -2.53732979e-01, -1.90605342e-01,\n",
              "        -7.89343342e-02,  3.28453511e-01,  2.69721657e-01,  3.12390804e-01,\n",
              "         1.76056132e-01,  4.94062975e-02, -8.22924525e-02,  3.48356903e-01,\n",
              "        -1.26120159e-02,  1.91409215e-01,  9.24299583e-02,  1.07791610e-01,\n",
              "         9.05626193e-02,  4.47362289e-02, -6.82323100e-03,  9.31513160e-02,\n",
              "         9.42126065e-02,  1.31668627e-01,  3.35452527e-01,  7.63738975e-02,\n",
              "        -2.82966971e-01, -1.13198526e-01,  2.28188083e-01, -2.61414319e-01,\n",
              "         1.17002405e-01, -3.54023635e-01, -1.39489993e-01,  3.66508484e-01,\n",
              "         2.89017767e-01,  1.66705072e-01,  1.40269339e-01, -1.58350259e-01,\n",
              "         2.96819568e-01, -1.59695104e-01, -3.95217799e-02, -9.06302705e-02,\n",
              "        -1.01007655e-01,  1.24723800e-02,  1.27864452e-02, -2.64800370e-01,\n",
              "         4.66736287e-01,  3.47283930e-01, -2.73270011e-01, -9.38361213e-02,\n",
              "         3.28865618e-01,  2.46368095e-01,  3.04192156e-01, -3.52187417e-02,\n",
              "         9.99789983e-02, -9.98708010e-02,  1.75124913e-01,  1.55486614e-01,\n",
              "        -1.33006975e-01, -2.91126311e-01, -3.68376449e-02,  2.68112808e-01,\n",
              "        -2.82290012e-01, -1.91509888e-01,  2.33797491e-01, -1.96051002e-01,\n",
              "        -1.79951284e-02, -1.64703101e-01, -1.86587106e-02,  2.92952120e-01,\n",
              "         7.96394795e-02,  2.11349756e-01,  7.63363168e-02, -1.30223379e-01,\n",
              "         2.81700432e-01, -2.69217730e-01, -5.93309989e-03, -3.41702402e-01,\n",
              "         3.64121884e-01,  2.10840568e-01, -1.85448200e-01, -9.39849094e-02,\n",
              "        -8.19455087e-02,  1.04109421e-01, -1.92357525e-01,  9.99367610e-02,\n",
              "         2.68382639e-01,  3.65340859e-01,  5.08909784e-02,  2.76879936e-01,\n",
              "         1.98174447e-01,  3.11119318e-01,  3.84808958e-01,  1.02060422e-01,\n",
              "        -1.22050093e-02,  1.16239905e-01,  3.44380021e-01,  1.84110180e-01,\n",
              "        -3.54702845e-02,  2.15741947e-01,  3.09628755e-01,  4.51448113e-01,\n",
              "        -2.38408688e-02, -4.07366715e-02,  3.15523148e-01,  3.22229147e-01,\n",
              "         4.07358766e-01, -7.07132695e-03,  5.68857454e-02,  3.12465262e-02,\n",
              "         2.13556990e-01,  3.31148177e-01,  5.28117716e-01,  1.49933293e-01,\n",
              "         7.86094517e-02, -5.45141613e-03,  1.09675981e-01, -2.00495407e-01,\n",
              "         7.69362273e-03,  2.27914438e-01, -1.47584483e-01,  8.94330516e-02,\n",
              "         4.43969786e-01,  2.70703822e-01, -1.42539358e-02,  2.96140444e-02,\n",
              "        -3.39649111e-01, -8.46618265e-02,  2.92290062e-01,  2.79964119e-01,\n",
              "         1.59234196e-01,  5.30272610e-02,  3.35307479e-01,  1.71091445e-02,\n",
              "         4.76549417e-02, -4.92148176e-02, -8.45059082e-02, -7.51232877e-02,\n",
              "        -1.01383448e-01,  4.88180965e-02,  1.39837712e-01,  1.39281362e-01,\n",
              "        -2.29457438e-01, -5.41076437e-03,  2.01920494e-01,  2.94270754e-01,\n",
              "         6.80591017e-02, -2.89100796e-01,  1.37257710e-01,  2.84320801e-01,\n",
              "        -3.31766784e-01,  2.77813941e-01, -5.78086749e-02,  1.18049942e-02,\n",
              "         1.02191232e-01,  2.54044890e-01, -5.45407720e-02,  2.54234970e-01,\n",
              "         1.35020018e-01,  2.28545159e-01,  1.01696447e-01, -1.48049220e-01,\n",
              "         1.42082170e-01,  4.12663445e-03,  7.63243511e-02,  3.17295194e-01,\n",
              "         2.93649912e-01, -1.49086446e-01, -1.45415422e-02, -3.95787461e-03,\n",
              "        -5.12040332e-02, -1.16719671e-01, -1.53291136e-01,  2.02212021e-01,\n",
              "         3.92656654e-01,  1.89189300e-01,  3.34813923e-01, -1.71908036e-01,\n",
              "         3.29913557e-01, -1.55848518e-01,  9.20695588e-02,  1.94560006e-01,\n",
              "        -2.09897667e-01, -2.82942355e-01,  1.47237588e-04, -2.13710651e-01,\n",
              "        -1.84894741e-01,  7.29855895e-02,  3.87985468e-01,  3.34045678e-01,\n",
              "        -6.95653483e-02,  2.17190549e-01,  8.24922845e-02,  1.68813571e-01,\n",
              "        -1.75912365e-01,  1.35187685e-01,  3.85069042e-01, -1.68546751e-01,\n",
              "         2.58737266e-01,  4.99182612e-01,  2.99104750e-01,  3.92559648e-01,\n",
              "         2.57390827e-01, -1.23996250e-01,  4.08371270e-01,  2.13831872e-01,\n",
              "         4.10465568e-01, -1.33377582e-01, -1.63219571e-02, -2.71551937e-01,\n",
              "         1.02808528e-01,  1.44891396e-01,  2.21411288e-01,  3.07014763e-01,\n",
              "         3.58556248e-02, -1.36693940e-01, -7.32332915e-02,  3.82386208e-01,\n",
              "         1.77012593e-01, -1.08209133e-01, -1.37784079e-01,  3.57115954e-01,\n",
              "         1.53628036e-01, -1.98740885e-01, -1.52055666e-01,  2.31021598e-01,\n",
              "        -2.20934570e-01, -3.28814313e-02,  3.02077115e-01,  1.78593859e-01,\n",
              "         4.08882573e-02,  3.10560882e-01,  2.33484343e-01, -1.45680249e-01,\n",
              "         5.30057251e-02,  1.10549830e-01,  1.03281334e-01, -2.34166086e-01,\n",
              "         2.23965749e-01,  1.93401441e-01,  2.07915604e-01,  3.66958886e-01,\n",
              "         2.01182485e-01, -1.94041088e-01,  2.44944587e-01, -5.38371801e-02,\n",
              "         7.54713565e-02, -1.25677839e-01, -4.89392178e-03, -2.92921156e-01,\n",
              "         5.85262001e-01,  3.22812885e-01,  2.55148947e-01,  2.14549884e-01,\n",
              "         8.66772681e-02, -2.15198547e-01, -3.55397075e-01,  2.48352811e-01,\n",
              "        -2.45907798e-01,  1.31579965e-01, -1.15099892e-01,  2.81067461e-01,\n",
              "        -9.61947218e-02, -2.31414348e-01,  3.46562862e-01,  2.60088235e-01,\n",
              "        -1.01495251e-01,  2.71828979e-01,  6.77672327e-02,  1.03519810e-02,\n",
              "        -2.04703167e-01, -7.29121864e-02, -2.95979287e-02,  9.61591303e-02,\n",
              "         2.22895816e-01, -2.44270787e-01, -1.38459399e-01,  4.23928112e-01,\n",
              "        -2.71816969e-01,  3.45013350e-01, -2.56863981e-01, -1.21696845e-01,\n",
              "        -1.65754735e-01,  5.76475970e-02,  1.45232320e-01, -6.62813783e-02,\n",
              "        -1.05567962e-01, -1.86829358e-01,  1.77700818e-01, -2.53940165e-01,\n",
              "         2.40754336e-01, -2.67375916e-01,  1.83948621e-01,  3.63994658e-01,\n",
              "         3.07998270e-01,  3.32582504e-01,  1.99273795e-01, -8.39468390e-02,\n",
              "        -2.76633888e-01,  2.46202677e-01, -5.32441996e-02, -3.19816679e-01,\n",
              "        -2.11012483e-01,  1.66060388e-01, -2.33970955e-01, -3.87027077e-02,\n",
              "        -1.69788003e-01,  2.40955725e-01,  1.99297369e-01,  2.16681138e-01,\n",
              "         2.48422995e-01, -2.49472171e-01,  1.81061223e-01,  2.92656422e-01,\n",
              "        -3.20947379e-01, -1.24828987e-01, -8.51116776e-02,  2.14211605e-02,\n",
              "        -4.03790511e-02,  1.00905620e-01, -8.06480795e-02, -2.00875536e-01,\n",
              "         1.24482244e-01,  4.26846892e-01,  3.21365803e-01,  2.09680423e-01,\n",
              "        -7.51554966e-02, -1.81572847e-02,  3.05168688e-01,  5.32951236e-01,\n",
              "         3.19316894e-01,  4.49853912e-02, -1.11901492e-01, -9.81121808e-02,\n",
              "         4.30317730e-01,  2.94036716e-01,  3.80547941e-01, -3.15292358e-01,\n",
              "         1.62836164e-01,  4.88575958e-02,  5.07940948e-02,  1.71383411e-01,\n",
              "         2.68535167e-01,  7.12216925e-03, -1.18740968e-01,  3.92652042e-02,\n",
              "         6.82744831e-02,  5.89475315e-03,  3.56244713e-01,  2.22379640e-01,\n",
              "         4.53671888e-02, -2.20176294e-01,  2.98798651e-01, -1.12752847e-01,\n",
              "         2.28556339e-03, -6.59097284e-02, -1.94364056e-01,  1.01373896e-01,\n",
              "        -1.69866189e-01,  1.04006350e-01,  2.68849730e-01,  4.04143006e-01,\n",
              "         1.55605033e-01,  4.15141881e-01, -1.69667989e-01,  3.84255081e-01,\n",
              "        -4.12587076e-01,  1.74324438e-01, -2.88904279e-01,  3.94845068e-01,\n",
              "         1.96974099e-01,  3.16899151e-01,  1.93189025e-01,  1.54806878e-02,\n",
              "         1.72663152e-01, -8.62923637e-02, -1.23602822e-01, -9.99136940e-02,\n",
              "        -1.67810634e-01, -6.42867088e-02, -1.19642831e-01,  5.02508640e-01,\n",
              "        -1.07932128e-01,  3.42080474e-01, -1.95952535e-01,  1.21038571e-01,\n",
              "         5.90772517e-02, -8.80041495e-02,  2.18390629e-01,  1.55127019e-01,\n",
              "         2.75018513e-01,  7.51455501e-02,  8.53168517e-02, -7.79588819e-02,\n",
              "        -3.11568886e-01,  1.75699964e-01,  2.75178045e-01,  4.28393520e-02],\n",
              "       dtype=float32)>,\n",
              " <tf.Variable 'dense_layer_4/kernel:0' shape=(512, 10) dtype=float32, numpy=\n",
              " array([[-0.00568298, -0.01124409, -0.08611733, ..., -0.02165716,\n",
              "         -0.01147234,  0.08293363],\n",
              "        [ 0.04177925, -0.2876513 ,  0.03001661, ..., -0.0389443 ,\n",
              "          0.01111883,  0.01557548],\n",
              "        [ 0.02264215, -0.09342133, -0.12653783, ..., -0.05701654,\n",
              "         -0.04797211,  0.0700937 ],\n",
              "        ...,\n",
              "        [-0.14696981,  0.01879782,  0.00908957, ...,  0.10137744,\n",
              "         -0.09096146, -0.04420543],\n",
              "        [-0.00656924, -0.13338518,  0.06343665, ..., -0.00881985,\n",
              "         -0.20325238, -0.08864123],\n",
              "        [-0.06621207, -0.14873178, -0.06820088, ..., -0.02594353,\n",
              "         -0.01258877, -0.21017914]], dtype=float32)>,\n",
              " <tf.Variable 'dense_layer_4/bias:0' shape=(10,) dtype=float32, numpy=\n",
              " array([-0.08492611, -0.5032916 ,  0.07652337,  0.25343472,  0.02176273,\n",
              "        -0.11719078, -0.06399962,  0.18476531,  0.09020949, -0.15076503],\n",
              "       dtype=float32)>]"
            ]
          },
          "metadata": {
            "tags": []
          },
          "execution_count": 60
        }
      ]
    },
    {
      "cell_type": "code",
      "metadata": {
        "id": "V5lg_PNsi041",
        "outputId": "f6fdccc6-14a5-4d77-9f9a-08089576654f",
        "colab": {
          "base_uri": "https://localhost:8080/"
        }
      },
      "source": [
        "model_6.get_config()"
      ],
      "execution_count": 61,
      "outputs": [
        {
          "output_type": "execute_result",
          "data": {
            "text/plain": [
              "{'layers': [{'class_name': 'InputLayer',\n",
              "   'config': {'batch_input_shape': (None, 784),\n",
              "    'dtype': 'float32',\n",
              "    'name': 'dense_layer_input',\n",
              "    'ragged': False,\n",
              "    'sparse': False}},\n",
              "  {'class_name': 'Dense',\n",
              "   'config': {'activation': 'relu',\n",
              "    'activity_regularizer': None,\n",
              "    'batch_input_shape': (None, 784),\n",
              "    'bias_constraint': None,\n",
              "    'bias_initializer': {'class_name': 'Zeros', 'config': {}},\n",
              "    'bias_regularizer': None,\n",
              "    'dtype': 'float32',\n",
              "    'kernel_constraint': None,\n",
              "    'kernel_initializer': {'class_name': 'GlorotUniform',\n",
              "     'config': {'seed': None}},\n",
              "    'kernel_regularizer': None,\n",
              "    'name': 'dense_layer',\n",
              "    'trainable': True,\n",
              "    'units': 512,\n",
              "    'use_bias': True}},\n",
              "  {'class_name': 'Dropout',\n",
              "   'config': {'dtype': 'float32',\n",
              "    'name': 'dropout_8',\n",
              "    'noise_shape': None,\n",
              "    'rate': 0.3,\n",
              "    'seed': None,\n",
              "    'trainable': True}},\n",
              "  {'class_name': 'Dense',\n",
              "   'config': {'activation': 'relu',\n",
              "    'activity_regularizer': None,\n",
              "    'bias_constraint': None,\n",
              "    'bias_initializer': {'class_name': 'Zeros', 'config': {}},\n",
              "    'bias_regularizer': None,\n",
              "    'dtype': 'float32',\n",
              "    'kernel_constraint': None,\n",
              "    'kernel_initializer': {'class_name': 'GlorotUniform',\n",
              "     'config': {'seed': None}},\n",
              "    'kernel_regularizer': None,\n",
              "    'name': 'dense_layer_2',\n",
              "    'trainable': True,\n",
              "    'units': 512,\n",
              "    'use_bias': True}},\n",
              "  {'class_name': 'Dropout',\n",
              "   'config': {'dtype': 'float32',\n",
              "    'name': 'dropout_9',\n",
              "    'noise_shape': None,\n",
              "    'rate': 0.3,\n",
              "    'seed': None,\n",
              "    'trainable': True}},\n",
              "  {'class_name': 'Dense',\n",
              "   'config': {'activation': 'relu',\n",
              "    'activity_regularizer': None,\n",
              "    'bias_constraint': None,\n",
              "    'bias_initializer': {'class_name': 'Zeros', 'config': {}},\n",
              "    'bias_regularizer': None,\n",
              "    'dtype': 'float32',\n",
              "    'kernel_constraint': None,\n",
              "    'kernel_initializer': {'class_name': 'GlorotUniform',\n",
              "     'config': {'seed': None}},\n",
              "    'kernel_regularizer': None,\n",
              "    'name': 'dense_layer_3',\n",
              "    'trainable': True,\n",
              "    'units': 512,\n",
              "    'use_bias': True}},\n",
              "  {'class_name': 'Dropout',\n",
              "   'config': {'dtype': 'float32',\n",
              "    'name': 'dropout_10',\n",
              "    'noise_shape': None,\n",
              "    'rate': 0.3,\n",
              "    'seed': None,\n",
              "    'trainable': True}},\n",
              "  {'class_name': 'Dense',\n",
              "   'config': {'activation': 'softmax',\n",
              "    'activity_regularizer': None,\n",
              "    'bias_constraint': None,\n",
              "    'bias_initializer': {'class_name': 'Zeros', 'config': {}},\n",
              "    'bias_regularizer': None,\n",
              "    'dtype': 'float32',\n",
              "    'kernel_constraint': None,\n",
              "    'kernel_initializer': {'class_name': 'GlorotUniform',\n",
              "     'config': {'seed': None}},\n",
              "    'kernel_regularizer': None,\n",
              "    'name': 'dense_layer_4',\n",
              "    'trainable': True,\n",
              "    'units': 10,\n",
              "    'use_bias': True}}],\n",
              " 'name': 'sequential_6'}"
            ]
          },
          "metadata": {
            "tags": []
          },
          "execution_count": 61
        }
      ]
    },
    {
      "cell_type": "markdown",
      "metadata": {
        "id": "X6UHyrSERqid"
      },
      "source": [
        "# DIY: Assignment"
      ]
    },
    {
      "cell_type": "markdown",
      "metadata": {
        "id": "kYZ5DXBNLQAn"
      },
      "source": [
        "####**Total Marks: 50**\n",
        "**Duration: 6 days**\n",
        "\n",
        "As a part of this assignment following are the list of task that may help  improve your skills with TensorFlow. It is important to get hands-on experience with TensorFlow in order to learn how to use it properly.\n",
        "\n",
        "You may want to backup this Notebook before making any changes."
      ]
    },
    {
      "cell_type": "markdown",
      "metadata": {
        "id": "hQTkURqTLcAy"
      },
      "source": [
        "\n",
        "###**`.ipynb file 1`** "
      ]
    },
    {
      "cell_type": "markdown",
      "metadata": {
        "id": "CU19hqX55J7h"
      },
      "source": [
        "\n",
        "**Marks: 10**\n",
        "- Do you get the exact same results if you run the Notebook multiple times without changing any parameters?\n",
        "\n",
        "> Yes, without changing the parameters, I get the same results.\n",
        "\n",
        "\n",
        "- What is the effect of adding more neurons to each hidden layer?\n",
        "\n",
        "> Over the epochs, the accuracy on the test data increases by 1% but the loss is minimized faster and remains fairly constant as accuracy increases in Model 4 (hidden layer with more neurons). In Model 1, the loss  is minimized rapidly as accuracy increases on Model 1 (hidden layer with less neurons).\n",
        "\n",
        "> Also, the accuracy on the training set is higher than the test set for both Model 1 and 4. The loss is minimized more for the training set than the test set for both models over the epochs. This indicates that the model is overfitting the data.\n",
        "\n",
        "- What happens if we manipulate the value of dropout?\n",
        "\n",
        "> The accuracy on the testing set is now higher than the training set and the loss is minimized on the testing set relative to the training set, indicating that there is no overfitting.\n",
        "\n",
        "\n",
        "- What is the effect of adding more hidden layer to the network?\n",
        "\n",
        "> There is no minimization of loss over the epochs and accuracy is better on the training data compared to the testing data, indicating overfitting.\n",
        "\n",
        "- What is the accuracy score if we use RMSprop for model 6?\n",
        "\n",
        "> Accuracy score is 0.9848 if RMSprop is used as the optimizer compared to Adam (accuracy: 0.9842). In this case, the loss grows over the epochs for the test data.\n",
        "\n",
        "\n",
        "- Does manipulating the learning rate affect the model? Justify your answer.\n",
        "\n",
        "> Yes. Adjusting the learning rate causes the weights and biases to be adjusted which will affect the model accuracy, overfitting and speed.\n",
        "\n",
        "- What is the best parameter configuration for this project?\n",
        "\n",
        "> Model 6 parameters result in the best model. \n",
        "\n",
        "\n",
        "\n"
      ]
    },
    {
      "cell_type": "markdown",
      "metadata": {
        "id": "LFY6t7nLLukS"
      },
      "source": [
        "###**`.ipynb file 2`** \n"
      ]
    },
    {
      "cell_type": "code",
      "metadata": {
        "id": "huPWzvj-Pd8b",
        "outputId": "1023b7f2-ddb2-48aa-8fa3-9c78b288ac95",
        "colab": {
          "base_uri": "https://localhost:8080/"
        }
      },
      "source": [
        "import tensorflow as tf\n",
        "from tensorflow import keras \n",
        "\n",
        "# Loading MNIST dataset\n",
        "mnist = keras.datasets.mnist \n",
        "(X_train, Y_train), (X_test, Y_test) = mnist.load_data()\n",
        "\n",
        "X_train.shape, X_test.shape"
      ],
      "execution_count": 17,
      "outputs": [
        {
          "output_type": "execute_result",
          "data": {
            "text/plain": [
              "((60000, 28, 28), (10000, 28, 28))"
            ]
          },
          "metadata": {
            "tags": []
          },
          "execution_count": 17
        }
      ]
    },
    {
      "cell_type": "code",
      "metadata": {
        "id": "7fkgi-GxQP6z"
      },
      "source": [
        "X_train = X_train.astype('float32')\n",
        "X_test = X_test.astype('float32') "
      ],
      "execution_count": 18,
      "outputs": []
    },
    {
      "cell_type": "code",
      "metadata": {
        "id": "f5STGctkPtO1",
        "outputId": "2729de67-7230-4193-b9e0-d830b5deeafb",
        "colab": {
          "base_uri": "https://localhost:8080/"
        }
      },
      "source": [
        "# X_train is 60000 rows of 28x28 values; we reshape it to # 60000 x 784. \n",
        "RESHAPED = 784 # 28x28 = 784 neurons\n",
        "X_train = X_train.reshape(60000, RESHAPED) \n",
        "X_test = X_test.reshape(10000, RESHAPED) \n",
        "\n",
        "# Data is converted into float32 to use 32-bit precision # when training a neural network \n",
        "X_train = X_train.astype('float32')\n",
        "X_test = X_test.astype('float32') \n",
        "\n",
        "# Normalizing the input to be within the range [0,1]\n",
        "X_train /= 255\n",
        "#intensity of each pixel is divided by 255, the maximum intensity value\n",
        "X_test /= 255\n",
        "print(X_train.shape[0], 'train samples') \n",
        "print(X_test.shape[0], 'test samples') \n",
        "\n",
        "# One-hot representation of the labels.\n",
        "Y_train = tf.keras.utils.to_categorical(Y_train, 10) \n",
        "Y_test = tf.keras.utils.to_categorical(Y_test, 10)\n"
      ],
      "execution_count": 19,
      "outputs": [
        {
          "output_type": "stream",
          "text": [
            "60000 train samples\n",
            "10000 test samples\n"
          ],
          "name": "stdout"
        }
      ]
    },
    {
      "cell_type": "code",
      "metadata": {
        "id": "juInVjV45j1L"
      },
      "source": [
        "from tensorflow.keras import Sequential\n",
        "import tensorflow as tf\n",
        "\n",
        "#In Keras, layers are assembled to build models \n",
        "from tensorflow.keras.layers import Dense\n",
        "from tensorflow.keras.layers import Dropout\n",
        "\n",
        "#Most common type of model is a stack of layers\n",
        "model_7 = tf.keras.Sequential()\n",
        "N_hidden = 512\n",
        "\n",
        "# Adds a densely-connected layer with 64 units to the model:\n",
        "model_7.add(Dense(N_hidden, name='dense_layer', input_shape=(784,), activation = 'relu'))\n",
        "# Now the model will take as input arrays of shape (*, 784)# and output arrays of shape (*, 64)\n",
        "model_7.add(Dropout(0.3))\n",
        "\n",
        "# Adding another dense layer:\n",
        "model_7.add(Dense(N_hidden, name='dense_layer_2', activation='relu'))\n",
        "model_7.add(Dropout(0.3))\n",
        "\n",
        "# Adding another dense layer:\n",
        "model_7.add(Dense(N_hidden, name='dense_layer_3', activation='relu'))\n",
        "model_7.add(Dropout(0.3))\n",
        "\n",
        "# Adding another dense layer:\n",
        "model_7.add(Dense(N_hidden, name='dense_layer_4', activation='relu'))\n",
        "model_7.add(Dropout(0.3))\n",
        "\n",
        "# Adding another dense layer:\n",
        "model_7.add(Dense(N_hidden, name='dense_layer_5', activation='relu'))\n",
        "model_7.add(Dropout(0.3))\n",
        "\n",
        "# Adding another dense layer:\n",
        "model_7.add(Dense(N_hidden, name='dense_layer_6', activation='relu'))\n",
        "model_7.add(Dropout(0.3))\n",
        "\n",
        "# Add an output layer with 10 output units (10 different classes):\n",
        "model_7.add(Dense(10, name='dense_layer_7', activation = 'softmax'))"
      ],
      "execution_count": 20,
      "outputs": []
    },
    {
      "cell_type": "code",
      "metadata": {
        "id": "L6zaHNft5twv"
      },
      "source": [
        "# Compiling the model.\n",
        "model_7.compile(optimizer='SGD', \n",
        "              loss='categorical_crossentropy',\n",
        "              metrics=['accuracy'])"
      ],
      "execution_count": 21,
      "outputs": []
    },
    {
      "cell_type": "code",
      "metadata": {
        "id": "KclxQ2Oh5wUU",
        "outputId": "004fe4eb-ed33-4017-d674-b0fda0db4c31",
        "colab": {
          "base_uri": "https://localhost:8080/"
        }
      },
      "source": [
        "# Training the model.\n",
        "training = model_7.fit(X_train, Y_train, batch_size=64, epochs=30, validation_split=0.2) "
      ],
      "execution_count": 22,
      "outputs": [
        {
          "output_type": "stream",
          "text": [
            "Epoch 1/30\n",
            "750/750 [==============================] - 3s 3ms/step - loss: 2.0632 - accuracy: 0.2592 - val_loss: 1.0741 - val_accuracy: 0.6530\n",
            "Epoch 2/30\n",
            "750/750 [==============================] - 3s 3ms/step - loss: 0.9281 - accuracy: 0.6808 - val_loss: 0.4292 - val_accuracy: 0.8714\n",
            "Epoch 3/30\n",
            "750/750 [==============================] - 3s 4ms/step - loss: 0.5556 - accuracy: 0.8251 - val_loss: 0.3004 - val_accuracy: 0.9102\n",
            "Epoch 4/30\n",
            "750/750 [==============================] - 2s 3ms/step - loss: 0.4243 - accuracy: 0.8699 - val_loss: 0.2380 - val_accuracy: 0.9282\n",
            "Epoch 5/30\n",
            "750/750 [==============================] - 2s 3ms/step - loss: 0.3493 - accuracy: 0.8965 - val_loss: 0.2058 - val_accuracy: 0.9384\n",
            "Epoch 6/30\n",
            "750/750 [==============================] - 3s 3ms/step - loss: 0.3006 - accuracy: 0.9095 - val_loss: 0.1792 - val_accuracy: 0.9462\n",
            "Epoch 7/30\n",
            "750/750 [==============================] - 2s 3ms/step - loss: 0.2618 - accuracy: 0.9222 - val_loss: 0.1618 - val_accuracy: 0.9535\n",
            "Epoch 8/30\n",
            "750/750 [==============================] - 2s 3ms/step - loss: 0.2397 - accuracy: 0.9286 - val_loss: 0.1469 - val_accuracy: 0.9567\n",
            "Epoch 9/30\n",
            "750/750 [==============================] - 2s 3ms/step - loss: 0.2143 - accuracy: 0.9369 - val_loss: 0.1376 - val_accuracy: 0.9590\n",
            "Epoch 10/30\n",
            "750/750 [==============================] - 2s 3ms/step - loss: 0.1957 - accuracy: 0.9421 - val_loss: 0.1345 - val_accuracy: 0.9599\n",
            "Epoch 11/30\n",
            "750/750 [==============================] - 2s 3ms/step - loss: 0.1826 - accuracy: 0.9458 - val_loss: 0.1225 - val_accuracy: 0.9639\n",
            "Epoch 12/30\n",
            "750/750 [==============================] - 2s 3ms/step - loss: 0.1696 - accuracy: 0.9498 - val_loss: 0.1190 - val_accuracy: 0.9640\n",
            "Epoch 13/30\n",
            "750/750 [==============================] - 2s 3ms/step - loss: 0.1555 - accuracy: 0.9543 - val_loss: 0.1141 - val_accuracy: 0.9661\n",
            "Epoch 14/30\n",
            "750/750 [==============================] - 2s 3ms/step - loss: 0.1441 - accuracy: 0.9580 - val_loss: 0.1117 - val_accuracy: 0.9670\n",
            "Epoch 15/30\n",
            "750/750 [==============================] - 2s 3ms/step - loss: 0.1401 - accuracy: 0.9589 - val_loss: 0.1081 - val_accuracy: 0.9687\n",
            "Epoch 16/30\n",
            "750/750 [==============================] - 2s 3ms/step - loss: 0.1308 - accuracy: 0.9619 - val_loss: 0.1034 - val_accuracy: 0.9693\n",
            "Epoch 17/30\n",
            "750/750 [==============================] - 2s 3ms/step - loss: 0.1253 - accuracy: 0.9632 - val_loss: 0.1024 - val_accuracy: 0.9710\n",
            "Epoch 18/30\n",
            "750/750 [==============================] - 2s 3ms/step - loss: 0.1186 - accuracy: 0.9645 - val_loss: 0.0983 - val_accuracy: 0.9710\n",
            "Epoch 19/30\n",
            "750/750 [==============================] - 2s 3ms/step - loss: 0.1118 - accuracy: 0.9671 - val_loss: 0.0971 - val_accuracy: 0.9718\n",
            "Epoch 20/30\n",
            "750/750 [==============================] - 2s 3ms/step - loss: 0.1058 - accuracy: 0.9686 - val_loss: 0.0941 - val_accuracy: 0.9728\n",
            "Epoch 21/30\n",
            "750/750 [==============================] - 2s 3ms/step - loss: 0.1027 - accuracy: 0.9703 - val_loss: 0.0951 - val_accuracy: 0.9732\n",
            "Epoch 22/30\n",
            "750/750 [==============================] - 2s 3ms/step - loss: 0.0962 - accuracy: 0.9710 - val_loss: 0.0933 - val_accuracy: 0.9737\n",
            "Epoch 23/30\n",
            "750/750 [==============================] - 2s 3ms/step - loss: 0.0910 - accuracy: 0.9721 - val_loss: 0.0932 - val_accuracy: 0.9743\n",
            "Epoch 24/30\n",
            "750/750 [==============================] - 2s 3ms/step - loss: 0.0868 - accuracy: 0.9742 - val_loss: 0.0901 - val_accuracy: 0.9743\n",
            "Epoch 25/30\n",
            "750/750 [==============================] - 2s 3ms/step - loss: 0.0839 - accuracy: 0.9747 - val_loss: 0.0948 - val_accuracy: 0.9746\n",
            "Epoch 26/30\n",
            "750/750 [==============================] - 2s 3ms/step - loss: 0.0794 - accuracy: 0.9755 - val_loss: 0.0903 - val_accuracy: 0.9757\n",
            "Epoch 27/30\n",
            "750/750 [==============================] - 3s 3ms/step - loss: 0.0747 - accuracy: 0.9776 - val_loss: 0.0920 - val_accuracy: 0.9747\n",
            "Epoch 28/30\n",
            "750/750 [==============================] - 2s 3ms/step - loss: 0.0728 - accuracy: 0.9781 - val_loss: 0.0926 - val_accuracy: 0.9759\n",
            "Epoch 29/30\n",
            "750/750 [==============================] - 2s 3ms/step - loss: 0.0718 - accuracy: 0.9779 - val_loss: 0.0888 - val_accuracy: 0.9764\n",
            "Epoch 30/30\n",
            "750/750 [==============================] - 2s 3ms/step - loss: 0.0671 - accuracy: 0.9796 - val_loss: 0.0901 - val_accuracy: 0.9755\n"
          ],
          "name": "stdout"
        }
      ]
    },
    {
      "cell_type": "code",
      "metadata": {
        "id": "H5XFGa1D5yod",
        "outputId": "0c4fefa7-c5f2-44a7-b9d9-229af6f21eb3",
        "colab": {
          "base_uri": "https://localhost:8080/",
          "height": 590
        }
      },
      "source": [
        "import matplotlib.pyplot as plt\n",
        "%matplotlib inline\n",
        "# list all data in training\n",
        "print(training.history.keys())\n",
        "# summarize training for accuracy\n",
        "plt.plot(training.history['accuracy'])\n",
        "plt.plot(training.history['val_accuracy'])\n",
        "plt.title('model accuracy')\n",
        "plt.ylabel('accuracy')\n",
        "plt.xlabel('epoch')\n",
        "plt.legend(['train', 'test'], loc='upper left')\n",
        "plt.show()\n",
        "# summarize traning for loss\n",
        "plt.plot(training.history['loss'])\n",
        "plt.plot(training.history['val_loss'])\n",
        "plt.title('model loss')\n",
        "plt.ylabel('loss')\n",
        "plt.xlabel('epoch')\n",
        "plt.legend(['train', 'test'], loc='upper left')\n",
        "plt.show()"
      ],
      "execution_count": 65,
      "outputs": [
        {
          "output_type": "stream",
          "text": [
            "dict_keys(['loss', 'accuracy', 'val_loss', 'val_accuracy'])\n"
          ],
          "name": "stdout"
        },
        {
          "output_type": "display_data",
          "data": {
            "image/png": "[encoded data removed]",
            "text/plain": [
              "<Figure size 432x288 with 1 Axes>"
            ]
          },
          "metadata": {
            "tags": [],
            "needs_background": "light"
          }
        },
        {
          "output_type": "display_data",
          "data": {
            "image/png": "[encoded data removed]",
            "text/plain": [
              "<Figure size 432x288 with 1 Axes>"
            ]
          },
          "metadata": {
            "tags": [],
            "needs_background": "light"
          }
        }
      ]
    },
    {
      "cell_type": "code",
      "metadata": {
        "id": "wwHGdWTi51II",
        "outputId": "73a3e07e-207e-421e-93fb-d227af7a75db",
        "colab": {
          "base_uri": "https://localhost:8080/"
        }
      },
      "source": [
        "#evaluate the model\n",
        "test_loss, test_acc = model_7.evaluate(X_test, Y_test)\n",
        "print('Test accuracy:', test_acc)"
      ],
      "execution_count": 66,
      "outputs": [
        {
          "output_type": "stream",
          "text": [
            "313/313 [==============================] - 1s 2ms/step - loss: 0.3562 - accuracy: 0.8773\n",
            "Test accuracy: 0.8773000240325928\n"
          ],
          "name": "stdout"
        }
      ]
    },
    {
      "cell_type": "markdown",
      "metadata": {
        "id": "zrF3Wc4d53NW"
      },
      "source": [
        "I improved the model by adding an additional hidden layer to the model. The loss is reduced and the test accuracy is higher than the train accuracy."
      ]
    },
    {
      "cell_type": "markdown",
      "metadata": {
        "id": "8obuwIs3LzKM"
      },
      "source": [
        "**Marks: 15**\n",
        ">- Try improving the model and re-code the program from scratch without looking too much at this source-code.\n",
        "- Write up a summary explaining how your program works.\n"
      ]
    },
    {
      "cell_type": "markdown",
      "metadata": {
        "id": "OFeLvye1L3uN"
      },
      "source": [
        "###**`.ipynb file 3`**\n",
        "\n"
      ]
    },
    {
      "cell_type": "markdown",
      "metadata": {
        "id": "hrekQjasL8-w"
      },
      "source": [
        "**Marks: 25**\n",
        ">**Problem Statement**<br>\n",
        "The dataset is similar to MNIST, but includes images of certain clothing and accessory. The objective is to classify images into specific classes using single layer perceptron and multilayer perceptron.<br>\n",
        "<br>\n",
        "**Dataset Description**\n",
        "- Total Images: 70,000 \n",
        "- Train Images: 60,000 \n",
        "- Test Images: 10,000 \n",
        "- Image Size: 28 X 28 \n",
        "- Classes: 'T-shirt/top', 'Trouser', 'Pullover', 'Dress', 'Coat', 'Sandal', 'Shirt', 'Sneaker', 'Bag', 'Ankle Boot' \n",
        "\n",
        ">**Tasks to be Performed:**\n",
        "As a part of this assignment you will be performing the following tasks:\n",
        "- Prepare a detailed python notebook(similar to this one) using muli-layer perceptron for classifing the images from [MNIST Fashion Dataset ](https://github.com/zalandoresearch/fashion-mnist) with best accuracy\n",
        "- Prepare the dataset for the model\n",
        "- Develop Single Layer Perceptron model for classifying the handwritten digits\n",
        "- Plot the change in accuracy per epochs\n",
        "- Evaluate the model on the testing data\n",
        "- Analyse the model summary\n",
        "- Add hidden layer to the model to make it Multi-Layer Perceptron\n",
        "- Add Dropout to prevent overfitting and check its effect on accuracy\n",
        "- Increasing the number of Hidden Layer neuron and check its effect on accuracy\n",
        "- Use different optimizers and check its effect on accuracy\n",
        "- Increase the hidden layers and check its effect on accuracy\n",
        "- Manipulate the batch_size and epochs and check its effect on accuracy\n",
        "\n",
        "**Answer:** What parameters should be choosen to get best accuracy on classifying the images into various categories?\n",
        " \n",
        "\n",
        "\n",
        "> **Parameters of Model 4 had the best accuracy in classification:**\n",
        "- Number of hidden layers = 512\n",
        "- Number of dense layers: 3\n",
        "- Optimizer: Adam\n",
        "- Epochs: 31\n",
        "- Batch Size: 128\n",
        "- Validation Split: 0.2\n"
      ]
    },
    {
      "cell_type": "code",
      "metadata": {
        "id": "iG6nBkRLRut6"
      },
      "source": [
        ""
      ],
      "execution_count": null,
      "outputs": []
    }
  ]
}