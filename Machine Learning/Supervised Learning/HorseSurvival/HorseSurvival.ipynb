{
 "cells": [
  {
   "cell_type": "markdown",
   "metadata": {},
   "source": [
    "# Predicting Outcome of Survival of Horses by Decision Tree and Random Forest Classification"
   ]
  },
  {
   "cell_type": "code",
   "execution_count": 1,
   "metadata": {},
   "outputs": [],
   "source": [
    "import numpy as np \n",
    "import pandas as pd \n",
    "import matplotlib.pyplot as plt\n",
    "import seaborn as sns\n",
    "import sklearn"
   ]
  },
  {
   "cell_type": "code",
   "execution_count": 2,
   "metadata": {},
   "outputs": [],
   "source": [
    "horse = pd.read_csv('horse.csv')"
   ]
  },
  {
   "cell_type": "code",
   "execution_count": 3,
   "metadata": {},
   "outputs": [
    {
     "data": {
      "text/plain": [
       "Index(['surgery', 'age', 'hospital_number', 'rectal_temp', 'pulse',\n",
       "       'respiratory_rate', 'temp_of_extremities', 'peripheral_pulse',\n",
       "       'mucous_membrane', 'capillary_refill_time', 'pain', 'peristalsis',\n",
       "       'abdominal_distention', 'nasogastric_tube', 'nasogastric_reflux',\n",
       "       'nasogastric_reflux_ph', 'rectal_exam_feces', 'abdomen',\n",
       "       'packed_cell_volume', 'total_protein', 'abdomo_appearance',\n",
       "       'abdomo_protein', 'outcome', 'surgical_lesion', 'lesion_1', 'lesion_2',\n",
       "       'lesion_3', 'cp_data'],\n",
       "      dtype='object')"
      ]
     },
     "execution_count": 3,
     "metadata": {},
     "output_type": "execute_result"
    }
   ],
   "source": [
    "horse.columns"
   ]
  },
  {
   "cell_type": "code",
   "execution_count": 4,
   "metadata": {
    "scrolled": true
   },
   "outputs": [
    {
     "data": {
      "text/plain": [
       "surgery                    0\n",
       "age                        0\n",
       "hospital_number            0\n",
       "rectal_temp               60\n",
       "pulse                     24\n",
       "respiratory_rate          58\n",
       "temp_of_extremities       56\n",
       "peripheral_pulse          69\n",
       "mucous_membrane           47\n",
       "capillary_refill_time     32\n",
       "pain                      55\n",
       "peristalsis               44\n",
       "abdominal_distention      56\n",
       "nasogastric_tube         104\n",
       "nasogastric_reflux       106\n",
       "nasogastric_reflux_ph    246\n",
       "rectal_exam_feces        102\n",
       "abdomen                  118\n",
       "packed_cell_volume        29\n",
       "total_protein             33\n",
       "abdomo_appearance        165\n",
       "abdomo_protein           198\n",
       "outcome                    0\n",
       "surgical_lesion            0\n",
       "lesion_1                   0\n",
       "lesion_2                   0\n",
       "lesion_3                   0\n",
       "cp_data                    0\n",
       "dtype: int64"
      ]
     },
     "execution_count": 4,
     "metadata": {},
     "output_type": "execute_result"
    }
   ],
   "source": [
    "#Count values where isnull\n",
    "horse.isnull().sum()"
   ]
  },
  {
   "cell_type": "code",
   "execution_count": 5,
   "metadata": {},
   "outputs": [],
   "source": [
    "from sklearn.impute import SimpleImputer\n",
    "\n",
    "X = horse.drop(['outcome'], axis = 1)\n",
    "\n",
    "imp_mostfreq = SimpleImputer(missing_values = np.nan, strategy = 'most_frequent')\n",
    "imp_mostfreq.fit(X)\n",
    "X_imp = imp_mostfreq.transform(X)"
   ]
  },
  {
   "cell_type": "code",
   "execution_count": 6,
   "metadata": {},
   "outputs": [],
   "source": [
    "from sklearn import preprocessing\n",
    "from sklearn.preprocessing import OneHotEncoder\n",
    "\n",
    "enc = OneHotEncoder(handle_unknown='ignore')\n",
    "enc.fit(X_imp)\n",
    "\n",
    "x = enc.transform(X_imp).toarray()"
   ]
  },
  {
   "cell_type": "code",
   "execution_count": 7,
   "metadata": {},
   "outputs": [],
   "source": [
    "y = horse['outcome']"
   ]
  },
  {
   "cell_type": "code",
   "execution_count": 8,
   "metadata": {},
   "outputs": [
    {
     "data": {
      "text/plain": [
       "array(['died', 'euthanized', 'lived'], dtype=object)"
      ]
     },
     "execution_count": 8,
     "metadata": {},
     "output_type": "execute_result"
    }
   ],
   "source": [
    "from sklearn import preprocessing\n",
    "le = preprocessing.LabelEncoder()\n",
    "le.fit(y)\n",
    "le.classes_"
   ]
  },
  {
   "cell_type": "code",
   "execution_count": 9,
   "metadata": {},
   "outputs": [
    {
     "data": {
      "text/plain": [
       "array([0, 1, 2, 0, 0, 2, 2, 0, 1, 2, 2, 2, 2, 0, 2, 0, 0, 2, 2, 2, 2, 2,\n",
       "       2, 2, 2, 2, 2, 2, 0, 2, 0, 1, 2, 2, 2, 1, 1, 2, 2, 0, 0, 2, 2, 1,\n",
       "       1, 0, 2, 2, 0, 0, 2, 0, 2, 2, 1, 0, 2, 0, 0, 0, 2, 2, 0, 1, 2, 2,\n",
       "       2, 2, 2, 2, 1, 2, 0, 0, 0, 1, 2, 2, 0, 2, 0, 2, 2, 0, 2, 2, 0, 1,\n",
       "       2, 2, 2, 0, 2, 0, 2, 2, 2, 1, 2, 2, 2, 1, 2, 2, 0, 2, 2, 2, 1, 0,\n",
       "       0, 2, 2, 0, 2, 2, 2, 1, 2, 2, 2, 1, 2, 0, 1, 2, 2, 2, 1, 2, 0, 0,\n",
       "       2, 0, 0, 0, 2, 2, 2, 2, 0, 0, 2, 1, 2, 2, 0, 2, 2, 2, 0, 2, 2, 2,\n",
       "       2, 2, 1, 2, 2, 2, 0, 2, 1, 2, 1, 2, 2, 2, 1, 2, 0, 2, 0, 0, 2, 2,\n",
       "       0, 2, 1, 0, 2, 0, 2, 2, 2, 2, 2, 2, 2, 2, 2, 2, 0, 2, 2, 1, 0, 2,\n",
       "       2, 2, 0, 1, 2, 2, 1, 2, 0, 1, 2, 0, 0, 2, 2, 2, 2, 2, 2, 1, 2, 1,\n",
       "       2, 2, 2, 2, 2, 0, 2, 1, 2, 2, 0, 2, 2, 2, 0, 2, 2, 1, 1, 0, 2, 0,\n",
       "       2, 2, 0, 2, 0, 2, 2, 1, 0, 0, 2, 2, 0, 1, 0, 2, 0, 2, 2, 2, 0, 2,\n",
       "       1, 2, 2, 2, 2, 0, 2, 2, 0, 1, 0, 1, 2, 2, 2, 2, 0, 0, 2, 2, 2, 1,\n",
       "       2, 2, 2, 2, 0, 0, 1, 2, 1, 1, 0, 2, 1])"
      ]
     },
     "execution_count": 9,
     "metadata": {},
     "output_type": "execute_result"
    }
   ],
   "source": [
    "le.transform(y)"
   ]
  },
  {
   "cell_type": "code",
   "execution_count": 10,
   "metadata": {},
   "outputs": [],
   "source": [
    "from sklearn.model_selection import train_test_split\n",
    "\n",
    "X_train, X_test, y_train, y_test = train_test_split(x, y, test_size=0.20, random_state=5)"
   ]
  },
  {
   "cell_type": "code",
   "execution_count": 33,
   "metadata": {},
   "outputs": [],
   "source": [
    "from sklearn import tree\n",
    "DTclf = tree.DecisionTreeClassifier()\n",
    "DTclf = clf.fit(X_train, y_train)"
   ]
  },
  {
   "cell_type": "code",
   "execution_count": 60,
   "metadata": {},
   "outputs": [],
   "source": [
    "DTpred_y = DTclf.predict(X_test)"
   ]
  },
  {
   "cell_type": "code",
   "execution_count": 61,
   "metadata": {},
   "outputs": [],
   "source": [
    "DTproba_y = DTclf.predict_proba(X_test)"
   ]
  },
  {
   "cell_type": "code",
   "execution_count": 39,
   "metadata": {},
   "outputs": [
    {
     "data": {
      "text/plain": [
       "[Text(286.8658288043478, 210.645, 'X[656] <= 0.5\\ngini = 0.558\\nsamples = 239\\nvalue = [62, 35, 142]'),\n",
       " Text(257.85513586956523, 197.055, 'X[675] <= 0.5\\ngini = 0.615\\nsamples = 193\\nvalue = [61, 35, 97]'),\n",
       " Text(217.30157608695652, 183.465, 'X[439] <= 0.5\\ngini = 0.639\\nsamples = 166\\nvalue = [60, 34, 72]'),\n",
       " Text(179.1361956521739, 169.875, 'X[614] <= 0.5\\ngini = 0.645\\nsamples = 94\\nvalue = [42, 23, 29]'),\n",
       " Text(145.74717391304347, 156.285, 'X[689] <= 0.5\\ngini = 0.638\\nsamples = 85\\nvalue = [40, 23, 22]'),\n",
       " Text(139.9245652173913, 142.695, 'X[446] <= 0.5\\ngini = 0.652\\nsamples = 79\\nvalue = [34, 23, 22]'),\n",
       " Text(90.61434782608696, 129.10500000000002, 'X[0] <= 0.5\\ngini = 0.619\\nsamples = 59\\nvalue = [30, 13, 16]'),\n",
       " Text(35.66347826086957, 115.515, 'X[655] <= 0.5\\ngini = 0.557\\nsamples = 43\\nvalue = [25, 5, 13]'),\n",
       " Text(11.645217391304348, 101.925, 'X[434] <= 0.5\\ngini = 0.375\\nsamples = 4\\nvalue = [1, 3, 0]'),\n",
       " Text(5.822608695652174, 88.33500000000001, 'gini = 0.0\\nsamples = 1\\nvalue = [1, 0, 0]'),\n",
       " Text(17.46782608695652, 88.33500000000001, 'gini = 0.0\\nsamples = 3\\nvalue = [0, 3, 0]'),\n",
       " Text(59.681739130434785, 101.925, 'X[441] <= 0.5\\ngini = 0.508\\nsamples = 39\\nvalue = [24, 2, 13]'),\n",
       " Text(29.11304347826087, 88.33500000000001, 'X[476] <= 0.5\\ngini = 0.266\\nsamples = 19\\nvalue = [16, 0, 3]'),\n",
       " Text(17.46782608695652, 74.745, 'X[715] <= 0.5\\ngini = 0.117\\nsamples = 16\\nvalue = [15, 0, 1]'),\n",
       " Text(11.645217391304348, 61.155, 'gini = 0.0\\nsamples = 15\\nvalue = [15, 0, 0]'),\n",
       " Text(23.290434782608695, 61.155, 'gini = 0.0\\nsamples = 1\\nvalue = [0, 0, 1]'),\n",
       " Text(40.75826086956522, 74.745, 'X[71] <= 0.5\\ngini = 0.444\\nsamples = 3\\nvalue = [1, 0, 2]'),\n",
       " Text(34.93565217391304, 61.155, 'gini = 0.0\\nsamples = 2\\nvalue = [0, 0, 2]'),\n",
       " Text(46.58086956521739, 61.155, 'gini = 0.0\\nsamples = 1\\nvalue = [1, 0, 0]'),\n",
       " Text(90.25043478260869, 88.33500000000001, 'X[419] <= 0.5\\ngini = 0.58\\nsamples = 20\\nvalue = [8, 2, 10]'),\n",
       " Text(69.87130434782608, 74.745, 'X[623] <= 0.5\\ngini = 0.403\\nsamples = 12\\nvalue = [2, 1, 9]'),\n",
       " Text(58.22608695652174, 61.155, 'X[517] <= 0.5\\ngini = 0.444\\nsamples = 3\\nvalue = [2, 0, 1]'),\n",
       " Text(52.40347826086956, 47.565, 'gini = 0.0\\nsamples = 2\\nvalue = [2, 0, 0]'),\n",
       " Text(64.04869565217392, 47.565, 'gini = 0.0\\nsamples = 1\\nvalue = [0, 0, 1]'),\n",
       " Text(81.51652173913044, 61.155, 'X[298] <= 0.5\\ngini = 0.198\\nsamples = 9\\nvalue = [0, 1, 8]'),\n",
       " Text(75.69391304347826, 47.565, 'gini = 0.0\\nsamples = 8\\nvalue = [0, 0, 8]'),\n",
       " Text(87.3391304347826, 47.565, 'gini = 0.0\\nsamples = 1\\nvalue = [0, 1, 0]'),\n",
       " Text(110.6295652173913, 74.745, 'X[595] <= 0.5\\ngini = 0.406\\nsamples = 8\\nvalue = [6, 1, 1]'),\n",
       " Text(104.80695652173912, 61.155, 'X[430] <= 0.5\\ngini = 0.245\\nsamples = 7\\nvalue = [6, 0, 1]'),\n",
       " Text(98.98434782608696, 47.565, 'gini = 0.0\\nsamples = 6\\nvalue = [6, 0, 0]'),\n",
       " Text(110.6295652173913, 47.565, 'gini = 0.0\\nsamples = 1\\nvalue = [0, 0, 1]'),\n",
       " Text(116.45217391304348, 61.155, 'gini = 0.0\\nsamples = 1\\nvalue = [0, 1, 0]'),\n",
       " Text(145.56521739130434, 115.515, 'X[427] <= 0.5\\ngini = 0.617\\nsamples = 16\\nvalue = [5, 8, 3]'),\n",
       " Text(139.74260869565217, 101.925, 'X[438] <= 0.5\\ngini = 0.541\\nsamples = 14\\nvalue = [5, 8, 1]'),\n",
       " Text(128.09739130434784, 88.33500000000001, 'X[726] <= 0.5\\ngini = 0.397\\nsamples = 11\\nvalue = [3, 8, 0]'),\n",
       " Text(122.27478260869565, 74.745, 'gini = 0.0\\nsamples = 5\\nvalue = [0, 5, 0]'),\n",
       " Text(133.92, 74.745, 'X[479] <= 0.5\\ngini = 0.5\\nsamples = 6\\nvalue = [3, 3, 0]'),\n",
       " Text(128.09739130434784, 61.155, 'gini = 0.0\\nsamples = 2\\nvalue = [0, 2, 0]'),\n",
       " Text(139.74260869565217, 61.155, 'X[705] <= 0.5\\ngini = 0.375\\nsamples = 4\\nvalue = [3, 1, 0]'),\n",
       " Text(133.92, 47.565, 'gini = 0.0\\nsamples = 3\\nvalue = [3, 0, 0]'),\n",
       " Text(145.56521739130434, 47.565, 'gini = 0.0\\nsamples = 1\\nvalue = [0, 1, 0]'),\n",
       " Text(151.38782608695652, 88.33500000000001, 'X[541] <= 0.5\\ngini = 0.444\\nsamples = 3\\nvalue = [2, 0, 1]'),\n",
       " Text(145.56521739130434, 74.745, 'gini = 0.0\\nsamples = 2\\nvalue = [2, 0, 0]'),\n",
       " Text(157.2104347826087, 74.745, 'gini = 0.0\\nsamples = 1\\nvalue = [0, 0, 1]'),\n",
       " Text(151.38782608695652, 101.925, 'gini = 0.0\\nsamples = 2\\nvalue = [0, 0, 2]'),\n",
       " Text(189.23478260869564, 129.10500000000002, 'X[514] <= 0.5\\ngini = 0.62\\nsamples = 20\\nvalue = [4, 10, 6]'),\n",
       " Text(183.4121739130435, 115.515, 'X[1] <= 0.5\\ngini = 0.526\\nsamples = 17\\nvalue = [1, 10, 6]'),\n",
       " Text(168.85565217391303, 101.925, 'X[357] <= 0.5\\ngini = 0.375\\nsamples = 4\\nvalue = [1, 0, 3]'),\n",
       " Text(163.03304347826088, 88.33500000000001, 'gini = 0.0\\nsamples = 3\\nvalue = [0, 0, 3]'),\n",
       " Text(174.6782608695652, 88.33500000000001, 'gini = 0.0\\nsamples = 1\\nvalue = [1, 0, 0]'),\n",
       " Text(197.96869565217392, 101.925, 'X[618] <= 0.5\\ngini = 0.355\\nsamples = 13\\nvalue = [0, 10, 3]'),\n",
       " Text(186.32347826086956, 88.33500000000001, 'X[586] <= 0.5\\ngini = 0.18\\nsamples = 10\\nvalue = [0, 9, 1]'),\n",
       " Text(180.50086956521739, 74.745, 'gini = 0.0\\nsamples = 9\\nvalue = [0, 9, 0]'),\n",
       " Text(192.14608695652174, 74.745, 'gini = 0.0\\nsamples = 1\\nvalue = [0, 0, 1]'),\n",
       " Text(209.61391304347825, 88.33500000000001, 'X[401] <= 0.5\\ngini = 0.444\\nsamples = 3\\nvalue = [0, 1, 2]'),\n",
       " Text(203.7913043478261, 74.745, 'gini = 0.0\\nsamples = 2\\nvalue = [0, 0, 2]'),\n",
       " Text(215.43652173913043, 74.745, 'gini = 0.0\\nsamples = 1\\nvalue = [0, 1, 0]'),\n",
       " Text(195.05739130434782, 115.515, 'gini = 0.0\\nsamples = 3\\nvalue = [3, 0, 0]'),\n",
       " Text(151.56978260869565, 142.695, 'gini = 0.0\\nsamples = 6\\nvalue = [6, 0, 0]'),\n",
       " Text(212.52521739130435, 156.285, 'X[698] <= 0.5\\ngini = 0.346\\nsamples = 9\\nvalue = [2, 0, 7]'),\n",
       " Text(206.70260869565217, 142.695, 'X[59] <= 0.5\\ngini = 0.219\\nsamples = 8\\nvalue = [1, 0, 7]'),\n",
       " Text(200.88, 129.10500000000002, 'gini = 0.0\\nsamples = 7\\nvalue = [0, 0, 7]'),\n",
       " Text(212.52521739130435, 129.10500000000002, 'gini = 0.0\\nsamples = 1\\nvalue = [1, 0, 0]'),\n",
       " Text(218.34782608695653, 142.695, 'gini = 0.0\\nsamples = 1\\nvalue = [1, 0, 0]'),\n",
       " Text(255.46695652173912, 169.875, 'X[420] <= 0.5\\ngini = 0.557\\nsamples = 72\\nvalue = [18, 11, 43]'),\n",
       " Text(235.81565217391304, 156.285, 'X[605] <= 0.5\\ngini = 0.21\\nsamples = 26\\nvalue = [2, 1, 23]'),\n",
       " Text(229.99304347826086, 142.695, 'X[471] <= 0.5\\ngini = 0.147\\nsamples = 25\\nvalue = [2, 0, 23]'),\n",
       " Text(224.17043478260868, 129.10500000000002, 'X[353] <= 0.5\\ngini = 0.08\\nsamples = 24\\nvalue = [1, 0, 23]'),\n",
       " Text(218.34782608695653, 115.515, 'gini = 0.0\\nsamples = 23\\nvalue = [0, 0, 23]'),\n",
       " Text(229.99304347826086, 115.515, 'gini = 0.0\\nsamples = 1\\nvalue = [1, 0, 0]'),\n",
       " Text(235.81565217391304, 129.10500000000002, 'gini = 0.0\\nsamples = 1\\nvalue = [1, 0, 0]'),\n",
       " Text(241.63826086956522, 142.695, 'gini = 0.0\\nsamples = 1\\nvalue = [0, 1, 0]'),\n",
       " Text(275.11826086956523, 156.285, 'X[475] <= 0.5\\ngini = 0.643\\nsamples = 46\\nvalue = [16, 10, 20]'),\n",
       " Text(253.28347826086957, 142.695, 'X[341] <= 0.5\\ngini = 0.32\\nsamples = 10\\nvalue = [2, 0, 8]'),\n",
       " Text(247.4608695652174, 129.10500000000002, 'gini = 0.0\\nsamples = 7\\nvalue = [0, 0, 7]'),\n",
       " Text(259.1060869565217, 129.10500000000002, 'X[432] <= 0.5\\ngini = 0.444\\nsamples = 3\\nvalue = [2, 0, 1]'),\n",
       " Text(253.28347826086957, 115.515, 'gini = 0.0\\nsamples = 2\\nvalue = [2, 0, 0]'),\n",
       " Text(264.92869565217393, 115.515, 'gini = 0.0\\nsamples = 1\\nvalue = [0, 0, 1]'),\n",
       " Text(296.9530434782609, 142.695, 'X[479] <= 0.5\\ngini = 0.66\\nsamples = 36\\nvalue = [14, 10, 12]'),\n",
       " Text(282.39652173913043, 129.10500000000002, 'X[388] <= 0.5\\ngini = 0.469\\nsamples = 8\\nvalue = [0, 5, 3]'),\n",
       " Text(276.5739130434783, 115.515, 'X[350] <= 0.5\\ngini = 0.375\\nsamples = 4\\nvalue = [0, 1, 3]'),\n",
       " Text(270.7513043478261, 101.925, 'gini = 0.0\\nsamples = 3\\nvalue = [0, 0, 3]'),\n",
       " Text(282.39652173913043, 101.925, 'gini = 0.0\\nsamples = 1\\nvalue = [0, 1, 0]'),\n",
       " Text(288.2191304347826, 115.515, 'gini = 0.0\\nsamples = 4\\nvalue = [0, 4, 0]'),\n",
       " Text(311.5095652173913, 129.10500000000002, 'X[387] <= 0.5\\ngini = 0.615\\nsamples = 28\\nvalue = [14, 5, 9]'),\n",
       " Text(305.68695652173915, 115.515, 'X[435] <= 0.5\\ngini = 0.589\\nsamples = 25\\nvalue = [14, 5, 6]'),\n",
       " Text(294.0417391304348, 101.925, 'X[330] <= 0.5\\ngini = 0.515\\nsamples = 20\\nvalue = [13, 3, 4]'),\n",
       " Text(288.2191304347826, 88.33500000000001, 'X[209] <= 0.5\\ngini = 0.476\\nsamples = 19\\nvalue = [13, 2, 4]'),\n",
       " Text(282.39652173913043, 74.745, 'X[404] <= 0.5\\ngini = 0.426\\nsamples = 18\\nvalue = [13, 1, 4]'),\n",
       " Text(276.5739130434783, 61.155, 'X[667] <= 0.5\\ngini = 0.36\\nsamples = 17\\nvalue = [13, 0, 4]'),\n",
       " Text(270.7513043478261, 47.565, 'X[413] <= 0.5\\ngini = 0.305\\nsamples = 16\\nvalue = [13, 0, 3]'),\n",
       " Text(264.92869565217393, 33.974999999999994, 'X[267] <= 0.5\\ngini = 0.231\\nsamples = 15\\nvalue = [13, 0, 2]'),\n",
       " Text(259.1060869565217, 20.38499999999999, 'X[28] <= 0.5\\ngini = 0.133\\nsamples = 14\\nvalue = [13, 0, 1]'),\n",
       " Text(253.28347826086957, 6.7949999999999875, 'gini = 0.0\\nsamples = 13\\nvalue = [13, 0, 0]'),\n",
       " Text(264.92869565217393, 6.7949999999999875, 'gini = 0.0\\nsamples = 1\\nvalue = [0, 0, 1]'),\n",
       " Text(270.7513043478261, 20.38499999999999, 'gini = 0.0\\nsamples = 1\\nvalue = [0, 0, 1]'),\n",
       " Text(276.5739130434783, 33.974999999999994, 'gini = 0.0\\nsamples = 1\\nvalue = [0, 0, 1]'),\n",
       " Text(282.39652173913043, 47.565, 'gini = 0.0\\nsamples = 1\\nvalue = [0, 0, 1]'),\n",
       " Text(288.2191304347826, 61.155, 'gini = 0.0\\nsamples = 1\\nvalue = [0, 1, 0]'),\n",
       " Text(294.0417391304348, 74.745, 'gini = 0.0\\nsamples = 1\\nvalue = [0, 1, 0]'),\n",
       " Text(299.86434782608694, 88.33500000000001, 'gini = 0.0\\nsamples = 1\\nvalue = [0, 1, 0]'),\n",
       " Text(317.33217391304345, 101.925, 'X[615] <= 0.5\\ngini = 0.64\\nsamples = 5\\nvalue = [1, 2, 2]'),\n",
       " Text(311.5095652173913, 88.33500000000001, 'gini = 0.0\\nsamples = 2\\nvalue = [0, 0, 2]'),\n",
       " Text(323.15478260869565, 88.33500000000001, 'X[137] <= 0.5\\ngini = 0.444\\nsamples = 3\\nvalue = [1, 2, 0]'),\n",
       " Text(317.33217391304345, 74.745, 'gini = 0.0\\nsamples = 2\\nvalue = [0, 2, 0]'),\n",
       " Text(328.9773913043478, 74.745, 'gini = 0.0\\nsamples = 1\\nvalue = [1, 0, 0]'),\n",
       " Text(317.33217391304345, 115.515, 'gini = 0.0\\nsamples = 3\\nvalue = [0, 0, 3]'),\n",
       " Text(298.4086956521739, 183.465, 'X[216] <= 0.5\\ngini = 0.14\\nsamples = 27\\nvalue = [1, 1, 25]'),\n",
       " Text(292.58608695652174, 169.875, 'X[505] <= 0.5\\ngini = 0.074\\nsamples = 26\\nvalue = [1, 0, 25]'),\n",
       " Text(286.7634782608696, 156.285, 'gini = 0.0\\nsamples = 25\\nvalue = [0, 0, 25]'),\n",
       " Text(298.4086956521739, 156.285, 'gini = 0.0\\nsamples = 1\\nvalue = [1, 0, 0]'),\n",
       " Text(304.2313043478261, 169.875, 'gini = 0.0\\nsamples = 1\\nvalue = [0, 1, 0]'),\n",
       " Text(315.87652173913045, 197.055, 'X[272] <= 0.5\\ngini = 0.043\\nsamples = 46\\nvalue = [1, 0, 45]'),\n",
       " Text(310.05391304347825, 183.465, 'gini = 0.0\\nsamples = 45\\nvalue = [0, 0, 45]'),\n",
       " Text(321.6991304347826, 183.465, 'gini = 0.0\\nsamples = 1\\nvalue = [1, 0, 0]')]"
      ]
     },
     "execution_count": 39,
     "metadata": {},
     "output_type": "execute_result"
    },
    {
     "data": {
      "image/png": "[encoded data removed]",
      "text/plain": [
       "<Figure size 432x288 with 1 Axes>"
      ]
     },
     "metadata": {
      "needs_background": "light"
     },
     "output_type": "display_data"
    }
   ],
   "source": [
    "tree.plot_tree(DTclf)"
   ]
  },
  {
   "cell_type": "code",
   "execution_count": 57,
   "metadata": {},
   "outputs": [
    {
     "data": {
      "text/plain": [
       "0.6166666666666667"
      ]
     },
     "execution_count": 57,
     "metadata": {},
     "output_type": "execute_result"
    }
   ],
   "source": [
    "DTclf.score(X_test,y_test)"
   ]
  },
  {
   "cell_type": "code",
   "execution_count": 41,
   "metadata": {},
   "outputs": [],
   "source": [
    "from sklearn.ensemble import RandomForestClassifier\n",
    "from sklearn.datasets import make_classification"
   ]
  },
  {
   "cell_type": "code",
   "execution_count": 51,
   "metadata": {},
   "outputs": [
    {
     "data": {
      "text/plain": [
       "RandomForestClassifier(bootstrap=True, ccp_alpha=0.0, class_weight=None,\n",
       "                       criterion='gini', max_depth=5, max_features='auto',\n",
       "                       max_leaf_nodes=None, max_samples=None,\n",
       "                       min_impurity_decrease=0.0, min_impurity_split=None,\n",
       "                       min_samples_leaf=1, min_samples_split=2,\n",
       "                       min_weight_fraction_leaf=0.0, n_estimators=100,\n",
       "                       n_jobs=None, oob_score=False, random_state=0, verbose=0,\n",
       "                       warm_start=False)"
      ]
     },
     "execution_count": 51,
     "metadata": {},
     "output_type": "execute_result"
    }
   ],
   "source": [
    "RFclf = RandomForestClassifier(max_depth=5, random_state=0)\n",
    "RFclf.fit(X_train, y_train)"
   ]
  },
  {
   "cell_type": "code",
   "execution_count": 52,
   "metadata": {},
   "outputs": [],
   "source": [
    "RFpred_y = RFclf.predict(X_test)"
   ]
  },
  {
   "cell_type": "code",
   "execution_count": 53,
   "metadata": {},
   "outputs": [],
   "source": [
    "RFproba_Y = RFclf.predict_proba(X_test)"
   ]
  },
  {
   "cell_type": "code",
   "execution_count": 58,
   "metadata": {},
   "outputs": [
    {
     "data": {
      "text/plain": [
       "0.65"
      ]
     },
     "execution_count": 58,
     "metadata": {},
     "output_type": "execute_result"
    }
   ],
   "source": [
    "RFclf.score(X_test,y_test)"
   ]
  },
  {
   "cell_type": "code",
   "execution_count": 62,
   "metadata": {},
   "outputs": [
    {
     "data": {
      "text/plain": [
       "array([[ 8,  1,  6],\n",
       "       [ 3,  2,  4],\n",
       "       [ 7,  2, 27]])"
      ]
     },
     "execution_count": 62,
     "metadata": {},
     "output_type": "execute_result"
    }
   ],
   "source": [
    "from sklearn.metrics import confusion_matrix\n",
    "confusion_matrix(y_test, DTpred_y)"
   ]
  },
  {
   "cell_type": "code",
   "execution_count": 63,
   "metadata": {},
   "outputs": [
    {
     "data": {
      "text/plain": [
       "array([[ 3,  0, 12],\n",
       "       [ 0,  0,  9],\n",
       "       [ 0,  0, 36]])"
      ]
     },
     "execution_count": 63,
     "metadata": {},
     "output_type": "execute_result"
    }
   ],
   "source": [
    "confusion_matrix(y_test, RFpred_y)"
   ]
  }
 ],
 "metadata": {
  "kernelspec": {
   "display_name": "Python 3",
   "language": "python",
   "name": "python3"
  },
  "language_info": {
   "codemirror_mode": {
    "name": "ipython",
    "version": 3
   },
   "file_extension": ".py",
   "mimetype": "text/x-python",
   "name": "python",
   "nbconvert_exporter": "python",
   "pygments_lexer": "ipython3",
   "version": "3.7.6"
  }
 },
 "nbformat": 4,
 "nbformat_minor": 4
}
